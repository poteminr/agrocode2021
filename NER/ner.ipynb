{
  "nbformat": 4,
  "nbformat_minor": 0,
  "metadata": {
    "colab": {
      "name": "ner.ipynb",
      "provenance": [],
      "collapsed_sections": []
    },
    "kernelspec": {
      "name": "python3",
      "display_name": "Python 3"
    },
    "language_info": {
      "name": "python"
    },
    "accelerator": "GPU",
    "widgets": {
      "application/vnd.jupyter.widget-state+json": {
        "2f0f04aa3d69443b80e39962d0214e7f": {
          "model_module": "@jupyter-widgets/controls",
          "model_name": "HBoxModel",
          "model_module_version": "1.5.0",
          "state": {
            "_view_name": "HBoxView",
            "_dom_classes": [],
            "_model_name": "HBoxModel",
            "_view_module": "@jupyter-widgets/controls",
            "_model_module_version": "1.5.0",
            "_view_count": null,
            "_view_module_version": "1.5.0",
            "box_style": "",
            "layout": "IPY_MODEL_1e6477304413421f8060349c2508cfbd",
            "_model_module": "@jupyter-widgets/controls",
            "children": [
              "IPY_MODEL_f5e265a6a1c84d65b78f5c296e7afeb4",
              "IPY_MODEL_77c186a55b714f3fa919b7335559586f",
              "IPY_MODEL_bc263a81425041878749ac4a5e1e860d"
            ]
          }
        },
        "1e6477304413421f8060349c2508cfbd": {
          "model_module": "@jupyter-widgets/base",
          "model_name": "LayoutModel",
          "model_module_version": "1.2.0",
          "state": {
            "_view_name": "LayoutView",
            "grid_template_rows": null,
            "right": null,
            "justify_content": null,
            "_view_module": "@jupyter-widgets/base",
            "overflow": null,
            "_model_module_version": "1.2.0",
            "_view_count": null,
            "flex_flow": null,
            "width": null,
            "min_width": null,
            "border": null,
            "align_items": null,
            "bottom": null,
            "_model_module": "@jupyter-widgets/base",
            "top": null,
            "grid_column": null,
            "overflow_y": null,
            "overflow_x": null,
            "grid_auto_flow": null,
            "grid_area": null,
            "grid_template_columns": null,
            "flex": null,
            "_model_name": "LayoutModel",
            "justify_items": null,
            "grid_row": null,
            "max_height": null,
            "align_content": null,
            "visibility": null,
            "align_self": null,
            "height": null,
            "min_height": null,
            "padding": null,
            "grid_auto_rows": null,
            "grid_gap": null,
            "max_width": null,
            "order": null,
            "_view_module_version": "1.2.0",
            "grid_template_areas": null,
            "object_position": null,
            "object_fit": null,
            "grid_auto_columns": null,
            "margin": null,
            "display": null,
            "left": null
          }
        },
        "f5e265a6a1c84d65b78f5c296e7afeb4": {
          "model_module": "@jupyter-widgets/controls",
          "model_name": "HTMLModel",
          "model_module_version": "1.5.0",
          "state": {
            "_view_name": "HTMLView",
            "style": "IPY_MODEL_5863f9f5e66e4a1e818f6aafd3c1c45d",
            "_dom_classes": [],
            "description": "",
            "_model_name": "HTMLModel",
            "placeholder": "​",
            "_view_module": "@jupyter-widgets/controls",
            "_model_module_version": "1.5.0",
            "value": "100%",
            "_view_count": null,
            "_view_module_version": "1.5.0",
            "description_tooltip": null,
            "_model_module": "@jupyter-widgets/controls",
            "layout": "IPY_MODEL_9605e75caae24c5ca923749e166fbb91"
          }
        },
        "77c186a55b714f3fa919b7335559586f": {
          "model_module": "@jupyter-widgets/controls",
          "model_name": "FloatProgressModel",
          "model_module_version": "1.5.0",
          "state": {
            "_view_name": "ProgressView",
            "style": "IPY_MODEL_d63883a95594477c9e6d6f3c97c854a0",
            "_dom_classes": [],
            "description": "",
            "_model_name": "FloatProgressModel",
            "bar_style": "success",
            "max": 1,
            "_view_module": "@jupyter-widgets/controls",
            "_model_module_version": "1.5.0",
            "value": 1,
            "_view_count": null,
            "_view_module_version": "1.5.0",
            "orientation": "horizontal",
            "min": 0,
            "description_tooltip": null,
            "_model_module": "@jupyter-widgets/controls",
            "layout": "IPY_MODEL_5adea537f0794a31a68d7e338ccc3f03"
          }
        },
        "bc263a81425041878749ac4a5e1e860d": {
          "model_module": "@jupyter-widgets/controls",
          "model_name": "HTMLModel",
          "model_module_version": "1.5.0",
          "state": {
            "_view_name": "HTMLView",
            "style": "IPY_MODEL_11c3177e6a6248e5ac04a6b459bcbfb8",
            "_dom_classes": [],
            "description": "",
            "_model_name": "HTMLModel",
            "placeholder": "​",
            "_view_module": "@jupyter-widgets/controls",
            "_model_module_version": "1.5.0",
            "value": " 1/1 [00:00&lt;00:00,  3.36ba/s]",
            "_view_count": null,
            "_view_module_version": "1.5.0",
            "description_tooltip": null,
            "_model_module": "@jupyter-widgets/controls",
            "layout": "IPY_MODEL_8466c676e8ae41f1950e4e029c6c957b"
          }
        },
        "5863f9f5e66e4a1e818f6aafd3c1c45d": {
          "model_module": "@jupyter-widgets/controls",
          "model_name": "DescriptionStyleModel",
          "model_module_version": "1.5.0",
          "state": {
            "_view_name": "StyleView",
            "_model_name": "DescriptionStyleModel",
            "description_width": "",
            "_view_module": "@jupyter-widgets/base",
            "_model_module_version": "1.5.0",
            "_view_count": null,
            "_view_module_version": "1.2.0",
            "_model_module": "@jupyter-widgets/controls"
          }
        },
        "9605e75caae24c5ca923749e166fbb91": {
          "model_module": "@jupyter-widgets/base",
          "model_name": "LayoutModel",
          "model_module_version": "1.2.0",
          "state": {
            "_view_name": "LayoutView",
            "grid_template_rows": null,
            "right": null,
            "justify_content": null,
            "_view_module": "@jupyter-widgets/base",
            "overflow": null,
            "_model_module_version": "1.2.0",
            "_view_count": null,
            "flex_flow": null,
            "width": null,
            "min_width": null,
            "border": null,
            "align_items": null,
            "bottom": null,
            "_model_module": "@jupyter-widgets/base",
            "top": null,
            "grid_column": null,
            "overflow_y": null,
            "overflow_x": null,
            "grid_auto_flow": null,
            "grid_area": null,
            "grid_template_columns": null,
            "flex": null,
            "_model_name": "LayoutModel",
            "justify_items": null,
            "grid_row": null,
            "max_height": null,
            "align_content": null,
            "visibility": null,
            "align_self": null,
            "height": null,
            "min_height": null,
            "padding": null,
            "grid_auto_rows": null,
            "grid_gap": null,
            "max_width": null,
            "order": null,
            "_view_module_version": "1.2.0",
            "grid_template_areas": null,
            "object_position": null,
            "object_fit": null,
            "grid_auto_columns": null,
            "margin": null,
            "display": null,
            "left": null
          }
        },
        "d63883a95594477c9e6d6f3c97c854a0": {
          "model_module": "@jupyter-widgets/controls",
          "model_name": "ProgressStyleModel",
          "model_module_version": "1.5.0",
          "state": {
            "_view_name": "StyleView",
            "_model_name": "ProgressStyleModel",
            "description_width": "",
            "_view_module": "@jupyter-widgets/base",
            "_model_module_version": "1.5.0",
            "_view_count": null,
            "_view_module_version": "1.2.0",
            "bar_color": null,
            "_model_module": "@jupyter-widgets/controls"
          }
        },
        "5adea537f0794a31a68d7e338ccc3f03": {
          "model_module": "@jupyter-widgets/base",
          "model_name": "LayoutModel",
          "model_module_version": "1.2.0",
          "state": {
            "_view_name": "LayoutView",
            "grid_template_rows": null,
            "right": null,
            "justify_content": null,
            "_view_module": "@jupyter-widgets/base",
            "overflow": null,
            "_model_module_version": "1.2.0",
            "_view_count": null,
            "flex_flow": null,
            "width": null,
            "min_width": null,
            "border": null,
            "align_items": null,
            "bottom": null,
            "_model_module": "@jupyter-widgets/base",
            "top": null,
            "grid_column": null,
            "overflow_y": null,
            "overflow_x": null,
            "grid_auto_flow": null,
            "grid_area": null,
            "grid_template_columns": null,
            "flex": null,
            "_model_name": "LayoutModel",
            "justify_items": null,
            "grid_row": null,
            "max_height": null,
            "align_content": null,
            "visibility": null,
            "align_self": null,
            "height": null,
            "min_height": null,
            "padding": null,
            "grid_auto_rows": null,
            "grid_gap": null,
            "max_width": null,
            "order": null,
            "_view_module_version": "1.2.0",
            "grid_template_areas": null,
            "object_position": null,
            "object_fit": null,
            "grid_auto_columns": null,
            "margin": null,
            "display": null,
            "left": null
          }
        },
        "11c3177e6a6248e5ac04a6b459bcbfb8": {
          "model_module": "@jupyter-widgets/controls",
          "model_name": "DescriptionStyleModel",
          "model_module_version": "1.5.0",
          "state": {
            "_view_name": "StyleView",
            "_model_name": "DescriptionStyleModel",
            "description_width": "",
            "_view_module": "@jupyter-widgets/base",
            "_model_module_version": "1.5.0",
            "_view_count": null,
            "_view_module_version": "1.2.0",
            "_model_module": "@jupyter-widgets/controls"
          }
        },
        "8466c676e8ae41f1950e4e029c6c957b": {
          "model_module": "@jupyter-widgets/base",
          "model_name": "LayoutModel",
          "model_module_version": "1.2.0",
          "state": {
            "_view_name": "LayoutView",
            "grid_template_rows": null,
            "right": null,
            "justify_content": null,
            "_view_module": "@jupyter-widgets/base",
            "overflow": null,
            "_model_module_version": "1.2.0",
            "_view_count": null,
            "flex_flow": null,
            "width": null,
            "min_width": null,
            "border": null,
            "align_items": null,
            "bottom": null,
            "_model_module": "@jupyter-widgets/base",
            "top": null,
            "grid_column": null,
            "overflow_y": null,
            "overflow_x": null,
            "grid_auto_flow": null,
            "grid_area": null,
            "grid_template_columns": null,
            "flex": null,
            "_model_name": "LayoutModel",
            "justify_items": null,
            "grid_row": null,
            "max_height": null,
            "align_content": null,
            "visibility": null,
            "align_self": null,
            "height": null,
            "min_height": null,
            "padding": null,
            "grid_auto_rows": null,
            "grid_gap": null,
            "max_width": null,
            "order": null,
            "_view_module_version": "1.2.0",
            "grid_template_areas": null,
            "object_position": null,
            "object_fit": null,
            "grid_auto_columns": null,
            "margin": null,
            "display": null,
            "left": null
          }
        },
        "49078f369580402aadb7b155b4fa28a8": {
          "model_module": "@jupyter-widgets/controls",
          "model_name": "HBoxModel",
          "model_module_version": "1.5.0",
          "state": {
            "_view_name": "HBoxView",
            "_dom_classes": [],
            "_model_name": "HBoxModel",
            "_view_module": "@jupyter-widgets/controls",
            "_model_module_version": "1.5.0",
            "_view_count": null,
            "_view_module_version": "1.5.0",
            "box_style": "",
            "layout": "IPY_MODEL_d42733d79a2649998a6a3566c2f0770b",
            "_model_module": "@jupyter-widgets/controls",
            "children": [
              "IPY_MODEL_f00be7c9fa3e4e61bd434eec42145c9a",
              "IPY_MODEL_f1e35fca9b344423ae6eef4384026198",
              "IPY_MODEL_9520345ec378417793f2274d92eb7ea6"
            ]
          }
        },
        "d42733d79a2649998a6a3566c2f0770b": {
          "model_module": "@jupyter-widgets/base",
          "model_name": "LayoutModel",
          "model_module_version": "1.2.0",
          "state": {
            "_view_name": "LayoutView",
            "grid_template_rows": null,
            "right": null,
            "justify_content": null,
            "_view_module": "@jupyter-widgets/base",
            "overflow": null,
            "_model_module_version": "1.2.0",
            "_view_count": null,
            "flex_flow": null,
            "width": null,
            "min_width": null,
            "border": null,
            "align_items": null,
            "bottom": null,
            "_model_module": "@jupyter-widgets/base",
            "top": null,
            "grid_column": null,
            "overflow_y": null,
            "overflow_x": null,
            "grid_auto_flow": null,
            "grid_area": null,
            "grid_template_columns": null,
            "flex": null,
            "_model_name": "LayoutModel",
            "justify_items": null,
            "grid_row": null,
            "max_height": null,
            "align_content": null,
            "visibility": null,
            "align_self": null,
            "height": null,
            "min_height": null,
            "padding": null,
            "grid_auto_rows": null,
            "grid_gap": null,
            "max_width": null,
            "order": null,
            "_view_module_version": "1.2.0",
            "grid_template_areas": null,
            "object_position": null,
            "object_fit": null,
            "grid_auto_columns": null,
            "margin": null,
            "display": null,
            "left": null
          }
        },
        "f00be7c9fa3e4e61bd434eec42145c9a": {
          "model_module": "@jupyter-widgets/controls",
          "model_name": "HTMLModel",
          "model_module_version": "1.5.0",
          "state": {
            "_view_name": "HTMLView",
            "style": "IPY_MODEL_523524da12134d9c86822283745b9a56",
            "_dom_classes": [],
            "description": "",
            "_model_name": "HTMLModel",
            "placeholder": "​",
            "_view_module": "@jupyter-widgets/controls",
            "_model_module_version": "1.5.0",
            "value": "100%",
            "_view_count": null,
            "_view_module_version": "1.5.0",
            "description_tooltip": null,
            "_model_module": "@jupyter-widgets/controls",
            "layout": "IPY_MODEL_722308b50284485b982af43e3fee9916"
          }
        },
        "f1e35fca9b344423ae6eef4384026198": {
          "model_module": "@jupyter-widgets/controls",
          "model_name": "FloatProgressModel",
          "model_module_version": "1.5.0",
          "state": {
            "_view_name": "ProgressView",
            "style": "IPY_MODEL_2b7a45945e8d4e92aa0d8162d11de44f",
            "_dom_classes": [],
            "description": "",
            "_model_name": "FloatProgressModel",
            "bar_style": "success",
            "max": 1,
            "_view_module": "@jupyter-widgets/controls",
            "_model_module_version": "1.5.0",
            "value": 1,
            "_view_count": null,
            "_view_module_version": "1.5.0",
            "orientation": "horizontal",
            "min": 0,
            "description_tooltip": null,
            "_model_module": "@jupyter-widgets/controls",
            "layout": "IPY_MODEL_05fcb3961d884d26b44fdf7f7a3c4fe9"
          }
        },
        "9520345ec378417793f2274d92eb7ea6": {
          "model_module": "@jupyter-widgets/controls",
          "model_name": "HTMLModel",
          "model_module_version": "1.5.0",
          "state": {
            "_view_name": "HTMLView",
            "style": "IPY_MODEL_d14d02a3d47740b89dfcc6d92487cf7b",
            "_dom_classes": [],
            "description": "",
            "_model_name": "HTMLModel",
            "placeholder": "​",
            "_view_module": "@jupyter-widgets/controls",
            "_model_module_version": "1.5.0",
            "value": " 1/1 [00:00&lt;00:00, 11.24ba/s]",
            "_view_count": null,
            "_view_module_version": "1.5.0",
            "description_tooltip": null,
            "_model_module": "@jupyter-widgets/controls",
            "layout": "IPY_MODEL_d72a2eb6627245e1a13496cd26391c1d"
          }
        },
        "523524da12134d9c86822283745b9a56": {
          "model_module": "@jupyter-widgets/controls",
          "model_name": "DescriptionStyleModel",
          "model_module_version": "1.5.0",
          "state": {
            "_view_name": "StyleView",
            "_model_name": "DescriptionStyleModel",
            "description_width": "",
            "_view_module": "@jupyter-widgets/base",
            "_model_module_version": "1.5.0",
            "_view_count": null,
            "_view_module_version": "1.2.0",
            "_model_module": "@jupyter-widgets/controls"
          }
        },
        "722308b50284485b982af43e3fee9916": {
          "model_module": "@jupyter-widgets/base",
          "model_name": "LayoutModel",
          "model_module_version": "1.2.0",
          "state": {
            "_view_name": "LayoutView",
            "grid_template_rows": null,
            "right": null,
            "justify_content": null,
            "_view_module": "@jupyter-widgets/base",
            "overflow": null,
            "_model_module_version": "1.2.0",
            "_view_count": null,
            "flex_flow": null,
            "width": null,
            "min_width": null,
            "border": null,
            "align_items": null,
            "bottom": null,
            "_model_module": "@jupyter-widgets/base",
            "top": null,
            "grid_column": null,
            "overflow_y": null,
            "overflow_x": null,
            "grid_auto_flow": null,
            "grid_area": null,
            "grid_template_columns": null,
            "flex": null,
            "_model_name": "LayoutModel",
            "justify_items": null,
            "grid_row": null,
            "max_height": null,
            "align_content": null,
            "visibility": null,
            "align_self": null,
            "height": null,
            "min_height": null,
            "padding": null,
            "grid_auto_rows": null,
            "grid_gap": null,
            "max_width": null,
            "order": null,
            "_view_module_version": "1.2.0",
            "grid_template_areas": null,
            "object_position": null,
            "object_fit": null,
            "grid_auto_columns": null,
            "margin": null,
            "display": null,
            "left": null
          }
        },
        "2b7a45945e8d4e92aa0d8162d11de44f": {
          "model_module": "@jupyter-widgets/controls",
          "model_name": "ProgressStyleModel",
          "model_module_version": "1.5.0",
          "state": {
            "_view_name": "StyleView",
            "_model_name": "ProgressStyleModel",
            "description_width": "",
            "_view_module": "@jupyter-widgets/base",
            "_model_module_version": "1.5.0",
            "_view_count": null,
            "_view_module_version": "1.2.0",
            "bar_color": null,
            "_model_module": "@jupyter-widgets/controls"
          }
        },
        "05fcb3961d884d26b44fdf7f7a3c4fe9": {
          "model_module": "@jupyter-widgets/base",
          "model_name": "LayoutModel",
          "model_module_version": "1.2.0",
          "state": {
            "_view_name": "LayoutView",
            "grid_template_rows": null,
            "right": null,
            "justify_content": null,
            "_view_module": "@jupyter-widgets/base",
            "overflow": null,
            "_model_module_version": "1.2.0",
            "_view_count": null,
            "flex_flow": null,
            "width": null,
            "min_width": null,
            "border": null,
            "align_items": null,
            "bottom": null,
            "_model_module": "@jupyter-widgets/base",
            "top": null,
            "grid_column": null,
            "overflow_y": null,
            "overflow_x": null,
            "grid_auto_flow": null,
            "grid_area": null,
            "grid_template_columns": null,
            "flex": null,
            "_model_name": "LayoutModel",
            "justify_items": null,
            "grid_row": null,
            "max_height": null,
            "align_content": null,
            "visibility": null,
            "align_self": null,
            "height": null,
            "min_height": null,
            "padding": null,
            "grid_auto_rows": null,
            "grid_gap": null,
            "max_width": null,
            "order": null,
            "_view_module_version": "1.2.0",
            "grid_template_areas": null,
            "object_position": null,
            "object_fit": null,
            "grid_auto_columns": null,
            "margin": null,
            "display": null,
            "left": null
          }
        },
        "d14d02a3d47740b89dfcc6d92487cf7b": {
          "model_module": "@jupyter-widgets/controls",
          "model_name": "DescriptionStyleModel",
          "model_module_version": "1.5.0",
          "state": {
            "_view_name": "StyleView",
            "_model_name": "DescriptionStyleModel",
            "description_width": "",
            "_view_module": "@jupyter-widgets/base",
            "_model_module_version": "1.5.0",
            "_view_count": null,
            "_view_module_version": "1.2.0",
            "_model_module": "@jupyter-widgets/controls"
          }
        },
        "d72a2eb6627245e1a13496cd26391c1d": {
          "model_module": "@jupyter-widgets/base",
          "model_name": "LayoutModel",
          "model_module_version": "1.2.0",
          "state": {
            "_view_name": "LayoutView",
            "grid_template_rows": null,
            "right": null,
            "justify_content": null,
            "_view_module": "@jupyter-widgets/base",
            "overflow": null,
            "_model_module_version": "1.2.0",
            "_view_count": null,
            "flex_flow": null,
            "width": null,
            "min_width": null,
            "border": null,
            "align_items": null,
            "bottom": null,
            "_model_module": "@jupyter-widgets/base",
            "top": null,
            "grid_column": null,
            "overflow_y": null,
            "overflow_x": null,
            "grid_auto_flow": null,
            "grid_area": null,
            "grid_template_columns": null,
            "flex": null,
            "_model_name": "LayoutModel",
            "justify_items": null,
            "grid_row": null,
            "max_height": null,
            "align_content": null,
            "visibility": null,
            "align_self": null,
            "height": null,
            "min_height": null,
            "padding": null,
            "grid_auto_rows": null,
            "grid_gap": null,
            "max_width": null,
            "order": null,
            "_view_module_version": "1.2.0",
            "grid_template_areas": null,
            "object_position": null,
            "object_fit": null,
            "grid_auto_columns": null,
            "margin": null,
            "display": null,
            "left": null
          }
        }
      }
    }
  },
  "cells": [
    {
      "cell_type": "code",
      "metadata": {
        "id": "HksPT3m2DFfj",
        "colab": {
          "base_uri": "https://localhost:8080/"
        },
        "outputId": "9fec544f-353f-43a7-b846-354791d922f6"
      },
      "source": [
        "! pip install -q datasets transformers seqeval\n",
        "!pip install -q corus razdel"
      ],
      "execution_count": null,
      "outputs": [
        {
          "output_type": "stream",
          "name": "stdout",
          "text": [
            "\u001b[K     |████████████████████████████████| 290 kB 13.3 MB/s \n",
            "\u001b[K     |████████████████████████████████| 3.1 MB 45.0 MB/s \n",
            "\u001b[K     |████████████████████████████████| 43 kB 2.0 MB/s \n",
            "\u001b[K     |████████████████████████████████| 1.1 MB 30.8 MB/s \n",
            "\u001b[K     |████████████████████████████████| 59 kB 4.8 MB/s \n",
            "\u001b[K     |████████████████████████████████| 243 kB 48.1 MB/s \n",
            "\u001b[K     |████████████████████████████████| 125 kB 48.4 MB/s \n",
            "\u001b[K     |████████████████████████████████| 895 kB 50.9 MB/s \n",
            "\u001b[K     |████████████████████████████████| 596 kB 44.9 MB/s \n",
            "\u001b[K     |████████████████████████████████| 3.3 MB 42.6 MB/s \n",
            "\u001b[K     |████████████████████████████████| 160 kB 52.0 MB/s \n",
            "\u001b[K     |████████████████████████████████| 192 kB 54.7 MB/s \n",
            "\u001b[K     |████████████████████████████████| 271 kB 47.9 MB/s \n",
            "\u001b[?25h  Building wheel for seqeval (setup.py) ... \u001b[?25l\u001b[?25hdone\n",
            "\u001b[K     |████████████████████████████████| 83 kB 1.6 MB/s \n",
            "\u001b[?25h"
          ]
        }
      ]
    },
    {
      "cell_type": "code",
      "metadata": {
        "id": "1gxtDYtCWDtB"
      },
      "source": [
        "import pandas as pd\n",
        "import numpy as np\n",
        "from datasets import load_dataset, load_metric, Dataset, DatasetDict\n",
        "from razdel import tokenize\n",
        "import torch\n",
        "from sklearn.model_selection import train_test_split\n",
        "import os\n",
        "\n",
        "from transformers import set_seed"
      ],
      "execution_count": null,
      "outputs": []
    },
    {
      "cell_type": "code",
      "metadata": {
        "id": "I2VS63_RQ_8X"
      },
      "source": [
        "def seed_everything(seed: int):\n",
        "    \"\"\"Seeds and fixes every possible random state.\"\"\"\n",
        "    os.environ['PYTHONHASHSEED'] = str(seed)\n",
        "    np.random.seed(seed)\n",
        "    torch.manual_seed(seed)\n",
        "    torch.cuda.manual_seed(seed)\n",
        "    torch.backends.cudnn.deterministic = True\n",
        "    set_seed(seed)\n",
        "\n",
        "SEED = 3407\n",
        "seed_everything(SEED)"
      ],
      "execution_count": null,
      "outputs": []
    },
    {
      "cell_type": "code",
      "metadata": {
        "id": "Trik98b6DUDS"
      },
      "source": [
        "model_checkpoint = \"cointegrated/rubert-tiny2\"\n",
        "batch_size = 4"
      ],
      "execution_count": null,
      "outputs": []
    },
    {
      "cell_type": "code",
      "metadata": {
        "id": "egeQgVMgEOjy"
      },
      "source": [
        "!wget -q -O train.csv https://getfile.dokpub.com/yandex/get/https://disk.yandex.ru/d/fmWGQJvwU5ejog\n",
        "!wget -q -O train_labels.json https://getfile.dokpub.com/yandex/get/https://disk.yandex.ru/d/0nJ2QTRb9-U7tA\n",
        "!wget -q https://github.com/cimm-kzn/RuDReC/raw/master/data/rudrec_annotated.json"
      ],
      "execution_count": null,
      "outputs": []
    },
    {
      "cell_type": "code",
      "metadata": {
        "colab": {
          "base_uri": "https://localhost:8080/"
        },
        "id": "b45lOsRqsABa",
        "outputId": "8ec969f6-7283-40b1-ff26-77df66c324b9"
      },
      "source": [
        "from corus import load_rudrec\n",
        "drugs = list(load_rudrec('rudrec_annotated.json'))\n",
        "print(len(drugs))"
      ],
      "execution_count": null,
      "outputs": [
        {
          "output_type": "stream",
          "name": "stdout",
          "text": [
            "4809\n"
          ]
        }
      ]
    },
    {
      "cell_type": "code",
      "metadata": {
        "id": "Nx3zBJCPLE3y"
      },
      "source": [
        "train_df = pd.read_csv('train.csv')\n",
        "train_labels = pd.read_json('train_labels.json').T"
      ],
      "execution_count": null,
      "outputs": []
    },
    {
      "cell_type": "code",
      "metadata": {
        "id": "vllrwHkDLMS0"
      },
      "source": [
        "labeled_by_hand_df = pd.read_json('project-1-at-2021-11-05-17-15-b0971356.json')\n",
        "labeled_by_hand_df['id'] = labeled_by_hand_df['id'] - np.ones(len(labeled_by_hand_df['id']))\n",
        "labeled_by_hand_df['id'] = labeled_by_hand_df['id'].astype(int)"
      ],
      "execution_count": null,
      "outputs": []
    },
    {
      "cell_type": "code",
      "metadata": {
        "id": "vv4PxDoUsRoE"
      },
      "source": [
        "from razdel import tokenize\n",
        "\n",
        "def extract_labels_drug(item):\n",
        "    raw_toks = list(tokenize(item.text))\n",
        "    words = [tok.text for tok in raw_toks]\n",
        "    word_labels = ['O'] * len(raw_toks)\n",
        "    char2word = [None] * len(item.text)\n",
        "    for i, word in enumerate(raw_toks):\n",
        "        char2word[word.start:word.stop] = [i] * len(word.text)\n",
        "\n",
        "    for e in item.entities:\n",
        "        if e.entity_type == 'ADR':\n",
        "            e_words = sorted({idx for idx in char2word[e.start:e.end] if idx is not None})\n",
        "            word_labels[e_words[0]] = 'B-' + e.entity_type\n",
        "            for idx in e_words[1:]:\n",
        "                word_labels[idx] = 'I-' + e.entity_type\n",
        "\n",
        "    if \"B-ADR\" not in word_labels:\n",
        "        return 0\n",
        "\n",
        "    return {'tokens': words, 'tags': word_labels}"
      ],
      "execution_count": null,
      "outputs": []
    },
    {
      "cell_type": "code",
      "metadata": {
        "id": "7bpjSMSsS2M8"
      },
      "source": [
        "def extract_labels(train_index):\n",
        "    text = train_df.text[train_index]\n",
        "    raw_toks = list(tokenize(text))\n",
        "    words = [tok.text for tok in raw_toks]\n",
        "\n",
        "    word_labels = ['O'] * len(raw_toks)\n",
        "    char2word = [None] * len(text)\n",
        "\n",
        "    for i, word in enumerate(raw_toks):\n",
        "        char2word[word.start:word.stop] = [i] * len(word.text)\n",
        "\n",
        "    spans = train_labels.span[train_index]\n",
        "    for e in spans:\n",
        "        entity_type = \"ADR\"\n",
        "        e_words = sorted({idx for idx in char2word[e[0]:e[1]] if idx is not None})\n",
        "        word_labels[e_words[0]] = 'B-' + entity_type\n",
        "        for idx in e_words[1:]:\n",
        "            word_labels[idx] = 'I-' + entity_type\n",
        "\n",
        "    return {'tokens': words, 'tags': word_labels}"
      ],
      "execution_count": null,
      "outputs": []
    },
    {
      "cell_type": "code",
      "metadata": {
        "id": "UR1pP7mJIE6J"
      },
      "source": [
        "def extract_labels_by_hand(labeled_by_hand_index):\n",
        "    text = labeled_by_hand_df['data'][labeled_by_hand_index]['text']\n",
        "\n",
        "\n",
        "    raw_toks = list(tokenize(text))\n",
        "    words = [tok.text for tok in raw_toks]\n",
        "\n",
        "    word_labels = ['O'] * len(raw_toks)\n",
        "    char2word = [None] * len(text)\n",
        "\n",
        "    for i, word in enumerate(raw_toks):\n",
        "        char2word[word.start:word.stop] = [i] * len(word.text)\n",
        "\n",
        "    spans = labeled_by_hand_df['annotations'][labeled_by_hand_index][0]['result']\n",
        "\n",
        "    for e in spans:\n",
        "        e = e['value']\n",
        "        entity_type = \"ADR\"\n",
        "        e_words = sorted({idx for idx in char2word[e['start']:e['end']] if idx is not None})\n",
        "        word_labels[e_words[0]] = 'B-' + entity_type\n",
        "        for idx in e_words[1:]:\n",
        "            word_labels[idx] = 'I-' + entity_type\n",
        "\n",
        "    return {'tokens': words, 'tags': word_labels}"
      ],
      "execution_count": null,
      "outputs": []
    },
    {
      "cell_type": "code",
      "metadata": {
        "id": "pQN1zncHuAFk",
        "colab": {
          "base_uri": "https://localhost:8080/"
        },
        "outputId": "7ad12510-56c1-4588-9e2a-7b16d63a01e4"
      },
      "source": [
        "ner_data_drug = []\n",
        "\n",
        "for item in drugs:\n",
        "    dct = extract_labels_drug(item)\n",
        "    if dct != 0:\n",
        "        ner_data_drug.append(dct)\n",
        "\n",
        "len(ner_data_drug)"
      ],
      "execution_count": null,
      "outputs": [
        {
          "output_type": "execute_result",
          "data": {
            "text/plain": [
              "376"
            ]
          },
          "metadata": {},
          "execution_count": 147
        }
      ]
    },
    {
      "cell_type": "code",
      "metadata": {
        "id": "wm2YfsUDgAHZ"
      },
      "source": [
        "ner_data_by_hand = [extract_labels_by_hand(i) for i in labeled_by_hand_df.index]"
      ],
      "execution_count": null,
      "outputs": []
    },
    {
      "cell_type": "code",
      "metadata": {
        "id": "kSHD_BAIUw0l"
      },
      "source": [
        "ner_data = [extract_labels(i) for i in range(0, 30)]\n",
        "\n",
        "ner_data = ner_data + ner_data_by_hand + ner_data_drug\n",
        "\n",
        "ner_train, ner_test = train_test_split(ner_data, test_size=0.1, random_state=200)\n",
        "ner_train = ner_data"
      ],
      "execution_count": null,
      "outputs": []
    },
    {
      "cell_type": "code",
      "metadata": {
        "colab": {
          "base_uri": "https://localhost:8080/",
          "height": 261
        },
        "id": "BJx-3HOGUxXN",
        "outputId": "7517133b-6977-47a3-edbf-783222d7d500"
      },
      "source": [
        "pd.options.display.max_colwidth = 300\n",
        "pd.DataFrame(ner_train).sample(3)"
      ],
      "execution_count": null,
      "outputs": [
        {
          "output_type": "execute_result",
          "data": {
            "text/html": [
              "<div>\n",
              "<style scoped>\n",
              "    .dataframe tbody tr th:only-of-type {\n",
              "        vertical-align: middle;\n",
              "    }\n",
              "\n",
              "    .dataframe tbody tr th {\n",
              "        vertical-align: top;\n",
              "    }\n",
              "\n",
              "    .dataframe thead th {\n",
              "        text-align: right;\n",
              "    }\n",
              "</style>\n",
              "<table border=\"1\" class=\"dataframe\">\n",
              "  <thead>\n",
              "    <tr style=\"text-align: right;\">\n",
              "      <th></th>\n",
              "      <th>tokens</th>\n",
              "      <th>tags</th>\n",
              "    </tr>\n",
              "  </thead>\n",
              "  <tbody>\n",
              "    <tr>\n",
              "      <th>361</th>\n",
              "      <td>[В, первый, раз, ,, когда, ребенок, заболел, обычным, орви, ,, нам, сразу, же, врач, навыписывал, целый, ряд, лекарств, ,, в, том, числе, и, антибиотик, \", бактрим, \", ,, обычно, должны, сразу, же, выписать, к, нему, Линекс, ,, для, улучшения, пищеварения, ,, но, никто, нам, ничего, не, прописал...</td>\n",
              "      <td>[O, O, O, O, O, O, O, O, O, O, O, O, O, O, O, O, O, O, O, O, O, O, O, O, O, O, O, O, O, O, O, O, O, O, O, O, O, O, O, O, O, O, O, O, O, O, O, O, O, O, O, O, O, O, O, O, O, B-ADR, O, O, O, O, O, O, O, O, O, O, O, O, O, O, O, O, B-ADR, O, O, O, O, O, O, O, O, O, O, O, O, O, O, O, O, O, O, O, O, O,...</td>\n",
              "    </tr>\n",
              "    <tr>\n",
              "      <th>158</th>\n",
              "      <td>[Подскажите, советом, !!!, Теленку, 3, недели, взяли, две, недели, назад, на, ферме, ., Неделю, назад, стала, выпадать, шерсть, местами, клочками, шея, ,, лоб, ,, ноги, у, заднего, прохода, ,, сейчас, еще, и, начал, разлизывать, эти, лысины, ., Кормим, ЗЦМ, в, сутки, 6, литров, ,, комбикорм, нач...</td>\n",
              "      <td>[O, O, O, O, O, O, O, O, O, O, O, O, O, O, O, B-ADR, I-ADR, I-ADR, O, O, O, O, O, O, O, O, O, O, O, O, O, O, O, O, O, O, O, O, O, O, O, O, O, O, O, O, O, O, O, O, O, O, O, O, O, O, O, O, O, O, O, O, O, O, O, O, O, O, O, O, O, O, O, O, O, O, O]</td>\n",
              "    </tr>\n",
              "    <tr>\n",
              "      <th>480</th>\n",
              "      <td>[В, общем, сделали, моему, дитёнку, эту, АКДС, ,, кроме, жуткого, плача, (, после, которого, он, проспал, 3, часа, ), никаких, последствий, не, было, .]</td>\n",
              "      <td>[O, O, O, O, O, O, O, O, O, O, B-ADR, O, O, O, O, O, O, O, O, O, O, O, O, O]</td>\n",
              "    </tr>\n",
              "  </tbody>\n",
              "</table>\n",
              "</div>"
            ],
            "text/plain": [
              "                                                                                                                                                                                                                                                                                                          tokens                                                                                                                                                                                                                                                                                                         tags\n",
              "361  [В, первый, раз, ,, когда, ребенок, заболел, обычным, орви, ,, нам, сразу, же, врач, навыписывал, целый, ряд, лекарств, ,, в, том, числе, и, антибиотик, \", бактрим, \", ,, обычно, должны, сразу, же, выписать, к, нему, Линекс, ,, для, улучшения, пищеварения, ,, но, никто, нам, ничего, не, прописал...  [O, O, O, O, O, O, O, O, O, O, O, O, O, O, O, O, O, O, O, O, O, O, O, O, O, O, O, O, O, O, O, O, O, O, O, O, O, O, O, O, O, O, O, O, O, O, O, O, O, O, O, O, O, O, O, O, O, B-ADR, O, O, O, O, O, O, O, O, O, O, O, O, O, O, O, O, B-ADR, O, O, O, O, O, O, O, O, O, O, O, O, O, O, O, O, O, O, O, O, O,...\n",
              "158  [Подскажите, советом, !!!, Теленку, 3, недели, взяли, две, недели, назад, на, ферме, ., Неделю, назад, стала, выпадать, шерсть, местами, клочками, шея, ,, лоб, ,, ноги, у, заднего, прохода, ,, сейчас, еще, и, начал, разлизывать, эти, лысины, ., Кормим, ЗЦМ, в, сутки, 6, литров, ,, комбикорм, нач...                                                          [O, O, O, O, O, O, O, O, O, O, O, O, O, O, O, B-ADR, I-ADR, I-ADR, O, O, O, O, O, O, O, O, O, O, O, O, O, O, O, O, O, O, O, O, O, O, O, O, O, O, O, O, O, O, O, O, O, O, O, O, O, O, O, O, O, O, O, O, O, O, O, O, O, O, O, O, O, O, O, O, O, O, O]\n",
              "480                                                                                                                                                     [В, общем, сделали, моему, дитёнку, эту, АКДС, ,, кроме, жуткого, плача, (, после, которого, он, проспал, 3, часа, ), никаких, последствий, не, было, .]                                                                                                                                                                                                                                 [O, O, O, O, O, O, O, O, O, O, B-ADR, O, O, O, O, O, O, O, O, O, O, O, O, O]"
            ]
          },
          "metadata": {},
          "execution_count": 757
        }
      ]
    },
    {
      "cell_type": "code",
      "metadata": {
        "colab": {
          "base_uri": "https://localhost:8080/"
        },
        "id": "8HSsIl8jVD-e",
        "outputId": "9a416e51-8375-4245-f232-cfdcbb1198f0"
      },
      "source": [
        "ner_data = DatasetDict({\n",
        "    'train': Dataset.from_pandas(pd.DataFrame(ner_train)),\n",
        "    'test': Dataset.from_pandas(pd.DataFrame(ner_test))\n",
        "})\n",
        "ner_data"
      ],
      "execution_count": null,
      "outputs": [
        {
          "output_type": "execute_result",
          "data": {
            "text/plain": [
              "DatasetDict({\n",
              "    train: Dataset({\n",
              "        features: ['tokens', 'tags'],\n",
              "        num_rows: 670\n",
              "    })\n",
              "    test: Dataset({\n",
              "        features: ['tokens', 'tags'],\n",
              "        num_rows: 67\n",
              "    })\n",
              "})"
            ]
          },
          "metadata": {},
          "execution_count": 758
        }
      ]
    },
    {
      "cell_type": "code",
      "metadata": {
        "colab": {
          "base_uri": "https://localhost:8080/"
        },
        "id": "ggjcTG9_V7cT",
        "outputId": "a41acb60-621e-414a-bd90-2b61bb926b8e"
      },
      "source": [
        "label_list = sorted({label for item in ner_train for label in item['tags']})\n",
        "if 'O' in label_list:\n",
        "    label_list.remove('O')\n",
        "    label_list = ['O'] + label_list\n",
        "label_list"
      ],
      "execution_count": null,
      "outputs": [
        {
          "output_type": "execute_result",
          "data": {
            "text/plain": [
              "['O', 'B-ADR', 'I-ADR']"
            ]
          },
          "metadata": {},
          "execution_count": 759
        }
      ]
    },
    {
      "cell_type": "code",
      "metadata": {
        "colab": {
          "base_uri": "https://localhost:8080/"
        },
        "id": "9KIj3wReVHCb",
        "outputId": "4fb42835-13b3-4c02-97f9-c5ea8a0d63d4"
      },
      "source": [
        "from transformers import AutoTokenizer\n",
        "tokenizer = AutoTokenizer.from_pretrained(model_checkpoint)"
      ],
      "execution_count": null,
      "outputs": [
        {
          "output_type": "stream",
          "name": "stderr",
          "text": [
            "loading file https://huggingface.co/cointegrated/rubert-tiny2/resolve/main/vocab.txt from cache at /root/.cache/huggingface/transformers/16af2afaa4ceaa8d50b689bd4c2f7ef7fe3bfac06c0aac7d82a5c1c72298b62a.cc3312d07ccf88871a3c2b7cb3442138e6785101efead94d9f77e96301cf7f4a\n",
            "loading file https://huggingface.co/cointegrated/rubert-tiny2/resolve/main/tokenizer.json from cache at /root/.cache/huggingface/transformers/cfa6d82dc8ecc7fe3f06deb449f38968cdd188bb84c8da0e06f0bbfddbede1e3.550ab7157d36210bf96c7c3b30e621933d37d635c5f2e290f7e88bd5f7c9198a\n",
            "loading file https://huggingface.co/cointegrated/rubert-tiny2/resolve/main/added_tokens.json from cache at None\n",
            "loading file https://huggingface.co/cointegrated/rubert-tiny2/resolve/main/special_tokens_map.json from cache at /root/.cache/huggingface/transformers/20317640533199c6b37a557395cd5ee5fcb8777be7c89bb1314bfd43058b35e9.dd8bd9bfd3664b530ea4e645105f557769387b3da9f79bdb55ed556bdd80611d\n",
            "loading file https://huggingface.co/cointegrated/rubert-tiny2/resolve/main/tokenizer_config.json from cache at /root/.cache/huggingface/transformers/e818c3e83969c6aa46da3b5b2eafe049b197e0e787503bf7c643ec64422a51fc.ce85cf23f0ff1f36d3e55d0b537a976b4e83b5c07b7c93e6b39c8b18d38825b3\n"
          ]
        }
      ]
    },
    {
      "cell_type": "code",
      "metadata": {
        "id": "wct-97KFVKw-"
      },
      "source": [
        "def tokenize_and_align_labels(examples, label_all_tokens=True):\n",
        "    tokenized_inputs = tokenizer(examples[\"tokens\"], truncation=True, is_split_into_words=True)\n",
        "\n",
        "    labels = []\n",
        "    for i, label in enumerate(examples['tags']):\n",
        "        word_ids = tokenized_inputs.word_ids(batch_index=i)\n",
        "        previous_word_idx = None\n",
        "        label_ids = []\n",
        "        for word_idx in word_ids:\n",
        "            # Special tokens have a word id that is None. We set the label to -100 so they are automatically\n",
        "            # ignored in the loss function.\n",
        "            if word_idx is None:\n",
        "                label_ids.append(-100)\n",
        "            # We set the label for the first token of each word.\n",
        "            elif word_idx != previous_word_idx:\n",
        "                label_ids.append(label[word_idx])\n",
        "            # For the other tokens in a word, we set the label to either the current label or -100, depending on\n",
        "            # the label_all_tokens flag.\n",
        "            else:\n",
        "                label_ids.append(label[word_idx] if label_all_tokens else -100)\n",
        "            previous_word_idx = word_idx\n",
        "\n",
        "        label_ids = [label_list.index(idx) if isinstance(idx, str) else idx for idx in label_ids]\n",
        "\n",
        "        labels.append(label_ids)\n",
        "\n",
        "    tokenized_inputs[\"labels\"] = labels\n",
        "    return tokenized_inputs"
      ],
      "execution_count": null,
      "outputs": []
    },
    {
      "cell_type": "code",
      "metadata": {
        "colab": {
          "base_uri": "https://localhost:8080/",
          "height": 81,
          "referenced_widgets": [
            "2f0f04aa3d69443b80e39962d0214e7f",
            "1e6477304413421f8060349c2508cfbd",
            "f5e265a6a1c84d65b78f5c296e7afeb4",
            "77c186a55b714f3fa919b7335559586f",
            "bc263a81425041878749ac4a5e1e860d",
            "5863f9f5e66e4a1e818f6aafd3c1c45d",
            "9605e75caae24c5ca923749e166fbb91",
            "d63883a95594477c9e6d6f3c97c854a0",
            "5adea537f0794a31a68d7e338ccc3f03",
            "11c3177e6a6248e5ac04a6b459bcbfb8",
            "8466c676e8ae41f1950e4e029c6c957b",
            "49078f369580402aadb7b155b4fa28a8",
            "d42733d79a2649998a6a3566c2f0770b",
            "f00be7c9fa3e4e61bd434eec42145c9a",
            "f1e35fca9b344423ae6eef4384026198",
            "9520345ec378417793f2274d92eb7ea6",
            "523524da12134d9c86822283745b9a56",
            "722308b50284485b982af43e3fee9916",
            "2b7a45945e8d4e92aa0d8162d11de44f",
            "05fcb3961d884d26b44fdf7f7a3c4fe9",
            "d14d02a3d47740b89dfcc6d92487cf7b",
            "d72a2eb6627245e1a13496cd26391c1d"
          ]
        },
        "id": "edd6CLjgVujB",
        "outputId": "364a72b4-12c3-4010-ae04-7e1da16d98af"
      },
      "source": [
        "tokenized_datasets = ner_data.map(tokenize_and_align_labels, batched=True)"
      ],
      "execution_count": null,
      "outputs": [
        {
          "output_type": "display_data",
          "data": {
            "application/vnd.jupyter.widget-view+json": {
              "model_id": "2f0f04aa3d69443b80e39962d0214e7f",
              "version_minor": 0,
              "version_major": 2
            },
            "text/plain": [
              "  0%|          | 0/1 [00:00<?, ?ba/s]"
            ]
          },
          "metadata": {}
        },
        {
          "output_type": "display_data",
          "data": {
            "application/vnd.jupyter.widget-view+json": {
              "model_id": "49078f369580402aadb7b155b4fa28a8",
              "version_minor": 0,
              "version_major": 2
            },
            "text/plain": [
              "  0%|          | 0/1 [00:00<?, ?ba/s]"
            ]
          },
          "metadata": {}
        }
      ]
    },
    {
      "cell_type": "code",
      "metadata": {
        "colab": {
          "base_uri": "https://localhost:8080/"
        },
        "id": "yVgFGS06Xfvw",
        "outputId": "b1437337-0ac4-43d3-ccba-6a4d38d34d9d"
      },
      "source": [
        "from transformers import AutoModelForTokenClassification, TrainingArguments, Trainer\n",
        "\n",
        "model = AutoModelForTokenClassification.from_pretrained(model_checkpoint, num_labels=len(label_list))\n",
        "model.config.id2label = dict(enumerate(label_list))\n",
        "model.config.label2id = {v: k for k, v in model.config.id2label.items()}"
      ],
      "execution_count": null,
      "outputs": [
        {
          "output_type": "stream",
          "name": "stderr",
          "text": [
            "loading configuration file https://huggingface.co/cointegrated/rubert-tiny2/resolve/main/config.json from cache at /root/.cache/huggingface/transformers/726139048d10597682731a7a4c0b8ef0382927911bc0f6f050a4f7f0afb04c2a.149cdc07694f3925e290abc5528c57a543bcbc9af955c0202b1028584ad15cb4\n",
            "Model config BertConfig {\n",
            "  \"_name_or_path\": \"/gd/MyDrive/models/rubert-tiny-mlm-nli-sentence\",\n",
            "  \"architectures\": [\n",
            "    \"BertForPreTraining\"\n",
            "  ],\n",
            "  \"attention_probs_dropout_prob\": 0.1,\n",
            "  \"classifier_dropout\": null,\n",
            "  \"emb_size\": 312,\n",
            "  \"gradient_checkpointing\": false,\n",
            "  \"hidden_act\": \"gelu\",\n",
            "  \"hidden_dropout_prob\": 0.1,\n",
            "  \"hidden_size\": 312,\n",
            "  \"id2label\": {\n",
            "    \"0\": \"LABEL_0\",\n",
            "    \"1\": \"LABEL_1\",\n",
            "    \"2\": \"LABEL_2\"\n",
            "  },\n",
            "  \"initializer_range\": 0.02,\n",
            "  \"intermediate_size\": 600,\n",
            "  \"label2id\": {\n",
            "    \"LABEL_0\": 0,\n",
            "    \"LABEL_1\": 1,\n",
            "    \"LABEL_2\": 2\n",
            "  },\n",
            "  \"layer_norm_eps\": 1e-12,\n",
            "  \"max_position_embeddings\": 2048,\n",
            "  \"model_type\": \"bert\",\n",
            "  \"num_attention_heads\": 12,\n",
            "  \"num_hidden_layers\": 3,\n",
            "  \"pad_token_id\": 0,\n",
            "  \"position_embedding_type\": \"absolute\",\n",
            "  \"torch_dtype\": \"float32\",\n",
            "  \"transformers_version\": \"4.12.3\",\n",
            "  \"type_vocab_size\": 2,\n",
            "  \"use_cache\": true,\n",
            "  \"vocab_size\": 83828\n",
            "}\n",
            "\n",
            "loading weights file https://huggingface.co/cointegrated/rubert-tiny2/resolve/main/pytorch_model.bin from cache at /root/.cache/huggingface/transformers/a04241e554166e7b53f251768f0155f1b8a3f631c8e61b632fb38b3fa4a11314.6ea1ba06b786dd5a8753d0d1da827629b627d560c1d01af937410f09ce3e3983\n",
            "Some weights of the model checkpoint at cointegrated/rubert-tiny2 were not used when initializing BertForTokenClassification: ['cls.seq_relationship.weight', 'cls.predictions.decoder.bias', 'cls.predictions.transform.LayerNorm.weight', 'cls.predictions.transform.dense.bias', 'cls.predictions.transform.dense.weight', 'cls.predictions.transform.LayerNorm.bias', 'cls.predictions.bias', 'cls.seq_relationship.bias', 'cls.predictions.decoder.weight']\n",
            "- This IS expected if you are initializing BertForTokenClassification from the checkpoint of a model trained on another task or with another architecture (e.g. initializing a BertForSequenceClassification model from a BertForPreTraining model).\n",
            "- This IS NOT expected if you are initializing BertForTokenClassification from the checkpoint of a model that you expect to be exactly identical (initializing a BertForSequenceClassification model from a BertForSequenceClassification model).\n",
            "Some weights of BertForTokenClassification were not initialized from the model checkpoint at cointegrated/rubert-tiny2 and are newly initialized: ['classifier.bias', 'classifier.weight']\n",
            "You should probably TRAIN this model on a down-stream task to be able to use it for predictions and inference.\n"
          ]
        }
      ]
    },
    {
      "cell_type": "code",
      "metadata": {
        "id": "93cwSBmIXjtg"
      },
      "source": [
        "# args = TrainingArguments(\n",
        "#     \"ner\",\n",
        "#     evaluation_strategy = \"epoch\",\n",
        "#     learning_rate=2e-5,\n",
        "#     per_device_train_batch_size=batch_size,\n",
        "#     per_device_eval_batch_size=batch_size,\n",
        "#     num_train_epochs=10,\n",
        "#     weight_decay=0.01,\n",
        "#     save_strategy='no',\n",
        "#     report_to='none',\n",
        "# )"
      ],
      "execution_count": null,
      "outputs": []
    },
    {
      "cell_type": "code",
      "metadata": {
        "id": "wqPljqiRXmFs"
      },
      "source": [
        "from transformers import DataCollatorForTokenClassification\n",
        "\n",
        "data_collator = DataCollatorForTokenClassification(tokenizer)"
      ],
      "execution_count": null,
      "outputs": []
    },
    {
      "cell_type": "code",
      "metadata": {
        "id": "5-Dx0Fn3XoOE"
      },
      "source": [
        "metric = load_metric(\"seqeval\")"
      ],
      "execution_count": null,
      "outputs": []
    },
    {
      "cell_type": "code",
      "metadata": {
        "id": "_F8TNQRBXqLN"
      },
      "source": [
        "# example = ner_train[4]\n",
        "# labels = example['tags']\n",
        "# metric.compute(predictions=[labels], references=[labels])"
      ],
      "execution_count": null,
      "outputs": []
    },
    {
      "cell_type": "code",
      "metadata": {
        "id": "uB_XApu4XrtD"
      },
      "source": [
        "def compute_metrics(p):\n",
        "    predictions, labels = p\n",
        "    predictions = np.argmax(predictions, axis=2)\n",
        "\n",
        "    # Remove ignored index (special tokens)\n",
        "    true_predictions = [\n",
        "        [label_list[p] for (p, l) in zip(prediction, label) if l != -100]\n",
        "        for prediction, label in zip(predictions, labels)\n",
        "    ]\n",
        "    true_labels = [\n",
        "        [label_list[l] for (p, l) in zip(prediction, label) if l != -100]\n",
        "        for prediction, label in zip(predictions, labels)\n",
        "    ]\n",
        "\n",
        "    results = metric.compute(predictions=true_predictions, references=true_labels, zero_division=0)\n",
        "    return {\n",
        "        \"precision\": results[\"overall_precision\"],\n",
        "        \"recall\": results[\"overall_recall\"],\n",
        "        \"f1\": results[\"overall_f1\"],\n",
        "        \"accuracy\": results[\"overall_accuracy\"],\n",
        "    }"
      ],
      "execution_count": null,
      "outputs": []
    },
    {
      "cell_type": "code",
      "metadata": {
        "id": "-JgdrAacYBqS"
      },
      "source": [
        "# trainer = Trainer(\n",
        "#     model,\n",
        "#     args,\n",
        "#     train_dataset=tokenized_datasets[\"train\"],\n",
        "#     eval_dataset=tokenized_datasets[\"test\"],\n",
        "#     data_collator=data_collator,\n",
        "#     tokenizer=tokenizer,\n",
        "#     compute_metrics=compute_metrics\n",
        "# )"
      ],
      "execution_count": null,
      "outputs": []
    },
    {
      "cell_type": "code",
      "metadata": {
        "id": "L7pFGLtBYDyV"
      },
      "source": [
        "# trainer.evaluate()"
      ],
      "execution_count": null,
      "outputs": []
    },
    {
      "cell_type": "code",
      "metadata": {
        "id": "w4r2GWRnYFNl"
      },
      "source": [
        "# for param in model.bert.parameters():\n",
        "    # param.requires_grad = False"
      ],
      "execution_count": null,
      "outputs": []
    },
    {
      "cell_type": "code",
      "metadata": {
        "id": "TUhqEhPdYNRE"
      },
      "source": [
        "# for name, param in model.named_parameters():\n",
        "#     if param.requires_grad:\n",
        "#         print(name)\n",
        "#         print(param)"
      ],
      "execution_count": null,
      "outputs": []
    },
    {
      "cell_type": "code",
      "metadata": {
        "id": "ndBwdlk3YO8z"
      },
      "source": [
        "import logging\n",
        "from transformers.trainer import logger as noisy_logger\n",
        "noisy_logger.setLevel(logging.WARNING)"
      ],
      "execution_count": null,
      "outputs": []
    },
    {
      "cell_type": "code",
      "metadata": {
        "id": "hkKowlHkYQ6u"
      },
      "source": [
        "# trainer.train()"
      ],
      "execution_count": null,
      "outputs": []
    },
    {
      "cell_type": "code",
      "metadata": {
        "id": "HDPXZvGCYSKz"
      },
      "source": [
        "#разморозка\n",
        "for param in model.parameters():\n",
        "    param.requires_grad = True"
      ],
      "execution_count": null,
      "outputs": []
    },
    {
      "cell_type": "code",
      "metadata": {
        "colab": {
          "base_uri": "https://localhost:8080/"
        },
        "id": "FpY4FQUeYlDZ",
        "outputId": "aff4b5b6-c4f1-44ee-ec81-0749a9f29648"
      },
      "source": [
        "args = TrainingArguments(\n",
        "    \"ner\",\n",
        "    evaluation_strategy = \"epoch\",\n",
        "    learning_rate=1e-4,\n",
        "    per_device_train_batch_size=batch_size,\n",
        "    per_device_eval_batch_size=batch_size,\n",
        "    num_train_epochs=16,\n",
        "    weight_decay=0.01,\n",
        "    save_strategy='no',\n",
        "    report_to='none',\n",
        ")"
      ],
      "execution_count": null,
      "outputs": [
        {
          "output_type": "stream",
          "name": "stderr",
          "text": [
            "PyTorch: setting up devices\n"
          ]
        }
      ]
    },
    {
      "cell_type": "code",
      "metadata": {
        "id": "947w01tHYnms"
      },
      "source": [
        "trainer = Trainer(\n",
        "    model,\n",
        "    args,\n",
        "    train_dataset=tokenized_datasets[\"train\"],\n",
        "    eval_dataset=tokenized_datasets[\"test\"],\n",
        "    data_collator=data_collator,\n",
        "    tokenizer=tokenizer,\n",
        "    compute_metrics=compute_metrics\n",
        ")"
      ],
      "execution_count": null,
      "outputs": []
    },
    {
      "cell_type": "code",
      "metadata": {
        "colab": {
          "base_uri": "https://localhost:8080/",
          "height": 608
        },
        "id": "YZ7zs8u-YpBm",
        "outputId": "a09075f6-946e-4e68-80f7-691b0a9d5281"
      },
      "source": [
        "trainer.train()"
      ],
      "execution_count": null,
      "outputs": [
        {
          "output_type": "display_data",
          "data": {
            "text/html": [
              "\n",
              "    <div>\n",
              "      \n",
              "      <progress value='2688' max='2688' style='width:300px; height:20px; vertical-align: middle;'></progress>\n",
              "      [2688/2688 01:52, Epoch 16/16]\n",
              "    </div>\n",
              "    <table border=\"1\" class=\"dataframe\">\n",
              "  <thead>\n",
              "    <tr style=\"text-align: left;\">\n",
              "      <th>Epoch</th>\n",
              "      <th>Training Loss</th>\n",
              "      <th>Validation Loss</th>\n",
              "      <th>Precision</th>\n",
              "      <th>Recall</th>\n",
              "      <th>F1</th>\n",
              "      <th>Accuracy</th>\n",
              "    </tr>\n",
              "  </thead>\n",
              "  <tbody>\n",
              "    <tr>\n",
              "      <td>1</td>\n",
              "      <td>No log</td>\n",
              "      <td>0.272117</td>\n",
              "      <td>0.528814</td>\n",
              "      <td>0.636735</td>\n",
              "      <td>0.577778</td>\n",
              "      <td>0.911941</td>\n",
              "    </tr>\n",
              "    <tr>\n",
              "      <td>2</td>\n",
              "      <td>No log</td>\n",
              "      <td>0.148685</td>\n",
              "      <td>0.701149</td>\n",
              "      <td>0.746939</td>\n",
              "      <td>0.723320</td>\n",
              "      <td>0.952096</td>\n",
              "    </tr>\n",
              "    <tr>\n",
              "      <td>3</td>\n",
              "      <td>0.267900</td>\n",
              "      <td>0.085270</td>\n",
              "      <td>0.791667</td>\n",
              "      <td>0.853061</td>\n",
              "      <td>0.821218</td>\n",
              "      <td>0.972878</td>\n",
              "    </tr>\n",
              "    <tr>\n",
              "      <td>4</td>\n",
              "      <td>0.267900</td>\n",
              "      <td>0.041331</td>\n",
              "      <td>0.920949</td>\n",
              "      <td>0.951020</td>\n",
              "      <td>0.935743</td>\n",
              "      <td>0.990842</td>\n",
              "    </tr>\n",
              "    <tr>\n",
              "      <td>5</td>\n",
              "      <td>0.267900</td>\n",
              "      <td>0.023614</td>\n",
              "      <td>0.952756</td>\n",
              "      <td>0.987755</td>\n",
              "      <td>0.969940</td>\n",
              "      <td>0.995069</td>\n",
              "    </tr>\n",
              "    <tr>\n",
              "      <td>6</td>\n",
              "      <td>0.066700</td>\n",
              "      <td>0.023106</td>\n",
              "      <td>0.893536</td>\n",
              "      <td>0.959184</td>\n",
              "      <td>0.925197</td>\n",
              "      <td>0.990842</td>\n",
              "    </tr>\n",
              "    <tr>\n",
              "      <td>7</td>\n",
              "      <td>0.066700</td>\n",
              "      <td>0.011830</td>\n",
              "      <td>0.971888</td>\n",
              "      <td>0.987755</td>\n",
              "      <td>0.979757</td>\n",
              "      <td>0.997534</td>\n",
              "    </tr>\n",
              "    <tr>\n",
              "      <td>8</td>\n",
              "      <td>0.066700</td>\n",
              "      <td>0.008166</td>\n",
              "      <td>0.979920</td>\n",
              "      <td>0.995918</td>\n",
              "      <td>0.987854</td>\n",
              "      <td>0.997887</td>\n",
              "    </tr>\n",
              "    <tr>\n",
              "      <td>9</td>\n",
              "      <td>0.024300</td>\n",
              "      <td>0.002702</td>\n",
              "      <td>0.987854</td>\n",
              "      <td>0.995918</td>\n",
              "      <td>0.991870</td>\n",
              "      <td>0.999296</td>\n",
              "    </tr>\n",
              "    <tr>\n",
              "      <td>10</td>\n",
              "      <td>0.024300</td>\n",
              "      <td>0.003961</td>\n",
              "      <td>0.983936</td>\n",
              "      <td>1.000000</td>\n",
              "      <td>0.991903</td>\n",
              "      <td>0.998591</td>\n",
              "    </tr>\n",
              "    <tr>\n",
              "      <td>11</td>\n",
              "      <td>0.024300</td>\n",
              "      <td>0.001628</td>\n",
              "      <td>0.987854</td>\n",
              "      <td>0.995918</td>\n",
              "      <td>0.991870</td>\n",
              "      <td>0.999296</td>\n",
              "    </tr>\n",
              "    <tr>\n",
              "      <td>12</td>\n",
              "      <td>0.010300</td>\n",
              "      <td>0.000443</td>\n",
              "      <td>1.000000</td>\n",
              "      <td>1.000000</td>\n",
              "      <td>1.000000</td>\n",
              "      <td>1.000000</td>\n",
              "    </tr>\n",
              "    <tr>\n",
              "      <td>13</td>\n",
              "      <td>0.010300</td>\n",
              "      <td>0.000405</td>\n",
              "      <td>1.000000</td>\n",
              "      <td>1.000000</td>\n",
              "      <td>1.000000</td>\n",
              "      <td>1.000000</td>\n",
              "    </tr>\n",
              "    <tr>\n",
              "      <td>14</td>\n",
              "      <td>0.010300</td>\n",
              "      <td>0.000376</td>\n",
              "      <td>1.000000</td>\n",
              "      <td>1.000000</td>\n",
              "      <td>1.000000</td>\n",
              "      <td>1.000000</td>\n",
              "    </tr>\n",
              "    <tr>\n",
              "      <td>15</td>\n",
              "      <td>0.004800</td>\n",
              "      <td>0.000306</td>\n",
              "      <td>1.000000</td>\n",
              "      <td>1.000000</td>\n",
              "      <td>1.000000</td>\n",
              "      <td>1.000000</td>\n",
              "    </tr>\n",
              "    <tr>\n",
              "      <td>16</td>\n",
              "      <td>0.004800</td>\n",
              "      <td>0.000267</td>\n",
              "      <td>1.000000</td>\n",
              "      <td>1.000000</td>\n",
              "      <td>1.000000</td>\n",
              "      <td>1.000000</td>\n",
              "    </tr>\n",
              "  </tbody>\n",
              "</table><p>"
            ],
            "text/plain": [
              "<IPython.core.display.HTML object>"
            ]
          },
          "metadata": {}
        },
        {
          "output_type": "execute_result",
          "data": {
            "text/plain": [
              "TrainOutput(global_step=2688, training_loss=0.06991522666066885, metrics={'train_runtime': 112.6336, 'train_samples_per_second': 95.176, 'train_steps_per_second': 23.865, 'total_flos': 15289883012160.0, 'train_loss': 0.06991522666066885, 'epoch': 16.0})"
            ]
          },
          "metadata": {},
          "execution_count": 778
        }
      ]
    },
    {
      "cell_type": "code",
      "metadata": {
        "colab": {
          "base_uri": "https://localhost:8080/",
          "height": 190
        },
        "id": "2vup8MfcYrkh",
        "outputId": "db0c4847-10a0-4d7e-f563-bebdb56a2b95"
      },
      "source": [
        "trainer.evaluate()"
      ],
      "execution_count": null,
      "outputs": [
        {
          "output_type": "display_data",
          "data": {
            "text/html": [
              "\n",
              "    <div>\n",
              "      \n",
              "      <progress value='17' max='17' style='width:300px; height:20px; vertical-align: middle;'></progress>\n",
              "      [17/17 00:00]\n",
              "    </div>\n",
              "    "
            ],
            "text/plain": [
              "<IPython.core.display.HTML object>"
            ]
          },
          "metadata": {}
        },
        {
          "output_type": "execute_result",
          "data": {
            "text/plain": [
              "{'epoch': 16.0,\n",
              " 'eval_accuracy': 1.0,\n",
              " 'eval_f1': 1.0,\n",
              " 'eval_loss': 0.00026734662242233753,\n",
              " 'eval_precision': 1.0,\n",
              " 'eval_recall': 1.0,\n",
              " 'eval_runtime': 0.2772,\n",
              " 'eval_samples_per_second': 241.703,\n",
              " 'eval_steps_per_second': 61.328}"
            ]
          },
          "metadata": {},
          "execution_count": 779
        }
      ]
    },
    {
      "cell_type": "code",
      "metadata": {
        "id": "tn51Q_kTY8O1"
      },
      "source": [
        "# predictions, labels, _ = trainer.predict(tokenized_datasets[\"test\"])\n",
        "# predictions = np.argmax(predictions, axis=2)\n",
        "\n",
        "# # Remove ignored index (special tokens)\n",
        "# true_predictions = [\n",
        "#     [label_list[p] for (p, l) in zip(prediction, label) if l != -100]\n",
        "#     for prediction, label in zip(predictions, labels)\n",
        "# ]\n",
        "# true_labels = [\n",
        "#     [label_list[l] for (p, l) in zip(prediction, label) if l != -100]\n",
        "#     for prediction, label in zip(predictions, labels)\n",
        "# ]\n",
        "\n",
        "# results = metric.compute(predictions=true_predictions, references=true_labels)\n",
        "# results"
      ],
      "execution_count": null,
      "outputs": []
    },
    {
      "cell_type": "code",
      "metadata": {
        "id": "urxjb6l4ZL8M"
      },
      "source": [
        "# tokens = tokenizer(text, return_tensors='pt')\n",
        "# tokens = {k: v.to(model.device) for k, v in tokens.items()}\n",
        "\n",
        "# with torch.no_grad():\n",
        "#     pred = model(**tokens)\n",
        "# pred.logits.shape"
      ],
      "execution_count": null,
      "outputs": []
    },
    {
      "cell_type": "code",
      "metadata": {
        "id": "SD6g3lvlZPJr"
      },
      "source": [
        "# indices = pred.logits.argmax(dim=-1)[0].cpu().numpy()\n",
        "# token_text = tokenizer.convert_ids_to_tokens(tokens['input_ids'][0])\n",
        "# for t, idx in zip(token_text, indices):\n",
        "#     print(f'{t:15s} {label_list[idx]:10s}')"
      ],
      "execution_count": null,
      "outputs": []
    },
    {
      "cell_type": "code",
      "metadata": {
        "colab": {
          "base_uri": "https://localhost:8080/"
        },
        "id": "q0O-e3chFobB",
        "outputId": "71b7dddc-1257-4e15-e122-b9ac67286c80"
      },
      "source": [
        "model.save_pretrained('ner_bert_top14/')\n",
        "tokenizer.save_pretrained('ner_bert_top14/')"
      ],
      "execution_count": null,
      "outputs": [
        {
          "output_type": "stream",
          "name": "stderr",
          "text": [
            "Configuration saved in ner_bert_top14/config.json\n",
            "Model weights saved in ner_bert_top14/pytorch_model.bin\n",
            "tokenizer config file saved in ner_bert_top14/tokenizer_config.json\n",
            "Special tokens file saved in ner_bert_top14/special_tokens_map.json\n"
          ]
        },
        {
          "output_type": "execute_result",
          "data": {
            "text/plain": [
              "('ner_bert_top14/tokenizer_config.json',\n",
              " 'ner_bert_top14/special_tokens_map.json',\n",
              " 'ner_bert_top14/vocab.txt',\n",
              " 'ner_bert_top14/added_tokens.json',\n",
              " 'ner_bert_top14/tokenizer.json')"
            ]
          },
          "metadata": {},
          "execution_count": 799
        }
      ]
    },
    {
      "cell_type": "code",
      "metadata": {
        "id": "-dibtfMmZRHA"
      },
      "source": [
        "from transformers import pipeline\n",
        "pipe = pipeline(model=model, tokenizer=tokenizer, task='ner', aggregation_strategy='average', device=0)"
      ],
      "execution_count": null,
      "outputs": []
    },
    {
      "cell_type": "code",
      "metadata": {
        "id": "Qm-DFpdIyGrK"
      },
      "source": [
        "# !wget -q -O test.csv https://getfile.dokpub.com/yandex/get/https://disk.yandex.ru/d/Wo70d4_PAwujqA"
      ],
      "execution_count": null,
      "outputs": []
    },
    {
      "cell_type": "code",
      "metadata": {
        "id": "MAr6YsHvyHIU"
      },
      "source": [
        "test_df = pd.read_csv('test.csv')"
      ],
      "execution_count": null,
      "outputs": []
    },
    {
      "cell_type": "code",
      "metadata": {
        "colab": {
          "base_uri": "https://localhost:8080/"
        },
        "id": "Ng2R4yo4IPPP",
        "outputId": "f2180a5a-739d-4687-81cc-be8d46ff282b"
      },
      "source": [
        "d = 0\n",
        "print(test_df.text[d])\n",
        "pipe(test_df.text[d])"
      ],
      "execution_count": null,
      "outputs": [
        {
          "output_type": "stream",
          "name": "stdout",
          "text": [
            "Понос у месячных телят. Подскажите методы и способы лечения жидкого стула у месячных телят. Хватают в рот и лижут всё что видят, сено, солому, лижут соль. Потом страдают. И мы вместе с ними.\n"
          ]
        },
        {
          "output_type": "execute_result",
          "data": {
            "text/plain": [
              "[{'end': 5,\n",
              "  'entity_group': 'ADR',\n",
              "  'score': 0.99978495,\n",
              "  'start': 0,\n",
              "  'word': 'Понос'}]"
            ]
          },
          "metadata": {},
          "execution_count": 798
        }
      ]
    },
    {
      "cell_type": "code",
      "metadata": {
        "colab": {
          "base_uri": "https://localhost:8080/"
        },
        "id": "qGkJ7DeBc-Kq",
        "outputId": "c9b0080f-f1a0-4e54-f668-25e4c987f2d4"
      },
      "source": [
        "ner_model.hugginface_pipeline(test_df.text[d])"
      ],
      "execution_count": null,
      "outputs": [
        {
          "output_type": "stream",
          "name": "stderr",
          "text": [
            "/usr/local/lib/python3.7/dist-packages/transformers/pipelines/base.py:910: UserWarning: You seem to be using the pipelines sequentially on GPU. In order to maximize efficiency please use a dataset\n",
            "  UserWarning,\n"
          ]
        },
        {
          "output_type": "execute_result",
          "data": {
            "text/plain": [
              "[{'end': 86,\n",
              "  'entity_group': 'ADR',\n",
              "  'score': 0.7198193,\n",
              "  'start': 79,\n",
              "  'word': 'твёрдая'}]"
            ]
          },
          "metadata": {},
          "execution_count": 794
        }
      ]
    },
    {
      "cell_type": "code",
      "metadata": {
        "colab": {
          "base_uri": "https://localhost:8080/"
        },
        "id": "NY0deLSSI6vv",
        "outputId": "acef327b-5927-46ea-9aa9-4bf3e5208625"
      },
      "source": [
        "from ner_scripts2.spans_prediction import NER\n",
        "ner_model = NER('ner_bert_top12/', 'ner_bert_top12/')"
      ],
      "execution_count": null,
      "outputs": [
        {
          "output_type": "stream",
          "name": "stderr",
          "text": [
            "loading configuration file ner_bert_top12/config.json\n",
            "Model config BertConfig {\n",
            "  \"_name_or_path\": \"cointegrated/rubert-tiny2\",\n",
            "  \"architectures\": [\n",
            "    \"BertForTokenClassification\"\n",
            "  ],\n",
            "  \"attention_probs_dropout_prob\": 0.1,\n",
            "  \"classifier_dropout\": null,\n",
            "  \"emb_size\": 312,\n",
            "  \"gradient_checkpointing\": false,\n",
            "  \"hidden_act\": \"gelu\",\n",
            "  \"hidden_dropout_prob\": 0.1,\n",
            "  \"hidden_size\": 312,\n",
            "  \"id2label\": {\n",
            "    \"0\": \"O\",\n",
            "    \"1\": \"B-ADR\",\n",
            "    \"2\": \"I-ADR\"\n",
            "  },\n",
            "  \"initializer_range\": 0.02,\n",
            "  \"intermediate_size\": 600,\n",
            "  \"label2id\": {\n",
            "    \"B-ADR\": 1,\n",
            "    \"I-ADR\": 2,\n",
            "    \"O\": 0\n",
            "  },\n",
            "  \"layer_norm_eps\": 1e-12,\n",
            "  \"max_position_embeddings\": 2048,\n",
            "  \"model_type\": \"bert\",\n",
            "  \"num_attention_heads\": 12,\n",
            "  \"num_hidden_layers\": 3,\n",
            "  \"pad_token_id\": 0,\n",
            "  \"position_embedding_type\": \"absolute\",\n",
            "  \"torch_dtype\": \"float32\",\n",
            "  \"transformers_version\": \"4.12.3\",\n",
            "  \"type_vocab_size\": 2,\n",
            "  \"use_cache\": true,\n",
            "  \"vocab_size\": 83828\n",
            "}\n",
            "\n",
            "loading weights file ner_bert_top12/pytorch_model.bin\n",
            "All model checkpoint weights were used when initializing BertForTokenClassification.\n",
            "\n",
            "All the weights of BertForTokenClassification were initialized from the model checkpoint at ner_bert_top12/.\n",
            "If your task is similar to the task the model of the checkpoint was trained on, you can already use BertForTokenClassification for predictions without further training.\n",
            "Didn't find file ner_bert_top12/added_tokens.json. We won't load it.\n",
            "loading file ner_bert_top12/vocab.txt\n",
            "loading file ner_bert_top12/tokenizer.json\n",
            "loading file None\n",
            "loading file ner_bert_top12/special_tokens_map.json\n",
            "loading file ner_bert_top12/tokenizer_config.json\n"
          ]
        }
      ]
    },
    {
      "cell_type": "code",
      "metadata": {
        "colab": {
          "base_uri": "https://localhost:8080/"
        },
        "id": "x-gno6DNJZ0r",
        "outputId": "d188c245-d2e1-4b3a-cba7-c87f1b259e02"
      },
      "source": [
        "test_df['span'] = test_df['text'].apply(lambda x: ner_model.predict_spans(x))"
      ],
      "execution_count": null,
      "outputs": [
        {
          "output_type": "stream",
          "name": "stderr",
          "text": [
            "/usr/local/lib/python3.7/dist-packages/transformers/pipelines/base.py:910: UserWarning: You seem to be using the pipelines sequentially on GPU. In order to maximize efficiency please use a dataset\n",
            "  UserWarning,\n"
          ]
        }
      ]
    },
    {
      "cell_type": "code",
      "metadata": {
        "id": "wUtL4Etcvk-B"
      },
      "source": [
        "test_df.to_json('test_df_with_spans14.json')"
      ],
      "execution_count": null,
      "outputs": []
    },
    {
      "cell_type": "code",
      "metadata": {
        "colab": {
          "base_uri": "https://localhost:8080/"
        },
        "id": "-0n9di-F2HxD",
        "outputId": "332f2425-1f58-4be1-d78e-37fcb3dd9159"
      },
      "source": [
        "!zip -r /content/ner_bert_top14.zip /content/ner_bert_top14"
      ],
      "execution_count": null,
      "outputs": [
        {
          "output_type": "stream",
          "name": "stdout",
          "text": [
            "  adding: content/ner_bert_top14/ (stored 0%)\n",
            "  adding: content/ner_bert_top14/vocab.txt (deflated 64%)\n",
            "  adding: content/ner_bert_top14/pytorch_model.bin (deflated 8%)\n",
            "  adding: content/ner_bert_top14/special_tokens_map.json (deflated 40%)\n",
            "  adding: content/ner_bert_top14/tokenizer.json (deflated 65%)\n",
            "  adding: content/ner_bert_top14/tokenizer_config.json (deflated 42%)\n",
            "  adding: content/ner_bert_top14/config.json (deflated 49%)\n"
          ]
        }
      ]
    },
    {
      "cell_type": "code",
      "metadata": {
        "colab": {
          "base_uri": "https://localhost:8080/",
          "height": 17
        },
        "id": "74No6WS73uvR",
        "outputId": "7fbbf772-4488-471b-ade3-a3e57166f7fe"
      },
      "source": [
        "from google.colab import files\n",
        "files.download(\"/content/ner_bert_top14.zip\")"
      ],
      "execution_count": null,
      "outputs": [
        {
          "output_type": "display_data",
          "data": {
            "application/javascript": [
              "\n",
              "    async function download(id, filename, size) {\n",
              "      if (!google.colab.kernel.accessAllowed) {\n",
              "        return;\n",
              "      }\n",
              "      const div = document.createElement('div');\n",
              "      const label = document.createElement('label');\n",
              "      label.textContent = `Downloading \"${filename}\": `;\n",
              "      div.appendChild(label);\n",
              "      const progress = document.createElement('progress');\n",
              "      progress.max = size;\n",
              "      div.appendChild(progress);\n",
              "      document.body.appendChild(div);\n",
              "\n",
              "      const buffers = [];\n",
              "      let downloaded = 0;\n",
              "\n",
              "      const channel = await google.colab.kernel.comms.open(id);\n",
              "      // Send a message to notify the kernel that we're ready.\n",
              "      channel.send({})\n",
              "\n",
              "      for await (const message of channel.messages) {\n",
              "        // Send a message to notify the kernel that we're ready.\n",
              "        channel.send({})\n",
              "        if (message.buffers) {\n",
              "          for (const buffer of message.buffers) {\n",
              "            buffers.push(buffer);\n",
              "            downloaded += buffer.byteLength;\n",
              "            progress.value = downloaded;\n",
              "          }\n",
              "        }\n",
              "      }\n",
              "      const blob = new Blob(buffers, {type: 'application/binary'});\n",
              "      const a = document.createElement('a');\n",
              "      a.href = window.URL.createObjectURL(blob);\n",
              "      a.download = filename;\n",
              "      div.appendChild(a);\n",
              "      a.click();\n",
              "      div.remove();\n",
              "    }\n",
              "  "
            ],
            "text/plain": [
              "<IPython.core.display.Javascript object>"
            ]
          },
          "metadata": {}
        },
        {
          "output_type": "display_data",
          "data": {
            "application/javascript": [
              "download(\"download_8a64de1d-59cb-49a5-8863-f89731c6d97c\", \"ner_bert_top14.zip\", 108092105)"
            ],
            "text/plain": [
              "<IPython.core.display.Javascript object>"
            ]
          },
          "metadata": {}
        }
      ]
    }
  ]
}