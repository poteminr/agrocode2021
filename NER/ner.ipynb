{
  "nbformat": 4,
  "nbformat_minor": 0,
  "metadata": {
    "colab": {
      "name": "ner.ipynb",
      "provenance": [],
      "collapsed_sections": []
    },
    "kernelspec": {
      "name": "python3",
      "display_name": "Python 3"
    },
    "language_info": {
      "name": "python"
    },
    "accelerator": "GPU",
    "widgets": {
      "application/vnd.jupyter.widget-state+json": {
        "051dfc1b08ba4a548b0ded83776a1ede": {
          "model_module": "@jupyter-widgets/controls",
          "model_name": "HBoxModel",
          "model_module_version": "1.5.0",
          "state": {
            "_view_name": "HBoxView",
            "_dom_classes": [],
            "_model_name": "HBoxModel",
            "_view_module": "@jupyter-widgets/controls",
            "_model_module_version": "1.5.0",
            "_view_count": null,
            "_view_module_version": "1.5.0",
            "box_style": "",
            "layout": "IPY_MODEL_a4e5ba15834846e78a53b71e4e67073a",
            "_model_module": "@jupyter-widgets/controls",
            "children": [
              "IPY_MODEL_ce0c7b89d3424f1a8245d30a3304f1f4",
              "IPY_MODEL_19d3bf6018594d16be20348ff76a54f5",
              "IPY_MODEL_9cf9d226505041ee8117b929d44eb724"
            ]
          }
        },
        "a4e5ba15834846e78a53b71e4e67073a": {
          "model_module": "@jupyter-widgets/base",
          "model_name": "LayoutModel",
          "model_module_version": "1.2.0",
          "state": {
            "_view_name": "LayoutView",
            "grid_template_rows": null,
            "right": null,
            "justify_content": null,
            "_view_module": "@jupyter-widgets/base",
            "overflow": null,
            "_model_module_version": "1.2.0",
            "_view_count": null,
            "flex_flow": null,
            "width": null,
            "min_width": null,
            "border": null,
            "align_items": null,
            "bottom": null,
            "_model_module": "@jupyter-widgets/base",
            "top": null,
            "grid_column": null,
            "overflow_y": null,
            "overflow_x": null,
            "grid_auto_flow": null,
            "grid_area": null,
            "grid_template_columns": null,
            "flex": null,
            "_model_name": "LayoutModel",
            "justify_items": null,
            "grid_row": null,
            "max_height": null,
            "align_content": null,
            "visibility": null,
            "align_self": null,
            "height": null,
            "min_height": null,
            "padding": null,
            "grid_auto_rows": null,
            "grid_gap": null,
            "max_width": null,
            "order": null,
            "_view_module_version": "1.2.0",
            "grid_template_areas": null,
            "object_position": null,
            "object_fit": null,
            "grid_auto_columns": null,
            "margin": null,
            "display": null,
            "left": null
          }
        },
        "ce0c7b89d3424f1a8245d30a3304f1f4": {
          "model_module": "@jupyter-widgets/controls",
          "model_name": "HTMLModel",
          "model_module_version": "1.5.0",
          "state": {
            "_view_name": "HTMLView",
            "style": "IPY_MODEL_ad97b03b7157486b8711e0ff23db5242",
            "_dom_classes": [],
            "description": "",
            "_model_name": "HTMLModel",
            "placeholder": "​",
            "_view_module": "@jupyter-widgets/controls",
            "_model_module_version": "1.5.0",
            "value": "100%",
            "_view_count": null,
            "_view_module_version": "1.5.0",
            "description_tooltip": null,
            "_model_module": "@jupyter-widgets/controls",
            "layout": "IPY_MODEL_436c77d5377a46869085fdadc8fa5c97"
          }
        },
        "19d3bf6018594d16be20348ff76a54f5": {
          "model_module": "@jupyter-widgets/controls",
          "model_name": "FloatProgressModel",
          "model_module_version": "1.5.0",
          "state": {
            "_view_name": "ProgressView",
            "style": "IPY_MODEL_b523badc2ced47d899f931bbb8daefe5",
            "_dom_classes": [],
            "description": "",
            "_model_name": "FloatProgressModel",
            "bar_style": "success",
            "max": 1,
            "_view_module": "@jupyter-widgets/controls",
            "_model_module_version": "1.5.0",
            "value": 1,
            "_view_count": null,
            "_view_module_version": "1.5.0",
            "orientation": "horizontal",
            "min": 0,
            "description_tooltip": null,
            "_model_module": "@jupyter-widgets/controls",
            "layout": "IPY_MODEL_564402b48486443dada83624f526c95c"
          }
        },
        "9cf9d226505041ee8117b929d44eb724": {
          "model_module": "@jupyter-widgets/controls",
          "model_name": "HTMLModel",
          "model_module_version": "1.5.0",
          "state": {
            "_view_name": "HTMLView",
            "style": "IPY_MODEL_8fc6a43d762d43a2856a0ef756b84152",
            "_dom_classes": [],
            "description": "",
            "_model_name": "HTMLModel",
            "placeholder": "​",
            "_view_module": "@jupyter-widgets/controls",
            "_model_module_version": "1.5.0",
            "value": " 1/1 [00:00&lt;00:00, 16.18ba/s]",
            "_view_count": null,
            "_view_module_version": "1.5.0",
            "description_tooltip": null,
            "_model_module": "@jupyter-widgets/controls",
            "layout": "IPY_MODEL_e3c610ea38704359ad753d23c7e5ead8"
          }
        },
        "ad97b03b7157486b8711e0ff23db5242": {
          "model_module": "@jupyter-widgets/controls",
          "model_name": "DescriptionStyleModel",
          "model_module_version": "1.5.0",
          "state": {
            "_view_name": "StyleView",
            "_model_name": "DescriptionStyleModel",
            "description_width": "",
            "_view_module": "@jupyter-widgets/base",
            "_model_module_version": "1.5.0",
            "_view_count": null,
            "_view_module_version": "1.2.0",
            "_model_module": "@jupyter-widgets/controls"
          }
        },
        "436c77d5377a46869085fdadc8fa5c97": {
          "model_module": "@jupyter-widgets/base",
          "model_name": "LayoutModel",
          "model_module_version": "1.2.0",
          "state": {
            "_view_name": "LayoutView",
            "grid_template_rows": null,
            "right": null,
            "justify_content": null,
            "_view_module": "@jupyter-widgets/base",
            "overflow": null,
            "_model_module_version": "1.2.0",
            "_view_count": null,
            "flex_flow": null,
            "width": null,
            "min_width": null,
            "border": null,
            "align_items": null,
            "bottom": null,
            "_model_module": "@jupyter-widgets/base",
            "top": null,
            "grid_column": null,
            "overflow_y": null,
            "overflow_x": null,
            "grid_auto_flow": null,
            "grid_area": null,
            "grid_template_columns": null,
            "flex": null,
            "_model_name": "LayoutModel",
            "justify_items": null,
            "grid_row": null,
            "max_height": null,
            "align_content": null,
            "visibility": null,
            "align_self": null,
            "height": null,
            "min_height": null,
            "padding": null,
            "grid_auto_rows": null,
            "grid_gap": null,
            "max_width": null,
            "order": null,
            "_view_module_version": "1.2.0",
            "grid_template_areas": null,
            "object_position": null,
            "object_fit": null,
            "grid_auto_columns": null,
            "margin": null,
            "display": null,
            "left": null
          }
        },
        "b523badc2ced47d899f931bbb8daefe5": {
          "model_module": "@jupyter-widgets/controls",
          "model_name": "ProgressStyleModel",
          "model_module_version": "1.5.0",
          "state": {
            "_view_name": "StyleView",
            "_model_name": "ProgressStyleModel",
            "description_width": "",
            "_view_module": "@jupyter-widgets/base",
            "_model_module_version": "1.5.0",
            "_view_count": null,
            "_view_module_version": "1.2.0",
            "bar_color": null,
            "_model_module": "@jupyter-widgets/controls"
          }
        },
        "564402b48486443dada83624f526c95c": {
          "model_module": "@jupyter-widgets/base",
          "model_name": "LayoutModel",
          "model_module_version": "1.2.0",
          "state": {
            "_view_name": "LayoutView",
            "grid_template_rows": null,
            "right": null,
            "justify_content": null,
            "_view_module": "@jupyter-widgets/base",
            "overflow": null,
            "_model_module_version": "1.2.0",
            "_view_count": null,
            "flex_flow": null,
            "width": null,
            "min_width": null,
            "border": null,
            "align_items": null,
            "bottom": null,
            "_model_module": "@jupyter-widgets/base",
            "top": null,
            "grid_column": null,
            "overflow_y": null,
            "overflow_x": null,
            "grid_auto_flow": null,
            "grid_area": null,
            "grid_template_columns": null,
            "flex": null,
            "_model_name": "LayoutModel",
            "justify_items": null,
            "grid_row": null,
            "max_height": null,
            "align_content": null,
            "visibility": null,
            "align_self": null,
            "height": null,
            "min_height": null,
            "padding": null,
            "grid_auto_rows": null,
            "grid_gap": null,
            "max_width": null,
            "order": null,
            "_view_module_version": "1.2.0",
            "grid_template_areas": null,
            "object_position": null,
            "object_fit": null,
            "grid_auto_columns": null,
            "margin": null,
            "display": null,
            "left": null
          }
        },
        "8fc6a43d762d43a2856a0ef756b84152": {
          "model_module": "@jupyter-widgets/controls",
          "model_name": "DescriptionStyleModel",
          "model_module_version": "1.5.0",
          "state": {
            "_view_name": "StyleView",
            "_model_name": "DescriptionStyleModel",
            "description_width": "",
            "_view_module": "@jupyter-widgets/base",
            "_model_module_version": "1.5.0",
            "_view_count": null,
            "_view_module_version": "1.2.0",
            "_model_module": "@jupyter-widgets/controls"
          }
        },
        "e3c610ea38704359ad753d23c7e5ead8": {
          "model_module": "@jupyter-widgets/base",
          "model_name": "LayoutModel",
          "model_module_version": "1.2.0",
          "state": {
            "_view_name": "LayoutView",
            "grid_template_rows": null,
            "right": null,
            "justify_content": null,
            "_view_module": "@jupyter-widgets/base",
            "overflow": null,
            "_model_module_version": "1.2.0",
            "_view_count": null,
            "flex_flow": null,
            "width": null,
            "min_width": null,
            "border": null,
            "align_items": null,
            "bottom": null,
            "_model_module": "@jupyter-widgets/base",
            "top": null,
            "grid_column": null,
            "overflow_y": null,
            "overflow_x": null,
            "grid_auto_flow": null,
            "grid_area": null,
            "grid_template_columns": null,
            "flex": null,
            "_model_name": "LayoutModel",
            "justify_items": null,
            "grid_row": null,
            "max_height": null,
            "align_content": null,
            "visibility": null,
            "align_self": null,
            "height": null,
            "min_height": null,
            "padding": null,
            "grid_auto_rows": null,
            "grid_gap": null,
            "max_width": null,
            "order": null,
            "_view_module_version": "1.2.0",
            "grid_template_areas": null,
            "object_position": null,
            "object_fit": null,
            "grid_auto_columns": null,
            "margin": null,
            "display": null,
            "left": null
          }
        },
        "117cd5614ab545d8b0713f71b75228a0": {
          "model_module": "@jupyter-widgets/controls",
          "model_name": "HBoxModel",
          "model_module_version": "1.5.0",
          "state": {
            "_view_name": "HBoxView",
            "_dom_classes": [],
            "_model_name": "HBoxModel",
            "_view_module": "@jupyter-widgets/controls",
            "_model_module_version": "1.5.0",
            "_view_count": null,
            "_view_module_version": "1.5.0",
            "box_style": "",
            "layout": "IPY_MODEL_6761b6cd198f417a98d6ff5c848e6700",
            "_model_module": "@jupyter-widgets/controls",
            "children": [
              "IPY_MODEL_51e3179c52a34cc99f75d211fd990f68",
              "IPY_MODEL_604777c0220045478e2be5ef196bb700",
              "IPY_MODEL_6bd860e8ddef454c81a4840c4294dd4a"
            ]
          }
        },
        "6761b6cd198f417a98d6ff5c848e6700": {
          "model_module": "@jupyter-widgets/base",
          "model_name": "LayoutModel",
          "model_module_version": "1.2.0",
          "state": {
            "_view_name": "LayoutView",
            "grid_template_rows": null,
            "right": null,
            "justify_content": null,
            "_view_module": "@jupyter-widgets/base",
            "overflow": null,
            "_model_module_version": "1.2.0",
            "_view_count": null,
            "flex_flow": null,
            "width": null,
            "min_width": null,
            "border": null,
            "align_items": null,
            "bottom": null,
            "_model_module": "@jupyter-widgets/base",
            "top": null,
            "grid_column": null,
            "overflow_y": null,
            "overflow_x": null,
            "grid_auto_flow": null,
            "grid_area": null,
            "grid_template_columns": null,
            "flex": null,
            "_model_name": "LayoutModel",
            "justify_items": null,
            "grid_row": null,
            "max_height": null,
            "align_content": null,
            "visibility": null,
            "align_self": null,
            "height": null,
            "min_height": null,
            "padding": null,
            "grid_auto_rows": null,
            "grid_gap": null,
            "max_width": null,
            "order": null,
            "_view_module_version": "1.2.0",
            "grid_template_areas": null,
            "object_position": null,
            "object_fit": null,
            "grid_auto_columns": null,
            "margin": null,
            "display": null,
            "left": null
          }
        },
        "51e3179c52a34cc99f75d211fd990f68": {
          "model_module": "@jupyter-widgets/controls",
          "model_name": "HTMLModel",
          "model_module_version": "1.5.0",
          "state": {
            "_view_name": "HTMLView",
            "style": "IPY_MODEL_b67fbac95f3c4ff7bba6b2c04ee9facb",
            "_dom_classes": [],
            "description": "",
            "_model_name": "HTMLModel",
            "placeholder": "​",
            "_view_module": "@jupyter-widgets/controls",
            "_model_module_version": "1.5.0",
            "value": "100%",
            "_view_count": null,
            "_view_module_version": "1.5.0",
            "description_tooltip": null,
            "_model_module": "@jupyter-widgets/controls",
            "layout": "IPY_MODEL_2e5bd8c1638a43eaad5cb7efedfee1d1"
          }
        },
        "604777c0220045478e2be5ef196bb700": {
          "model_module": "@jupyter-widgets/controls",
          "model_name": "FloatProgressModel",
          "model_module_version": "1.5.0",
          "state": {
            "_view_name": "ProgressView",
            "style": "IPY_MODEL_9041539165104c358eb264eaa91e9c95",
            "_dom_classes": [],
            "description": "",
            "_model_name": "FloatProgressModel",
            "bar_style": "success",
            "max": 1,
            "_view_module": "@jupyter-widgets/controls",
            "_model_module_version": "1.5.0",
            "value": 1,
            "_view_count": null,
            "_view_module_version": "1.5.0",
            "orientation": "horizontal",
            "min": 0,
            "description_tooltip": null,
            "_model_module": "@jupyter-widgets/controls",
            "layout": "IPY_MODEL_e7ae422e081049fe93bae29f30bbb1f2"
          }
        },
        "6bd860e8ddef454c81a4840c4294dd4a": {
          "model_module": "@jupyter-widgets/controls",
          "model_name": "HTMLModel",
          "model_module_version": "1.5.0",
          "state": {
            "_view_name": "HTMLView",
            "style": "IPY_MODEL_3b369a968fc84670beacd55f5709ceb4",
            "_dom_classes": [],
            "description": "",
            "_model_name": "HTMLModel",
            "placeholder": "​",
            "_view_module": "@jupyter-widgets/controls",
            "_model_module_version": "1.5.0",
            "value": " 1/1 [00:00&lt;00:00, 20.50ba/s]",
            "_view_count": null,
            "_view_module_version": "1.5.0",
            "description_tooltip": null,
            "_model_module": "@jupyter-widgets/controls",
            "layout": "IPY_MODEL_fecd2af2851943ca9cd4603ecc348e3b"
          }
        },
        "b67fbac95f3c4ff7bba6b2c04ee9facb": {
          "model_module": "@jupyter-widgets/controls",
          "model_name": "DescriptionStyleModel",
          "model_module_version": "1.5.0",
          "state": {
            "_view_name": "StyleView",
            "_model_name": "DescriptionStyleModel",
            "description_width": "",
            "_view_module": "@jupyter-widgets/base",
            "_model_module_version": "1.5.0",
            "_view_count": null,
            "_view_module_version": "1.2.0",
            "_model_module": "@jupyter-widgets/controls"
          }
        },
        "2e5bd8c1638a43eaad5cb7efedfee1d1": {
          "model_module": "@jupyter-widgets/base",
          "model_name": "LayoutModel",
          "model_module_version": "1.2.0",
          "state": {
            "_view_name": "LayoutView",
            "grid_template_rows": null,
            "right": null,
            "justify_content": null,
            "_view_module": "@jupyter-widgets/base",
            "overflow": null,
            "_model_module_version": "1.2.0",
            "_view_count": null,
            "flex_flow": null,
            "width": null,
            "min_width": null,
            "border": null,
            "align_items": null,
            "bottom": null,
            "_model_module": "@jupyter-widgets/base",
            "top": null,
            "grid_column": null,
            "overflow_y": null,
            "overflow_x": null,
            "grid_auto_flow": null,
            "grid_area": null,
            "grid_template_columns": null,
            "flex": null,
            "_model_name": "LayoutModel",
            "justify_items": null,
            "grid_row": null,
            "max_height": null,
            "align_content": null,
            "visibility": null,
            "align_self": null,
            "height": null,
            "min_height": null,
            "padding": null,
            "grid_auto_rows": null,
            "grid_gap": null,
            "max_width": null,
            "order": null,
            "_view_module_version": "1.2.0",
            "grid_template_areas": null,
            "object_position": null,
            "object_fit": null,
            "grid_auto_columns": null,
            "margin": null,
            "display": null,
            "left": null
          }
        },
        "9041539165104c358eb264eaa91e9c95": {
          "model_module": "@jupyter-widgets/controls",
          "model_name": "ProgressStyleModel",
          "model_module_version": "1.5.0",
          "state": {
            "_view_name": "StyleView",
            "_model_name": "ProgressStyleModel",
            "description_width": "",
            "_view_module": "@jupyter-widgets/base",
            "_model_module_version": "1.5.0",
            "_view_count": null,
            "_view_module_version": "1.2.0",
            "bar_color": null,
            "_model_module": "@jupyter-widgets/controls"
          }
        },
        "e7ae422e081049fe93bae29f30bbb1f2": {
          "model_module": "@jupyter-widgets/base",
          "model_name": "LayoutModel",
          "model_module_version": "1.2.0",
          "state": {
            "_view_name": "LayoutView",
            "grid_template_rows": null,
            "right": null,
            "justify_content": null,
            "_view_module": "@jupyter-widgets/base",
            "overflow": null,
            "_model_module_version": "1.2.0",
            "_view_count": null,
            "flex_flow": null,
            "width": null,
            "min_width": null,
            "border": null,
            "align_items": null,
            "bottom": null,
            "_model_module": "@jupyter-widgets/base",
            "top": null,
            "grid_column": null,
            "overflow_y": null,
            "overflow_x": null,
            "grid_auto_flow": null,
            "grid_area": null,
            "grid_template_columns": null,
            "flex": null,
            "_model_name": "LayoutModel",
            "justify_items": null,
            "grid_row": null,
            "max_height": null,
            "align_content": null,
            "visibility": null,
            "align_self": null,
            "height": null,
            "min_height": null,
            "padding": null,
            "grid_auto_rows": null,
            "grid_gap": null,
            "max_width": null,
            "order": null,
            "_view_module_version": "1.2.0",
            "grid_template_areas": null,
            "object_position": null,
            "object_fit": null,
            "grid_auto_columns": null,
            "margin": null,
            "display": null,
            "left": null
          }
        },
        "3b369a968fc84670beacd55f5709ceb4": {
          "model_module": "@jupyter-widgets/controls",
          "model_name": "DescriptionStyleModel",
          "model_module_version": "1.5.0",
          "state": {
            "_view_name": "StyleView",
            "_model_name": "DescriptionStyleModel",
            "description_width": "",
            "_view_module": "@jupyter-widgets/base",
            "_model_module_version": "1.5.0",
            "_view_count": null,
            "_view_module_version": "1.2.0",
            "_model_module": "@jupyter-widgets/controls"
          }
        },
        "fecd2af2851943ca9cd4603ecc348e3b": {
          "model_module": "@jupyter-widgets/base",
          "model_name": "LayoutModel",
          "model_module_version": "1.2.0",
          "state": {
            "_view_name": "LayoutView",
            "grid_template_rows": null,
            "right": null,
            "justify_content": null,
            "_view_module": "@jupyter-widgets/base",
            "overflow": null,
            "_model_module_version": "1.2.0",
            "_view_count": null,
            "flex_flow": null,
            "width": null,
            "min_width": null,
            "border": null,
            "align_items": null,
            "bottom": null,
            "_model_module": "@jupyter-widgets/base",
            "top": null,
            "grid_column": null,
            "overflow_y": null,
            "overflow_x": null,
            "grid_auto_flow": null,
            "grid_area": null,
            "grid_template_columns": null,
            "flex": null,
            "_model_name": "LayoutModel",
            "justify_items": null,
            "grid_row": null,
            "max_height": null,
            "align_content": null,
            "visibility": null,
            "align_self": null,
            "height": null,
            "min_height": null,
            "padding": null,
            "grid_auto_rows": null,
            "grid_gap": null,
            "max_width": null,
            "order": null,
            "_view_module_version": "1.2.0",
            "grid_template_areas": null,
            "object_position": null,
            "object_fit": null,
            "grid_auto_columns": null,
            "margin": null,
            "display": null,
            "left": null
          }
        }
      }
    }
  },
  "cells": [
    {
      "cell_type": "code",
      "metadata": {
        "id": "HksPT3m2DFfj"
      },
      "source": [
        "! pip install -q datasets transformers seqeval\n",
        "!pip install -q corus razdel"
      ],
      "execution_count": 2,
      "outputs": []
    },
    {
      "cell_type": "code",
      "metadata": {
        "id": "1gxtDYtCWDtB"
      },
      "source": [
        "import pandas as pd\n",
        "import numpy as np\n",
        "from datasets import load_dataset, load_metric, Dataset, DatasetDict\n",
        "from razdel import tokenize\n",
        "import torch\n",
        "from sklearn.model_selection import train_test_split\n"
      ],
      "execution_count": 3,
      "outputs": []
    },
    {
      "cell_type": "code",
      "metadata": {
        "id": "Trik98b6DUDS"
      },
      "source": [
        "model_checkpoint = \"cointegrated/rubert-tiny2\"\n",
        "batch_size = 2"
      ],
      "execution_count": 4,
      "outputs": []
    },
    {
      "cell_type": "code",
      "metadata": {
        "id": "egeQgVMgEOjy"
      },
      "source": [
        "!wget -q -O train.csv https://getfile.dokpub.com/yandex/get/https://disk.yandex.ru/d/fmWGQJvwU5ejog\n",
        "!wget -q -O train_labels.json https://getfile.dokpub.com/yandex/get/https://disk.yandex.ru/d/0nJ2QTRb9-U7tA"
      ],
      "execution_count": 5,
      "outputs": []
    },
    {
      "cell_type": "code",
      "metadata": {
        "id": "5DlsYW_AEaLR"
      },
      "source": [
        "train_df = pd.read_csv('train.csv')\n",
        "train_labels = pd.read_json('train_labels.json').T"
      ],
      "execution_count": 6,
      "outputs": []
    },
    {
      "cell_type": "code",
      "metadata": {
        "id": "7bpjSMSsS2M8"
      },
      "source": [
        "def extract_labels(train_index):\n",
        "    text = train_df.text[train_index]\n",
        "    raw_toks = list(tokenize(text))\n",
        "    words = [tok.text for tok in raw_toks]\n",
        "\n",
        "    word_labels = ['O'] * len(raw_toks)\n",
        "    char2word = [None] * len(text)\n",
        "\n",
        "    for i, word in enumerate(raw_toks):\n",
        "        char2word[word.start:word.stop] = [i] * len(word.text)\n",
        "\n",
        "    spans = train_labels.span[train_index]\n",
        "    for e in spans:\n",
        "        entity_type = \"ADR\"\n",
        "        e_words = sorted({idx for idx in char2word[e[0]:e[1]] if idx is not None})\n",
        "        word_labels[e_words[0]] = 'B-' + entity_type\n",
        "        for idx in e_words[1:]:\n",
        "            word_labels[idx] = 'I-' + entity_type\n",
        "\n",
        "    return {'tokens': words, 'tags': word_labels}"
      ],
      "execution_count": 7,
      "outputs": []
    },
    {
      "cell_type": "code",
      "metadata": {
        "colab": {
          "base_uri": "https://localhost:8080/"
        },
        "id": "sgkx1t92T-2-",
        "outputId": "928876da-40d3-4c4c-b9e8-6160f86725d4"
      },
      "source": [
        "print(extract_labels(2))"
      ],
      "execution_count": 205,
      "outputs": [
        {
          "output_type": "stream",
          "name": "stdout",
          "text": [
            "{'tokens': ['Молоко', 'течёт', 'само', 'у', 'коровы', '.', 'Что', 'делать', ',', 'если', 'у', 'коровы', 'слабые', 'соски', 'и', 'молоко', 'бежит', 'из', 'них', 'само', '.', 'Молоко', 'течёт', 'само', 'у', 'коровы', '.', 'Помогите', 'советом', '.', 'Купили', 'корову', ',', 'было', '2', 'отёла', '.', 'Третий', 'должен', 'быть', 'в', 'феврале', '.', 'Ещё', 'доится', '.', 'Утром', 'и', 'вечером', 'по', '2–3', 'литра', '.', 'Иногда', 'вижу', 'лужицы', 'на', 'месте', ',', 'где', 'полежит', '.', 'Когда', 'доишь', ',', 'молоко', 'порой', 'само', 'бежит', 'из', 'соска', ',', 'который', 'не', 'трогаешь', '.', 'Понятно', ',', 'что', 'соски', 'слабые', '.', 'Бывшая', 'хозяйка', 'говорила', ',', 'что', ',', 'когда', 'с', 'поля', 'возвращается', ',', 'молоко', 'немного', 'вытекает', '.', 'Но', 'это', 'летом', ',', 'с', 'полным', 'выменем', ',', 'на', 'сочных', 'кормах', '.', 'Сейчас', 'не', 'такой', 'случай', '.', 'В', 'интернете', 'везде', 'написано', '—', 'применить', 'коллодий', '.', 'Но', 'его', 'уже', 'не', 'выпускают', 'лет', '15', '!!!', 'Может', ',', 'знает', 'кто', 'другие', 'недорогие', 'средства', '.', 'Находила', 'импортные', 'барьерные', 'средства', '—', 'цена', '5000', 'рублей', ',', 'это', 'дорого', '.', 'Массаж', 'делаю', '.'], 'tags': ['B-ADR', 'I-ADR', 'O', 'O', 'O', 'O', 'O', 'O', 'O', 'O', 'O', 'O', 'B-ADR', 'I-ADR', 'O', 'B-ADR', 'I-ADR', 'O', 'O', 'O', 'O', 'B-ADR', 'I-ADR', 'O', 'O', 'O', 'O', 'O', 'O', 'O', 'O', 'O', 'O', 'O', 'O', 'O', 'O', 'O', 'O', 'O', 'O', 'O', 'O', 'O', 'O', 'O', 'O', 'O', 'O', 'O', 'O', 'O', 'O', 'O', 'O', 'O', 'O', 'O', 'O', 'O', 'O', 'O', 'O', 'O', 'O', 'O', 'O', 'O', 'O', 'O', 'O', 'O', 'O', 'O', 'O', 'O', 'O', 'O', 'O', 'B-ADR', 'I-ADR', 'O', 'O', 'O', 'O', 'O', 'O', 'O', 'O', 'O', 'O', 'O', 'O', 'O', 'O', 'O', 'O', 'O', 'O', 'O', 'O', 'O', 'O', 'O', 'O', 'O', 'O', 'O', 'O', 'O', 'O', 'O', 'O', 'O', 'O', 'O', 'O', 'O', 'O', 'O', 'O', 'O', 'O', 'O', 'O', 'O', 'O', 'O', 'O', 'O', 'O', 'O', 'O', 'O', 'O', 'O', 'O', 'O', 'O', 'O', 'O', 'O', 'O', 'O', 'O', 'O', 'O', 'O', 'O', 'O', 'O', 'O', 'O']}\n"
          ]
        }
      ]
    },
    {
      "cell_type": "code",
      "metadata": {
        "id": "kSHD_BAIUw0l"
      },
      "source": [
        "ner_data = [extract_labels(i) for i in range(0, 35)]\n",
        "ner_train, ner_test = train_test_split(ner_data, test_size=0.3, random_state=1)\n",
        "# ner_train = ner_data"
      ],
      "execution_count": 36,
      "outputs": []
    },
    {
      "cell_type": "code",
      "metadata": {
        "colab": {
          "base_uri": "https://localhost:8080/",
          "height": 159
        },
        "id": "BJx-3HOGUxXN",
        "outputId": "8b7e45db-642f-4034-ff53-b8faba87d8e5"
      },
      "source": [
        "pd.options.display.max_colwidth = 300\n",
        "pd.DataFrame(ner_train).sample(3)"
      ],
      "execution_count": 37,
      "outputs": [
        {
          "output_type": "execute_result",
          "data": {
            "text/html": [
              "<div>\n",
              "<style scoped>\n",
              "    .dataframe tbody tr th:only-of-type {\n",
              "        vertical-align: middle;\n",
              "    }\n",
              "\n",
              "    .dataframe tbody tr th {\n",
              "        vertical-align: top;\n",
              "    }\n",
              "\n",
              "    .dataframe thead th {\n",
              "        text-align: right;\n",
              "    }\n",
              "</style>\n",
              "<table border=\"1\" class=\"dataframe\">\n",
              "  <thead>\n",
              "    <tr style=\"text-align: right;\">\n",
              "      <th></th>\n",
              "      <th>tokens</th>\n",
              "      <th>tags</th>\n",
              "    </tr>\n",
              "  </thead>\n",
              "  <tbody>\n",
              "    <tr>\n",
              "      <th>18</th>\n",
              "      <td>[Как, остановить, понос, у, двухнедельного, телёнка, ., Подскажите, пожалуйста, ,, как, остановить, у, 2-х, недельного, телёнка, понос, ?, Колола, Диспаркол, на, 2–3, дня, прекратился, ,, потом, опять, начался, .]</td>\n",
              "      <td>[O, O, B-ADR, O, O, O, O, O, O, O, O, O, O, O, O, O, B-ADR, O, O, O, O, O, O, O, O, O, O, O, O]</td>\n",
              "    </tr>\n",
              "    <tr>\n",
              "      <th>10</th>\n",
              "      <td>[Корова, поносит, и, худеет, апитит, вроде, средний, жвачка, есть, в, чем, может, быть, дело]</td>\n",
              "      <td>[O, B-ADR, O, B-ADR, O, O, O, O, O, O, O, O, O, O]</td>\n",
              "    </tr>\n",
              "    <tr>\n",
              "      <th>7</th>\n",
              "      <td>[Послеродовый, отёк, вымени, Как, способствовать, устранению, небольшого, отёка, вымени, после, отёла, ?]</td>\n",
              "      <td>[O, B-ADR, I-ADR, O, O, O, O, B-ADR, I-ADR, O, O, O]</td>\n",
              "    </tr>\n",
              "  </tbody>\n",
              "</table>\n",
              "</div>"
            ],
            "text/plain": [
              "                                                                                                                                                                                                                   tokens                                                                                             tags\n",
              "18  [Как, остановить, понос, у, двухнедельного, телёнка, ., Подскажите, пожалуйста, ,, как, остановить, у, 2-х, недельного, телёнка, понос, ?, Колола, Диспаркол, на, 2–3, дня, прекратился, ,, потом, опять, начался, .]  [O, O, B-ADR, O, O, O, O, O, O, O, O, O, O, O, O, O, B-ADR, O, O, O, O, O, O, O, O, O, O, O, O]\n",
              "10                                                                                                                          [Корова, поносит, и, худеет, апитит, вроде, средний, жвачка, есть, в, чем, может, быть, дело]                                               [O, B-ADR, O, B-ADR, O, O, O, O, O, O, O, O, O, O]\n",
              "7                                                                                                               [Послеродовый, отёк, вымени, Как, способствовать, устранению, небольшого, отёка, вымени, после, отёла, ?]                                             [O, B-ADR, I-ADR, O, O, O, O, B-ADR, I-ADR, O, O, O]"
            ]
          },
          "metadata": {},
          "execution_count": 37
        }
      ]
    },
    {
      "cell_type": "code",
      "metadata": {
        "colab": {
          "base_uri": "https://localhost:8080/"
        },
        "id": "8HSsIl8jVD-e",
        "outputId": "504ed99e-335f-427a-afcb-70b221121e9e"
      },
      "source": [
        "ner_data = DatasetDict({\n",
        "    'train': Dataset.from_pandas(pd.DataFrame(ner_train)),\n",
        "    'test': Dataset.from_pandas(pd.DataFrame(ner_test))\n",
        "})\n",
        "ner_data"
      ],
      "execution_count": 38,
      "outputs": [
        {
          "output_type": "execute_result",
          "data": {
            "text/plain": [
              "DatasetDict({\n",
              "    train: Dataset({\n",
              "        features: ['tokens', 'tags'],\n",
              "        num_rows: 24\n",
              "    })\n",
              "    test: Dataset({\n",
              "        features: ['tokens', 'tags'],\n",
              "        num_rows: 11\n",
              "    })\n",
              "})"
            ]
          },
          "metadata": {},
          "execution_count": 38
        }
      ]
    },
    {
      "cell_type": "code",
      "metadata": {
        "colab": {
          "base_uri": "https://localhost:8080/"
        },
        "id": "ggjcTG9_V7cT",
        "outputId": "251f0e60-baea-4a44-d678-a5f3141eb69d"
      },
      "source": [
        "label_list = sorted({label for item in ner_train for label in item['tags']})\n",
        "if 'O' in label_list:\n",
        "    label_list.remove('O')\n",
        "    label_list = ['O'] + label_list\n",
        "label_list"
      ],
      "execution_count": 39,
      "outputs": [
        {
          "output_type": "execute_result",
          "data": {
            "text/plain": [
              "['O', 'B-ADR', 'I-ADR']"
            ]
          },
          "metadata": {},
          "execution_count": 39
        }
      ]
    },
    {
      "cell_type": "code",
      "metadata": {
        "colab": {
          "base_uri": "https://localhost:8080/"
        },
        "id": "9KIj3wReVHCb",
        "outputId": "913b696f-f5fa-42a1-947b-9a06b3b0c8e5"
      },
      "source": [
        "from transformers import AutoTokenizer\n",
        "tokenizer = AutoTokenizer.from_pretrained(model_checkpoint)"
      ],
      "execution_count": 40,
      "outputs": [
        {
          "output_type": "stream",
          "name": "stderr",
          "text": [
            "loading file https://huggingface.co/cointegrated/rubert-tiny2/resolve/main/vocab.txt from cache at /root/.cache/huggingface/transformers/16af2afaa4ceaa8d50b689bd4c2f7ef7fe3bfac06c0aac7d82a5c1c72298b62a.cc3312d07ccf88871a3c2b7cb3442138e6785101efead94d9f77e96301cf7f4a\n",
            "loading file https://huggingface.co/cointegrated/rubert-tiny2/resolve/main/tokenizer.json from cache at /root/.cache/huggingface/transformers/cfa6d82dc8ecc7fe3f06deb449f38968cdd188bb84c8da0e06f0bbfddbede1e3.550ab7157d36210bf96c7c3b30e621933d37d635c5f2e290f7e88bd5f7c9198a\n",
            "loading file https://huggingface.co/cointegrated/rubert-tiny2/resolve/main/added_tokens.json from cache at None\n",
            "loading file https://huggingface.co/cointegrated/rubert-tiny2/resolve/main/special_tokens_map.json from cache at /root/.cache/huggingface/transformers/20317640533199c6b37a557395cd5ee5fcb8777be7c89bb1314bfd43058b35e9.dd8bd9bfd3664b530ea4e645105f557769387b3da9f79bdb55ed556bdd80611d\n",
            "loading file https://huggingface.co/cointegrated/rubert-tiny2/resolve/main/tokenizer_config.json from cache at /root/.cache/huggingface/transformers/e818c3e83969c6aa46da3b5b2eafe049b197e0e787503bf7c643ec64422a51fc.ce85cf23f0ff1f36d3e55d0b537a976b4e83b5c07b7c93e6b39c8b18d38825b3\n"
          ]
        }
      ]
    },
    {
      "cell_type": "code",
      "metadata": {
        "id": "wct-97KFVKw-"
      },
      "source": [
        "def tokenize_and_align_labels(examples, label_all_tokens=True):\n",
        "    tokenized_inputs = tokenizer(examples[\"tokens\"], truncation=True, is_split_into_words=True)\n",
        "\n",
        "    labels = []\n",
        "    for i, label in enumerate(examples['tags']):\n",
        "        word_ids = tokenized_inputs.word_ids(batch_index=i)\n",
        "        previous_word_idx = None\n",
        "        label_ids = []\n",
        "        for word_idx in word_ids:\n",
        "            # Special tokens have a word id that is None. We set the label to -100 so they are automatically\n",
        "            # ignored in the loss function.\n",
        "            if word_idx is None:\n",
        "                label_ids.append(-100)\n",
        "            # We set the label for the first token of each word.\n",
        "            elif word_idx != previous_word_idx:\n",
        "                label_ids.append(label[word_idx])\n",
        "            # For the other tokens in a word, we set the label to either the current label or -100, depending on\n",
        "            # the label_all_tokens flag.\n",
        "            else:\n",
        "                label_ids.append(label[word_idx] if label_all_tokens else -100)\n",
        "            previous_word_idx = word_idx\n",
        "\n",
        "        label_ids = [label_list.index(idx) if isinstance(idx, str) else idx for idx in label_ids]\n",
        "\n",
        "        labels.append(label_ids)\n",
        "\n",
        "    tokenized_inputs[\"labels\"] = labels\n",
        "    return tokenized_inputs"
      ],
      "execution_count": 41,
      "outputs": []
    },
    {
      "cell_type": "code",
      "metadata": {
        "colab": {
          "base_uri": "https://localhost:8080/",
          "height": 81,
          "referenced_widgets": [
            "051dfc1b08ba4a548b0ded83776a1ede",
            "a4e5ba15834846e78a53b71e4e67073a",
            "ce0c7b89d3424f1a8245d30a3304f1f4",
            "19d3bf6018594d16be20348ff76a54f5",
            "9cf9d226505041ee8117b929d44eb724",
            "ad97b03b7157486b8711e0ff23db5242",
            "436c77d5377a46869085fdadc8fa5c97",
            "b523badc2ced47d899f931bbb8daefe5",
            "564402b48486443dada83624f526c95c",
            "8fc6a43d762d43a2856a0ef756b84152",
            "e3c610ea38704359ad753d23c7e5ead8",
            "117cd5614ab545d8b0713f71b75228a0",
            "6761b6cd198f417a98d6ff5c848e6700",
            "51e3179c52a34cc99f75d211fd990f68",
            "604777c0220045478e2be5ef196bb700",
            "6bd860e8ddef454c81a4840c4294dd4a",
            "b67fbac95f3c4ff7bba6b2c04ee9facb",
            "2e5bd8c1638a43eaad5cb7efedfee1d1",
            "9041539165104c358eb264eaa91e9c95",
            "e7ae422e081049fe93bae29f30bbb1f2",
            "3b369a968fc84670beacd55f5709ceb4",
            "fecd2af2851943ca9cd4603ecc348e3b"
          ]
        },
        "id": "edd6CLjgVujB",
        "outputId": "38b3a81d-0209-488f-fd6b-57c68b760f07"
      },
      "source": [
        "tokenized_datasets = ner_data.map(tokenize_and_align_labels, batched=True)"
      ],
      "execution_count": 42,
      "outputs": [
        {
          "output_type": "display_data",
          "data": {
            "application/vnd.jupyter.widget-view+json": {
              "model_id": "051dfc1b08ba4a548b0ded83776a1ede",
              "version_minor": 0,
              "version_major": 2
            },
            "text/plain": [
              "  0%|          | 0/1 [00:00<?, ?ba/s]"
            ]
          },
          "metadata": {}
        },
        {
          "output_type": "display_data",
          "data": {
            "application/vnd.jupyter.widget-view+json": {
              "model_id": "117cd5614ab545d8b0713f71b75228a0",
              "version_minor": 0,
              "version_major": 2
            },
            "text/plain": [
              "  0%|          | 0/1 [00:00<?, ?ba/s]"
            ]
          },
          "metadata": {}
        }
      ]
    },
    {
      "cell_type": "code",
      "metadata": {
        "colab": {
          "base_uri": "https://localhost:8080/"
        },
        "id": "yVgFGS06Xfvw",
        "outputId": "5e39295d-2aff-485f-8243-ac1aad532725"
      },
      "source": [
        "from transformers import AutoModelForTokenClassification, TrainingArguments, Trainer\n",
        "\n",
        "model = AutoModelForTokenClassification.from_pretrained(model_checkpoint, num_labels=len(label_list))\n",
        "model.config.id2label = dict(enumerate(label_list))\n",
        "model.config.label2id = {v: k for k, v in model.config.id2label.items()}"
      ],
      "execution_count": 61,
      "outputs": [
        {
          "output_type": "stream",
          "name": "stderr",
          "text": [
            "loading configuration file https://huggingface.co/cointegrated/rubert-tiny2/resolve/main/config.json from cache at /root/.cache/huggingface/transformers/726139048d10597682731a7a4c0b8ef0382927911bc0f6f050a4f7f0afb04c2a.149cdc07694f3925e290abc5528c57a543bcbc9af955c0202b1028584ad15cb4\n",
            "Model config BertConfig {\n",
            "  \"_name_or_path\": \"/gd/MyDrive/models/rubert-tiny-mlm-nli-sentence\",\n",
            "  \"architectures\": [\n",
            "    \"BertForPreTraining\"\n",
            "  ],\n",
            "  \"attention_probs_dropout_prob\": 0.1,\n",
            "  \"classifier_dropout\": null,\n",
            "  \"emb_size\": 312,\n",
            "  \"gradient_checkpointing\": false,\n",
            "  \"hidden_act\": \"gelu\",\n",
            "  \"hidden_dropout_prob\": 0.1,\n",
            "  \"hidden_size\": 312,\n",
            "  \"id2label\": {\n",
            "    \"0\": \"LABEL_0\",\n",
            "    \"1\": \"LABEL_1\",\n",
            "    \"2\": \"LABEL_2\"\n",
            "  },\n",
            "  \"initializer_range\": 0.02,\n",
            "  \"intermediate_size\": 600,\n",
            "  \"label2id\": {\n",
            "    \"LABEL_0\": 0,\n",
            "    \"LABEL_1\": 1,\n",
            "    \"LABEL_2\": 2\n",
            "  },\n",
            "  \"layer_norm_eps\": 1e-12,\n",
            "  \"max_position_embeddings\": 2048,\n",
            "  \"model_type\": \"bert\",\n",
            "  \"num_attention_heads\": 12,\n",
            "  \"num_hidden_layers\": 3,\n",
            "  \"pad_token_id\": 0,\n",
            "  \"position_embedding_type\": \"absolute\",\n",
            "  \"torch_dtype\": \"float32\",\n",
            "  \"transformers_version\": \"4.12.3\",\n",
            "  \"type_vocab_size\": 2,\n",
            "  \"use_cache\": true,\n",
            "  \"vocab_size\": 83828\n",
            "}\n",
            "\n",
            "loading weights file https://huggingface.co/cointegrated/rubert-tiny2/resolve/main/pytorch_model.bin from cache at /root/.cache/huggingface/transformers/a04241e554166e7b53f251768f0155f1b8a3f631c8e61b632fb38b3fa4a11314.6ea1ba06b786dd5a8753d0d1da827629b627d560c1d01af937410f09ce3e3983\n",
            "Some weights of the model checkpoint at cointegrated/rubert-tiny2 were not used when initializing BertForTokenClassification: ['cls.predictions.transform.dense.bias', 'cls.predictions.transform.LayerNorm.bias', 'cls.seq_relationship.weight', 'cls.predictions.bias', 'cls.seq_relationship.bias', 'cls.predictions.decoder.weight', 'cls.predictions.transform.dense.weight', 'cls.predictions.transform.LayerNorm.weight', 'cls.predictions.decoder.bias']\n",
            "- This IS expected if you are initializing BertForTokenClassification from the checkpoint of a model trained on another task or with another architecture (e.g. initializing a BertForSequenceClassification model from a BertForPreTraining model).\n",
            "- This IS NOT expected if you are initializing BertForTokenClassification from the checkpoint of a model that you expect to be exactly identical (initializing a BertForSequenceClassification model from a BertForSequenceClassification model).\n",
            "Some weights of BertForTokenClassification were not initialized from the model checkpoint at cointegrated/rubert-tiny2 and are newly initialized: ['classifier.weight', 'classifier.bias']\n",
            "You should probably TRAIN this model on a down-stream task to be able to use it for predictions and inference.\n"
          ]
        }
      ]
    },
    {
      "cell_type": "code",
      "metadata": {
        "id": "93cwSBmIXjtg"
      },
      "source": [
        "# args = TrainingArguments(\n",
        "#     \"ner\",\n",
        "#     evaluation_strategy = \"epoch\",\n",
        "#     learning_rate=2e-5,\n",
        "#     per_device_train_batch_size=batch_size,\n",
        "#     per_device_eval_batch_size=batch_size,\n",
        "#     num_train_epochs=10,\n",
        "#     weight_decay=0.01,\n",
        "#     save_strategy='no',\n",
        "#     report_to='none',\n",
        "# )"
      ],
      "execution_count": 62,
      "outputs": []
    },
    {
      "cell_type": "code",
      "metadata": {
        "id": "wqPljqiRXmFs"
      },
      "source": [
        "from transformers import DataCollatorForTokenClassification\n",
        "\n",
        "data_collator = DataCollatorForTokenClassification(tokenizer)"
      ],
      "execution_count": 63,
      "outputs": []
    },
    {
      "cell_type": "code",
      "metadata": {
        "id": "5-Dx0Fn3XoOE"
      },
      "source": [
        "metric = load_metric(\"seqeval\")"
      ],
      "execution_count": 64,
      "outputs": []
    },
    {
      "cell_type": "code",
      "metadata": {
        "id": "_F8TNQRBXqLN"
      },
      "source": [
        "# example = ner_train[4]\n",
        "# labels = example['tags']\n",
        "# metric.compute(predictions=[labels], references=[labels])"
      ],
      "execution_count": 65,
      "outputs": []
    },
    {
      "cell_type": "code",
      "metadata": {
        "id": "uB_XApu4XrtD"
      },
      "source": [
        "def compute_metrics(p):\n",
        "    predictions, labels = p\n",
        "    predictions = np.argmax(predictions, axis=2)\n",
        "\n",
        "    # Remove ignored index (special tokens)\n",
        "    true_predictions = [\n",
        "        [label_list[p] for (p, l) in zip(prediction, label) if l != -100]\n",
        "        for prediction, label in zip(predictions, labels)\n",
        "    ]\n",
        "    true_labels = [\n",
        "        [label_list[l] for (p, l) in zip(prediction, label) if l != -100]\n",
        "        for prediction, label in zip(predictions, labels)\n",
        "    ]\n",
        "\n",
        "    results = metric.compute(predictions=true_predictions, references=true_labels, zero_division=0)\n",
        "    return {\n",
        "        \"precision\": results[\"overall_precision\"],\n",
        "        \"recall\": results[\"overall_recall\"],\n",
        "        \"f1\": results[\"overall_f1\"],\n",
        "        \"accuracy\": results[\"overall_accuracy\"],\n",
        "    }"
      ],
      "execution_count": 66,
      "outputs": []
    },
    {
      "cell_type": "code",
      "metadata": {
        "id": "-JgdrAacYBqS"
      },
      "source": [
        "# trainer = Trainer(\n",
        "#     model,\n",
        "#     args,\n",
        "#     train_dataset=tokenized_datasets[\"train\"],\n",
        "#     eval_dataset=tokenized_datasets[\"test\"],\n",
        "#     data_collator=data_collator,\n",
        "#     tokenizer=tokenizer,\n",
        "#     compute_metrics=compute_metrics\n",
        "# )"
      ],
      "execution_count": 67,
      "outputs": []
    },
    {
      "cell_type": "code",
      "metadata": {
        "id": "L7pFGLtBYDyV"
      },
      "source": [
        "# trainer.evaluate()"
      ],
      "execution_count": 68,
      "outputs": []
    },
    {
      "cell_type": "code",
      "metadata": {
        "id": "w4r2GWRnYFNl"
      },
      "source": [
        "# for param in model.bert.parameters():\n",
        "    # param.requires_grad = False"
      ],
      "execution_count": 69,
      "outputs": []
    },
    {
      "cell_type": "code",
      "metadata": {
        "id": "TUhqEhPdYNRE"
      },
      "source": [
        "# for name, param in model.named_parameters():\n",
        "#     if param.requires_grad:\n",
        "#         print(name)\n",
        "#         print(param)"
      ],
      "execution_count": 70,
      "outputs": []
    },
    {
      "cell_type": "code",
      "metadata": {
        "id": "ndBwdlk3YO8z"
      },
      "source": [
        "import logging\n",
        "from transformers.trainer import logger as noisy_logger\n",
        "noisy_logger.setLevel(logging.WARNING)"
      ],
      "execution_count": 71,
      "outputs": []
    },
    {
      "cell_type": "code",
      "metadata": {
        "id": "hkKowlHkYQ6u"
      },
      "source": [
        "# trainer.train()"
      ],
      "execution_count": 72,
      "outputs": []
    },
    {
      "cell_type": "code",
      "metadata": {
        "id": "HDPXZvGCYSKz"
      },
      "source": [
        "#разморозка\n",
        "for param in model.parameters():\n",
        "    param.requires_grad = True"
      ],
      "execution_count": 73,
      "outputs": []
    },
    {
      "cell_type": "code",
      "metadata": {
        "colab": {
          "base_uri": "https://localhost:8080/"
        },
        "id": "FpY4FQUeYlDZ",
        "outputId": "c567493b-dd05-45bc-85b2-690671d8928f"
      },
      "source": [
        "args = TrainingArguments(\n",
        "    \"ner\",\n",
        "    evaluation_strategy = \"epoch\",\n",
        "    learning_rate=5e-4,\n",
        "    per_device_train_batch_size=batch_size,\n",
        "    per_device_eval_batch_size=batch_size,\n",
        "    num_train_epochs=20,\n",
        "    weight_decay=0.01,\n",
        "    save_strategy='no',\n",
        "    report_to='none',\n",
        ")"
      ],
      "execution_count": 74,
      "outputs": [
        {
          "output_type": "stream",
          "name": "stderr",
          "text": [
            "PyTorch: setting up devices\n"
          ]
        }
      ]
    },
    {
      "cell_type": "code",
      "metadata": {
        "id": "947w01tHYnms"
      },
      "source": [
        "trainer = Trainer(\n",
        "    model,\n",
        "    args,\n",
        "    train_dataset=tokenized_datasets[\"train\"],\n",
        "    eval_dataset=tokenized_datasets[\"test\"],\n",
        "    data_collator=data_collator,\n",
        "    tokenizer=tokenizer,\n",
        "    compute_metrics=compute_metrics\n",
        ")"
      ],
      "execution_count": 75,
      "outputs": []
    },
    {
      "cell_type": "code",
      "metadata": {
        "colab": {
          "base_uri": "https://localhost:8080/",
          "height": 732
        },
        "id": "YZ7zs8u-YpBm",
        "outputId": "9d6c1646-c7de-4b7c-828a-77d2e45cae81"
      },
      "source": [
        "trainer.train()"
      ],
      "execution_count": 76,
      "outputs": [
        {
          "output_type": "display_data",
          "data": {
            "text/html": [
              "\n",
              "    <div>\n",
              "      \n",
              "      <progress value='240' max='240' style='width:300px; height:20px; vertical-align: middle;'></progress>\n",
              "      [240/240 00:10, Epoch 20/20]\n",
              "    </div>\n",
              "    <table border=\"1\" class=\"dataframe\">\n",
              "  <thead>\n",
              "    <tr style=\"text-align: left;\">\n",
              "      <th>Epoch</th>\n",
              "      <th>Training Loss</th>\n",
              "      <th>Validation Loss</th>\n",
              "      <th>Precision</th>\n",
              "      <th>Recall</th>\n",
              "      <th>F1</th>\n",
              "      <th>Accuracy</th>\n",
              "    </tr>\n",
              "  </thead>\n",
              "  <tbody>\n",
              "    <tr>\n",
              "      <td>1</td>\n",
              "      <td>No log</td>\n",
              "      <td>0.452799</td>\n",
              "      <td>1.000000</td>\n",
              "      <td>0.033333</td>\n",
              "      <td>0.064516</td>\n",
              "      <td>0.866250</td>\n",
              "    </tr>\n",
              "    <tr>\n",
              "      <td>2</td>\n",
              "      <td>No log</td>\n",
              "      <td>0.445475</td>\n",
              "      <td>0.235294</td>\n",
              "      <td>0.400000</td>\n",
              "      <td>0.296296</td>\n",
              "      <td>0.842500</td>\n",
              "    </tr>\n",
              "    <tr>\n",
              "      <td>3</td>\n",
              "      <td>No log</td>\n",
              "      <td>0.508215</td>\n",
              "      <td>0.565217</td>\n",
              "      <td>0.216667</td>\n",
              "      <td>0.313253</td>\n",
              "      <td>0.878750</td>\n",
              "    </tr>\n",
              "    <tr>\n",
              "      <td>4</td>\n",
              "      <td>No log</td>\n",
              "      <td>0.450561</td>\n",
              "      <td>0.425000</td>\n",
              "      <td>0.283333</td>\n",
              "      <td>0.340000</td>\n",
              "      <td>0.883750</td>\n",
              "    </tr>\n",
              "    <tr>\n",
              "      <td>5</td>\n",
              "      <td>No log</td>\n",
              "      <td>0.603758</td>\n",
              "      <td>0.378378</td>\n",
              "      <td>0.233333</td>\n",
              "      <td>0.288660</td>\n",
              "      <td>0.871250</td>\n",
              "    </tr>\n",
              "    <tr>\n",
              "      <td>6</td>\n",
              "      <td>No log</td>\n",
              "      <td>0.577641</td>\n",
              "      <td>0.315789</td>\n",
              "      <td>0.300000</td>\n",
              "      <td>0.307692</td>\n",
              "      <td>0.873750</td>\n",
              "    </tr>\n",
              "    <tr>\n",
              "      <td>7</td>\n",
              "      <td>No log</td>\n",
              "      <td>0.665071</td>\n",
              "      <td>0.483871</td>\n",
              "      <td>0.250000</td>\n",
              "      <td>0.329670</td>\n",
              "      <td>0.885000</td>\n",
              "    </tr>\n",
              "    <tr>\n",
              "      <td>8</td>\n",
              "      <td>No log</td>\n",
              "      <td>0.662034</td>\n",
              "      <td>0.439024</td>\n",
              "      <td>0.300000</td>\n",
              "      <td>0.356436</td>\n",
              "      <td>0.885000</td>\n",
              "    </tr>\n",
              "    <tr>\n",
              "      <td>9</td>\n",
              "      <td>No log</td>\n",
              "      <td>0.668572</td>\n",
              "      <td>0.413043</td>\n",
              "      <td>0.316667</td>\n",
              "      <td>0.358491</td>\n",
              "      <td>0.888750</td>\n",
              "    </tr>\n",
              "    <tr>\n",
              "      <td>10</td>\n",
              "      <td>No log</td>\n",
              "      <td>0.765067</td>\n",
              "      <td>0.485714</td>\n",
              "      <td>0.283333</td>\n",
              "      <td>0.357895</td>\n",
              "      <td>0.886250</td>\n",
              "    </tr>\n",
              "    <tr>\n",
              "      <td>11</td>\n",
              "      <td>No log</td>\n",
              "      <td>0.773563</td>\n",
              "      <td>0.486486</td>\n",
              "      <td>0.300000</td>\n",
              "      <td>0.371134</td>\n",
              "      <td>0.886250</td>\n",
              "    </tr>\n",
              "    <tr>\n",
              "      <td>12</td>\n",
              "      <td>No log</td>\n",
              "      <td>0.731427</td>\n",
              "      <td>0.384615</td>\n",
              "      <td>0.333333</td>\n",
              "      <td>0.357143</td>\n",
              "      <td>0.880000</td>\n",
              "    </tr>\n",
              "    <tr>\n",
              "      <td>13</td>\n",
              "      <td>No log</td>\n",
              "      <td>0.763845</td>\n",
              "      <td>0.360000</td>\n",
              "      <td>0.300000</td>\n",
              "      <td>0.327273</td>\n",
              "      <td>0.876250</td>\n",
              "    </tr>\n",
              "    <tr>\n",
              "      <td>14</td>\n",
              "      <td>No log</td>\n",
              "      <td>0.792649</td>\n",
              "      <td>0.380000</td>\n",
              "      <td>0.316667</td>\n",
              "      <td>0.345455</td>\n",
              "      <td>0.878750</td>\n",
              "    </tr>\n",
              "    <tr>\n",
              "      <td>15</td>\n",
              "      <td>No log</td>\n",
              "      <td>0.815502</td>\n",
              "      <td>0.450000</td>\n",
              "      <td>0.300000</td>\n",
              "      <td>0.360000</td>\n",
              "      <td>0.883750</td>\n",
              "    </tr>\n",
              "    <tr>\n",
              "      <td>16</td>\n",
              "      <td>No log</td>\n",
              "      <td>0.822766</td>\n",
              "      <td>0.461538</td>\n",
              "      <td>0.300000</td>\n",
              "      <td>0.363636</td>\n",
              "      <td>0.885000</td>\n",
              "    </tr>\n",
              "    <tr>\n",
              "      <td>17</td>\n",
              "      <td>No log</td>\n",
              "      <td>0.825471</td>\n",
              "      <td>0.461538</td>\n",
              "      <td>0.300000</td>\n",
              "      <td>0.363636</td>\n",
              "      <td>0.886250</td>\n",
              "    </tr>\n",
              "    <tr>\n",
              "      <td>18</td>\n",
              "      <td>No log</td>\n",
              "      <td>0.826377</td>\n",
              "      <td>0.461538</td>\n",
              "      <td>0.300000</td>\n",
              "      <td>0.363636</td>\n",
              "      <td>0.886250</td>\n",
              "    </tr>\n",
              "    <tr>\n",
              "      <td>19</td>\n",
              "      <td>No log</td>\n",
              "      <td>0.826627</td>\n",
              "      <td>0.461538</td>\n",
              "      <td>0.300000</td>\n",
              "      <td>0.363636</td>\n",
              "      <td>0.886250</td>\n",
              "    </tr>\n",
              "    <tr>\n",
              "      <td>20</td>\n",
              "      <td>No log</td>\n",
              "      <td>0.823922</td>\n",
              "      <td>0.450000</td>\n",
              "      <td>0.300000</td>\n",
              "      <td>0.360000</td>\n",
              "      <td>0.886250</td>\n",
              "    </tr>\n",
              "  </tbody>\n",
              "</table><p>"
            ],
            "text/plain": [
              "<IPython.core.display.HTML object>"
            ]
          },
          "metadata": {}
        },
        {
          "output_type": "execute_result",
          "data": {
            "text/plain": [
              "TrainOutput(global_step=240, training_loss=0.08319616317749023, metrics={'train_runtime': 10.8525, 'train_samples_per_second': 44.229, 'train_steps_per_second': 22.115, 'total_flos': 632923639380.0, 'train_loss': 0.08319616317749023, 'epoch': 20.0})"
            ]
          },
          "metadata": {},
          "execution_count": 76
        }
      ]
    },
    {
      "cell_type": "code",
      "metadata": {
        "colab": {
          "base_uri": "https://localhost:8080/",
          "height": 190
        },
        "id": "2vup8MfcYrkh",
        "outputId": "7f1c3293-fa3d-4e5e-bdaf-0520b9fe6b51"
      },
      "source": [
        "trainer.evaluate()"
      ],
      "execution_count": 77,
      "outputs": [
        {
          "output_type": "display_data",
          "data": {
            "text/html": [
              "\n",
              "    <div>\n",
              "      \n",
              "      <progress value='6' max='6' style='width:300px; height:20px; vertical-align: middle;'></progress>\n",
              "      [6/6 00:00]\n",
              "    </div>\n",
              "    "
            ],
            "text/plain": [
              "<IPython.core.display.HTML object>"
            ]
          },
          "metadata": {}
        },
        {
          "output_type": "execute_result",
          "data": {
            "text/plain": [
              "{'epoch': 20.0,\n",
              " 'eval_accuracy': 0.88625,\n",
              " 'eval_f1': 0.36000000000000004,\n",
              " 'eval_loss': 0.8239219784736633,\n",
              " 'eval_precision': 0.45,\n",
              " 'eval_recall': 0.3,\n",
              " 'eval_runtime': 0.0954,\n",
              " 'eval_samples_per_second': 115.262,\n",
              " 'eval_steps_per_second': 62.87}"
            ]
          },
          "metadata": {},
          "execution_count": 77
        }
      ]
    },
    {
      "cell_type": "code",
      "metadata": {
        "id": "tn51Q_kTY8O1"
      },
      "source": [
        "# predictions, labels, _ = trainer.predict(tokenized_datasets[\"test\"])\n",
        "# predictions = np.argmax(predictions, axis=2)\n",
        "\n",
        "# # Remove ignored index (special tokens)\n",
        "# true_predictions = [\n",
        "#     [label_list[p] for (p, l) in zip(prediction, label) if l != -100]\n",
        "#     for prediction, label in zip(predictions, labels)\n",
        "# ]\n",
        "# true_labels = [\n",
        "#     [label_list[l] for (p, l) in zip(prediction, label) if l != -100]\n",
        "#     for prediction, label in zip(predictions, labels)\n",
        "# ]\n",
        "\n",
        "# results = metric.compute(predictions=true_predictions, references=true_labels)\n",
        "# results"
      ],
      "execution_count": 78,
      "outputs": []
    },
    {
      "cell_type": "code",
      "metadata": {
        "id": "urxjb6l4ZL8M"
      },
      "source": [
        "# tokens = tokenizer(text, return_tensors='pt')\n",
        "# tokens = {k: v.to(model.device) for k, v in tokens.items()}\n",
        "\n",
        "# with torch.no_grad():\n",
        "#     pred = model(**tokens)\n",
        "# pred.logits.shape"
      ],
      "execution_count": 79,
      "outputs": []
    },
    {
      "cell_type": "code",
      "metadata": {
        "id": "SD6g3lvlZPJr"
      },
      "source": [
        "# indices = pred.logits.argmax(dim=-1)[0].cpu().numpy()\n",
        "# token_text = tokenizer.convert_ids_to_tokens(tokens['input_ids'][0])\n",
        "# for t, idx in zip(token_text, indices):\n",
        "#     print(f'{t:15s} {label_list[idx]:10s}')"
      ],
      "execution_count": 80,
      "outputs": []
    },
    {
      "cell_type": "code",
      "metadata": {
        "colab": {
          "base_uri": "https://localhost:8080/"
        },
        "id": "q0O-e3chFobB",
        "outputId": "09aa262d-29ac-4a14-f6d0-845d767635d6"
      },
      "source": [
        "model.save_pretrained('ner_bert/')\n",
        "tokenizer.save_pretrained('ner_bert/')"
      ],
      "execution_count": 81,
      "outputs": [
        {
          "output_type": "stream",
          "name": "stderr",
          "text": [
            "Configuration saved in ner_bert/config.json\n",
            "Model weights saved in ner_bert/pytorch_model.bin\n",
            "tokenizer config file saved in ner_bert/tokenizer_config.json\n",
            "Special tokens file saved in ner_bert/special_tokens_map.json\n"
          ]
        },
        {
          "output_type": "execute_result",
          "data": {
            "text/plain": [
              "('ner_bert/tokenizer_config.json',\n",
              " 'ner_bert/special_tokens_map.json',\n",
              " 'ner_bert/vocab.txt',\n",
              " 'ner_bert/added_tokens.json',\n",
              " 'ner_bert/tokenizer.json')"
            ]
          },
          "metadata": {},
          "execution_count": 81
        }
      ]
    },
    {
      "cell_type": "code",
      "metadata": {
        "id": "-dibtfMmZRHA"
      },
      "source": [
        "from transformers import pipeline\n",
        "pipe = pipeline(model=model, tokenizer=tokenizer, task='ner', aggregation_strategy='average', device=0)"
      ],
      "execution_count": 82,
      "outputs": []
    },
    {
      "cell_type": "code",
      "metadata": {
        "id": "Qm-DFpdIyGrK"
      },
      "source": [
        "!wget -q -O test.csv https://getfile.dokpub.com/yandex/get/https://disk.yandex.ru/d/Wo70d4_PAwujqA"
      ],
      "execution_count": 83,
      "outputs": []
    },
    {
      "cell_type": "code",
      "metadata": {
        "id": "MAr6YsHvyHIU"
      },
      "source": [
        "test_df = pd.read_csv('test.csv')"
      ],
      "execution_count": 84,
      "outputs": []
    },
    {
      "cell_type": "code",
      "metadata": {
        "colab": {
          "base_uri": "https://localhost:8080/",
          "height": 555
        },
        "id": "Ng2R4yo4IPPP",
        "outputId": "748dcb99-df96-438b-ff00-ce1381d45adf"
      },
      "source": [
        "test_df"
      ],
      "execution_count": 88,
      "outputs": [
        {
          "output_type": "execute_result",
          "data": {
            "text/html": [
              "<div>\n",
              "<style scoped>\n",
              "    .dataframe tbody tr th:only-of-type {\n",
              "        vertical-align: middle;\n",
              "    }\n",
              "\n",
              "    .dataframe tbody tr th {\n",
              "        vertical-align: top;\n",
              "    }\n",
              "\n",
              "    .dataframe thead th {\n",
              "        text-align: right;\n",
              "    }\n",
              "</style>\n",
              "<table border=\"1\" class=\"dataframe\">\n",
              "  <thead>\n",
              "    <tr style=\"text-align: right;\">\n",
              "      <th></th>\n",
              "      <th>text_id</th>\n",
              "      <th>text</th>\n",
              "    </tr>\n",
              "  </thead>\n",
              "  <tbody>\n",
              "    <tr>\n",
              "      <th>0</th>\n",
              "      <td>294</td>\n",
              "      <td>Понос у месячных телят. Подскажите методы и способы лечения жидкого стула у месячных телят. Хватают в рот и лижут всё что видят, сено, солому, лижут соль. Потом страдают. И мы вместе с ними.</td>\n",
              "    </tr>\n",
              "    <tr>\n",
              "      <th>1</th>\n",
              "      <td>295</td>\n",
              "      <td>Понос у телят, чем лечить? \\nЧем можно вылечить понос 1,5 месячного телёнка в домашних условиях?\\nВетврача у нас нет! Есть лекарство Детрим. Но может быть ещё что-то необходимо? Телёнок месяц сосал корову, потом пил молоко (2 литра за раз).\\nВ чём причина? И сколько нужно давать пойла? Только мо...</td>\n",
              "    </tr>\n",
              "    <tr>\n",
              "      <th>2</th>\n",
              "      <td>296</td>\n",
              "      <td>По какой причине у телёнка отнимаются ноги?\\nПодскажите пожалуйста, почему у телёнка ноги отнимаются? Возраст уже полгода, аппетит есть, не поносит, а встать сам не может - вот поднимем, поставим – стоит, но ног как будто не чувствует.</td>\n",
              "    </tr>\n",
              "    <tr>\n",
              "      <th>3</th>\n",
              "      <td>297</td>\n",
              "      <td>Срочно! Ребятки, помогите, корову что-то укусило! У коровы недомогание, вялость! Какая первая помощь? Ветеринар далеко, будет утром, у нас уже 20-00 вечера!</td>\n",
              "    </tr>\n",
              "    <tr>\n",
              "      <th>4</th>\n",
              "      <td>298</td>\n",
              "      <td>Сгустки у коровы.\\nЗдравствуйте, помогите пожалуйста, у меня недавно корова отелилась. 20 дней нормально доила, последние дни замечаю сгустки крови у коровы в молоке. В интернете смотрела — нечего не нашла, кто-то сказал попробовать хозяйственным мылом, массаж делаю — не знаю, что будет.\\nДо это...</td>\n",
              "    </tr>\n",
              "    <tr>\n",
              "      <th>...</th>\n",
              "      <td>...</td>\n",
              "      <td>...</td>\n",
              "    </tr>\n",
              "    <tr>\n",
              "      <th>94</th>\n",
              "      <td>388</td>\n",
              "      <td>Большой бык уже неделю поносит, чем помочь?\\nПодскажите, пожалуйста, у меня большой бык уже неделю поносит, чем можно помочь?</td>\n",
              "    </tr>\n",
              "    <tr>\n",
              "      <th>95</th>\n",
              "      <td>389</td>\n",
              "      <td>Как запустить желудок у коровы?\\nУ меня объелась корова дерти, залили сразу масло растительное с водой, на следующий день с утра корова ела, а к вечеру запоносила, но не так как хотелось бы и перестала есть. И вот сегодня укололи чемерицу + глауберову соль влили, реакции ноль, при том что ещё бе...</td>\n",
              "    </tr>\n",
              "    <tr>\n",
              "      <th>96</th>\n",
              "      <td>390</td>\n",
              "      <td>Здрав твуйте, искал похожий случай в темах форума неналёл, такой вопрос купили телят содержатся в одной клетке 5 голов на привязи, у одного телёнка сегодня с утра увидел что он пропоносился какойто прозрачной слизью с какимито белыми хлопьями (наверно овсянка которую ел) запах очень неприятный н...</td>\n",
              "    </tr>\n",
              "    <tr>\n",
              "      <th>97</th>\n",
              "      <td>391</td>\n",
              "      <td>После отела у коровы ,не отошел послед и было очень твердое вымя.Лечили различными мазями,остались два уплотнения на передних долях вымени.Ни температуры ни сгустков не было.Спустя\\n два месяца решили полечить,ввели септогель в доли. Теперь вымя твердое, доит мало, идут сгустки.</td>\n",
              "    </tr>\n",
              "    <tr>\n",
              "      <th>98</th>\n",
              "      <td>392</td>\n",
              "      <td>Здравствуйте. Чем лечить понос у телёнка? Телёнку 1 месяц, до сих пор сосет корову. Дня 3 как начался понос, сейчас даже с кровью. Давали заварку с яйцами, не помогает. Чем из препаратов лечить? Что можно купить в 'человеческой' аптеке? Или может какими то другими народными средствами?</td>\n",
              "    </tr>\n",
              "  </tbody>\n",
              "</table>\n",
              "<p>99 rows × 2 columns</p>\n",
              "</div>"
            ],
            "text/plain": [
              "    text_id                                                                                                                                                                                                                                                                                                         text\n",
              "0       294                                                                                                               Понос у месячных телят. Подскажите методы и способы лечения жидкого стула у месячных телят. Хватают в рот и лижут всё что видят, сено, солому, лижут соль. Потом страдают. И мы вместе с ними.\n",
              "1       295  Понос у телят, чем лечить? \\nЧем можно вылечить понос 1,5 месячного телёнка в домашних условиях?\\nВетврача у нас нет! Есть лекарство Детрим. Но может быть ещё что-то необходимо? Телёнок месяц сосал корову, потом пил молоко (2 литра за раз).\\nВ чём причина? И сколько нужно давать пойла? Только мо...\n",
              "2       296                                                                  По какой причине у телёнка отнимаются ноги?\\nПодскажите пожалуйста, почему у телёнка ноги отнимаются? Возраст уже полгода, аппетит есть, не поносит, а встать сам не может - вот поднимем, поставим – стоит, но ног как будто не чувствует.\n",
              "3       297                                                                                                                                                 Срочно! Ребятки, помогите, корову что-то укусило! У коровы недомогание, вялость! Какая первая помощь? Ветеринар далеко, будет утром, у нас уже 20-00 вечера!\n",
              "4       298  Сгустки у коровы.\\nЗдравствуйте, помогите пожалуйста, у меня недавно корова отелилась. 20 дней нормально доила, последние дни замечаю сгустки крови у коровы в молоке. В интернете смотрела — нечего не нашла, кто-то сказал попробовать хозяйственным мылом, массаж делаю — не знаю, что будет.\\nДо это...\n",
              "..      ...                                                                                                                                                                                                                                                                                                          ...\n",
              "94      388                                                                                                                                                                                Большой бык уже неделю поносит, чем помочь?\\nПодскажите, пожалуйста, у меня большой бык уже неделю поносит, чем можно помочь?\n",
              "95      389  Как запустить желудок у коровы?\\nУ меня объелась корова дерти, залили сразу масло растительное с водой, на следующий день с утра корова ела, а к вечеру запоносила, но не так как хотелось бы и перестала есть. И вот сегодня укололи чемерицу + глауберову соль влили, реакции ноль, при том что ещё бе...\n",
              "96      390  Здрав твуйте, искал похожий случай в темах форума неналёл, такой вопрос купили телят содержатся в одной клетке 5 голов на привязи, у одного телёнка сегодня с утра увидел что он пропоносился какойто прозрачной слизью с какимито белыми хлопьями (наверно овсянка которую ел) запах очень неприятный н...\n",
              "97      391                      После отела у коровы ,не отошел послед и было очень твердое вымя.Лечили различными мазями,остались два уплотнения на передних долях вымени.Ни температуры ни сгустков не было.Спустя\\n два месяца решили полечить,ввели септогель в доли. Теперь вымя твердое, доит мало, идут сгустки.\n",
              "98      392               Здравствуйте. Чем лечить понос у телёнка? Телёнку 1 месяц, до сих пор сосет корову. Дня 3 как начался понос, сейчас даже с кровью. Давали заварку с яйцами, не помогает. Чем из препаратов лечить? Что можно купить в 'человеческой' аптеке? Или может какими то другими народными средствами?\n",
              "\n",
              "[99 rows x 2 columns]"
            ]
          },
          "metadata": {},
          "execution_count": 88
        }
      ]
    },
    {
      "cell_type": "code",
      "metadata": {
        "colab": {
          "base_uri": "https://localhost:8080/"
        },
        "id": "NY0deLSSI6vv",
        "outputId": "1dbf4f64-4379-44f5-aa9e-ea3da7593afe"
      },
      "source": [
        "ner_model = NER('ner_bert', 'ner_bert')"
      ],
      "execution_count": 107,
      "outputs": [
        {
          "output_type": "stream",
          "name": "stderr",
          "text": [
            "loading configuration file ner_bert/config.json\n",
            "Model config BertConfig {\n",
            "  \"_name_or_path\": \"cointegrated/rubert-tiny2\",\n",
            "  \"architectures\": [\n",
            "    \"BertForTokenClassification\"\n",
            "  ],\n",
            "  \"attention_probs_dropout_prob\": 0.1,\n",
            "  \"classifier_dropout\": null,\n",
            "  \"emb_size\": 312,\n",
            "  \"gradient_checkpointing\": false,\n",
            "  \"hidden_act\": \"gelu\",\n",
            "  \"hidden_dropout_prob\": 0.1,\n",
            "  \"hidden_size\": 312,\n",
            "  \"id2label\": {\n",
            "    \"0\": \"O\",\n",
            "    \"1\": \"B-ADR\",\n",
            "    \"2\": \"I-ADR\"\n",
            "  },\n",
            "  \"initializer_range\": 0.02,\n",
            "  \"intermediate_size\": 600,\n",
            "  \"label2id\": {\n",
            "    \"B-ADR\": 1,\n",
            "    \"I-ADR\": 2,\n",
            "    \"O\": 0\n",
            "  },\n",
            "  \"layer_norm_eps\": 1e-12,\n",
            "  \"max_position_embeddings\": 2048,\n",
            "  \"model_type\": \"bert\",\n",
            "  \"num_attention_heads\": 12,\n",
            "  \"num_hidden_layers\": 3,\n",
            "  \"pad_token_id\": 0,\n",
            "  \"position_embedding_type\": \"absolute\",\n",
            "  \"torch_dtype\": \"float32\",\n",
            "  \"transformers_version\": \"4.12.3\",\n",
            "  \"type_vocab_size\": 2,\n",
            "  \"use_cache\": true,\n",
            "  \"vocab_size\": 83828\n",
            "}\n",
            "\n",
            "loading weights file ner_bert/pytorch_model.bin\n",
            "All model checkpoint weights were used when initializing BertForTokenClassification.\n",
            "\n",
            "All the weights of BertForTokenClassification were initialized from the model checkpoint at ner_bert.\n",
            "If your task is similar to the task the model of the checkpoint was trained on, you can already use BertForTokenClassification for predictions without further training.\n",
            "Didn't find file ner_bert/added_tokens.json. We won't load it.\n",
            "loading file ner_bert/vocab.txt\n",
            "loading file ner_bert/tokenizer.json\n",
            "loading file None\n",
            "loading file ner_bert/special_tokens_map.json\n",
            "loading file ner_bert/tokenizer_config.json\n"
          ]
        }
      ]
    },
    {
      "cell_type": "code",
      "metadata": {
        "colab": {
          "base_uri": "https://localhost:8080/"
        },
        "id": "R9wVbPeOJBis",
        "outputId": "b2045fd9-4861-4fde-8048-07220921c007"
      },
      "source": [
        "ner_model.hugginface_pipeline(test_df['text'][24])"
      ],
      "execution_count": 108,
      "outputs": [
        {
          "output_type": "execute_result",
          "data": {
            "text/plain": [
              "[{'end': 41,\n",
              "  'entity_group': 'ADR',\n",
              "  'score': 0.86486876,\n",
              "  'start': 32,\n",
              "  'word': 'по вымени'},\n",
              " {'end': 82,\n",
              "  'entity_group': 'ADR',\n",
              "  'score': 0.99232185,\n",
              "  'start': 80,\n",
              "  'word': 'по'},\n",
              " {'end': 89,\n",
              "  'entity_group': 'ADR',\n",
              "  'score': 0.96634835,\n",
              "  'start': 83,\n",
              "  'word': 'задней'},\n",
              " {'end': 99,\n",
              "  'entity_group': 'ADR',\n",
              "  'score': 0.56659746,\n",
              "  'start': 95,\n",
              "  'word': 'вымя'},\n",
              " {'end': 133,\n",
              "  'entity_group': 'ADR',\n",
              "  'score': 0.96561325,\n",
              "  'start': 128,\n",
              "  'word': 'шишка'},\n",
              " {'end': 178,\n",
              "  'entity_group': 'ADR',\n",
              "  'score': 0.53499675,\n",
              "  'start': 173,\n",
              "  'word': 'шишки'}]"
            ]
          },
          "metadata": {},
          "execution_count": 108
        }
      ]
    },
    {
      "cell_type": "code",
      "metadata": {
        "colab": {
          "base_uri": "https://localhost:8080/"
        },
        "id": "x-gno6DNJZ0r",
        "outputId": "879975ac-8450-41ac-9999-04e99831c614"
      },
      "source": [
        "test_df['span'] = test_df['text'].apply(lambda x: ner_model.predict_spans(x))"
      ],
      "execution_count": 109,
      "outputs": [
        {
          "output_type": "stream",
          "name": "stderr",
          "text": [
            "/usr/local/lib/python3.7/dist-packages/transformers/pipelines/base.py:910: UserWarning: You seem to be using the pipelines sequentially on GPU. In order to maximize efficiency please use a dataset\n",
            "  UserWarning,\n"
          ]
        }
      ]
    },
    {
      "cell_type": "code",
      "metadata": {
        "colab": {
          "base_uri": "https://localhost:8080/",
          "height": 810
        },
        "id": "GBbPkjAGJ6W2",
        "outputId": "1747b1c3-458b-4c9e-db98-1626c703baf9"
      },
      "source": [
        "test_df"
      ],
      "execution_count": 111,
      "outputs": [
        {
          "output_type": "execute_result",
          "data": {
            "text/html": [
              "<div>\n",
              "<style scoped>\n",
              "    .dataframe tbody tr th:only-of-type {\n",
              "        vertical-align: middle;\n",
              "    }\n",
              "\n",
              "    .dataframe tbody tr th {\n",
              "        vertical-align: top;\n",
              "    }\n",
              "\n",
              "    .dataframe thead th {\n",
              "        text-align: right;\n",
              "    }\n",
              "</style>\n",
              "<table border=\"1\" class=\"dataframe\">\n",
              "  <thead>\n",
              "    <tr style=\"text-align: right;\">\n",
              "      <th></th>\n",
              "      <th>text_id</th>\n",
              "      <th>text</th>\n",
              "      <th>span</th>\n",
              "    </tr>\n",
              "  </thead>\n",
              "  <tbody>\n",
              "    <tr>\n",
              "      <th>0</th>\n",
              "      <td>294</td>\n",
              "      <td>Понос у месячных телят. Подскажите методы и способы лечения жидкого стула у месячных телят. Хватают в рот и лижут всё что видят, сено, солому, лижут соль. Потом страдают. И мы вместе с ними.</td>\n",
              "      <td>[[68, 72]]</td>\n",
              "    </tr>\n",
              "    <tr>\n",
              "      <th>1</th>\n",
              "      <td>295</td>\n",
              "      <td>Понос у телят, чем лечить? \\nЧем можно вылечить понос 1,5 месячного телёнка в домашних условиях?\\nВетврача у нас нет! Есть лекарство Детрим. Но может быть ещё что-то необходимо? Телёнок месяц сосал корову, потом пил молоко (2 литра за раз).\\nВ чём причина? И сколько нужно давать пойла? Только мо...</td>\n",
              "      <td>[[524, 530], [372, 378], [538, 544], [753, 757], [142, 147], [484, 489], [214, 220], [291, 297], [752, 757], [47, 52], [339, 344], [364, 369], [412, 417], [467, 472], [558, 563], [593, 598], [785, 790], [785, 791], [558, 565], [558, 566], [553, 557], [531, 535]]</td>\n",
              "    </tr>\n",
              "    <tr>\n",
              "      <th>2</th>\n",
              "      <td>296</td>\n",
              "      <td>По какой причине у телёнка отнимаются ноги?\\nПодскажите пожалуйста, почему у телёнка ноги отнимаются? Возраст уже полгода, аппетит есть, не поносит, а встать сам не может - вот поднимем, поставим – стоит, но ног как будто не чувствует.</td>\n",
              "      <td>[[215, 220], [130, 134], [164, 169], [139, 144], [139, 146]]</td>\n",
              "    </tr>\n",
              "    <tr>\n",
              "      <th>3</th>\n",
              "      <td>297</td>\n",
              "      <td>Срочно! Ребятки, помогите, корову что-то укусило! У коровы недомогание, вялость! Какая первая помощь? Ветеринар далеко, будет утром, у нас уже 20-00 вечера!</td>\n",
              "      <td>[[72, 76]]</td>\n",
              "    </tr>\n",
              "    <tr>\n",
              "      <th>4</th>\n",
              "      <td>298</td>\n",
              "      <td>Сгустки у коровы.\\nЗдравствуйте, помогите пожалуйста, у меня недавно корова отелилась. 20 дней нормально доила, последние дни замечаю сгустки крови у коровы в молоке. В интернете смотрела — нечего не нашла, кто-то сказал попробовать хозяйственным мылом, массаж делаю — не знаю, что будет.\\nДо это...</td>\n",
              "      <td>[[189, 195]]</td>\n",
              "    </tr>\n",
              "    <tr>\n",
              "      <th>...</th>\n",
              "      <td>...</td>\n",
              "      <td>...</td>\n",
              "      <td>...</td>\n",
              "    </tr>\n",
              "    <tr>\n",
              "      <th>94</th>\n",
              "      <td>388</td>\n",
              "      <td>Большой бык уже неделю поносит, чем помочь?\\nПодскажите, пожалуйста, у меня большой бык уже неделю поносит, чем можно помочь?</td>\n",
              "      <td>[[23, 28], [98, 103], [23, 30], [98, 105]]</td>\n",
              "    </tr>\n",
              "    <tr>\n",
              "      <th>95</th>\n",
              "      <td>389</td>\n",
              "      <td>Как запустить желудок у коровы?\\nУ меня объелась корова дерти, залили сразу масло растительное с водой, на следующий день с утра корова ела, а к вечеру запоносила, но не так как хотелось бы и перестала есть. И вот сегодня укололи чемерицу + глауберову соль влили, реакции ноль, при том что ещё бе...</td>\n",
              "      <td>[[201, 205], [153, 158], [195, 199]]</td>\n",
              "    </tr>\n",
              "    <tr>\n",
              "      <th>96</th>\n",
              "      <td>390</td>\n",
              "      <td>Здрав твуйте, искал похожий случай в темах форума неналёл, такой вопрос купили телят содержатся в одной клетке 5 голов на привязи, у одного телёнка сегодня с утра увидел что он пропоносился какойто прозрачной слизью с какимито белыми хлопьями (наверно овсянка которую ел) запах очень неприятный н...</td>\n",
              "      <td>[[341, 347], [372, 379], [180, 185], [357, 361]]</td>\n",
              "    </tr>\n",
              "    <tr>\n",
              "      <th>97</th>\n",
              "      <td>391</td>\n",
              "      <td>После отела у коровы ,не отошел послед и было очень твердое вымя.Лечили различными мазями,остались два уплотнения на передних долях вымени.Ни температуры ни сгустков не было.Спустя\\n два месяца решили полечить,ввели септогель в доли. Теперь вымя твердое, доит мало, идут сгустки.</td>\n",
              "      <td>[[41, 45], [169, 173], [132, 138], [60, 64], [240, 244], [91, 95]]</td>\n",
              "    </tr>\n",
              "    <tr>\n",
              "      <th>98</th>\n",
              "      <td>392</td>\n",
              "      <td>Здравствуйте. Чем лечить понос у телёнка? Телёнку 1 месяц, до сих пор сосет корову. Дня 3 как начался понос, сейчас даже с кровью. Давали заварку с яйцами, не помогает. Чем из препаратов лечить? Что можно купить в 'человеческой' аптеке? Или может какими то другими народными средствами?</td>\n",
              "      <td>[[123, 129], [241, 246], [207, 211], [25, 30], [102, 107]]</td>\n",
              "    </tr>\n",
              "  </tbody>\n",
              "</table>\n",
              "<p>99 rows × 3 columns</p>\n",
              "</div>"
            ],
            "text/plain": [
              "    text_id  ...                                                                                                                                                                                                                                                                    span\n",
              "0       294  ...                                                                                                                                                                                                                                                              [[68, 72]]\n",
              "1       295  ...  [[524, 530], [372, 378], [538, 544], [753, 757], [142, 147], [484, 489], [214, 220], [291, 297], [752, 757], [47, 52], [339, 344], [364, 369], [412, 417], [467, 472], [558, 563], [593, 598], [785, 790], [785, 791], [558, 565], [558, 566], [553, 557], [531, 535]]\n",
              "2       296  ...                                                                                                                                                                                                            [[215, 220], [130, 134], [164, 169], [139, 144], [139, 146]]\n",
              "3       297  ...                                                                                                                                                                                                                                                              [[72, 76]]\n",
              "4       298  ...                                                                                                                                                                                                                                                            [[189, 195]]\n",
              "..      ...  ...                                                                                                                                                                                                                                                                     ...\n",
              "94      388  ...                                                                                                                                                                                                                              [[23, 28], [98, 103], [23, 30], [98, 105]]\n",
              "95      389  ...                                                                                                                                                                                                                                    [[201, 205], [153, 158], [195, 199]]\n",
              "96      390  ...                                                                                                                                                                                                                        [[341, 347], [372, 379], [180, 185], [357, 361]]\n",
              "97      391  ...                                                                                                                                                                                                      [[41, 45], [169, 173], [132, 138], [60, 64], [240, 244], [91, 95]]\n",
              "98      392  ...                                                                                                                                                                                                              [[123, 129], [241, 246], [207, 211], [25, 30], [102, 107]]\n",
              "\n",
              "[99 rows x 3 columns]"
            ]
          },
          "metadata": {},
          "execution_count": 111
        }
      ]
    }
  ]
}