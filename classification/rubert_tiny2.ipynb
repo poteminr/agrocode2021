{
  "nbformat": 4,
  "nbformat_minor": 0,
  "metadata": {
    "accelerator": "GPU",
    "colab": {
      "name": "rubert-tiny2(main 6.11)",
      "provenance": [],
      "collapsed_sections": []
    },
    "kernelspec": {
      "display_name": "Python 3",
      "language": "python",
      "name": "python3"
    },
    "language_info": {
      "codemirror_mode": {
        "name": "ipython",
        "version": 3
      },
      "file_extension": ".py",
      "mimetype": "text/x-python",
      "name": "python",
      "nbconvert_exporter": "python",
      "pygments_lexer": "ipython3",
      "version": "3.8.8"
    }
  },
  "cells": [
    {
      "cell_type": "code",
      "metadata": {
        "id": "hSLaomFHUj4W"
      },
      "source": [
        "!pip install -q transformers"
      ],
      "execution_count": null,
      "outputs": []
    },
    {
      "cell_type": "code",
      "metadata": {
        "id": "pzM1_ykHaFur"
      },
      "source": [
        "import numpy as np\n",
        "import pandas as pd\n",
        "\n",
        "from sklearn import metrics\n",
        "from sklearn.metrics import log_loss\n",
        "\n",
        "import transformers\n",
        "from transformers import AutoTokenizer, AutoModelForSequenceClassification\n",
        "from transformers import set_seed\n",
        "\n",
        "import torch\n",
        "import torch.nn as nn\n",
        "import torch.nn.functional as F\n",
        "from torch.utils.data import Dataset, DataLoader, RandomSampler, SequentialSampler\n",
        "\n",
        "import os\n",
        "import random\n",
        "import re\n",
        "\n",
        "import warnings\n",
        "warnings.filterwarnings('ignore')"
      ],
      "execution_count": null,
      "outputs": []
    },
    {
      "cell_type": "code",
      "metadata": {
        "id": "NLxxwd1scQNv"
      },
      "source": [
        "from torch import cuda\n",
        "device = 'cuda' if cuda.is_available() else 'cpu'"
      ],
      "execution_count": null,
      "outputs": []
    },
    {
      "cell_type": "code",
      "metadata": {
        "id": "jEmjlJj3ZGme"
      },
      "source": [
        "def seed_everything(seed: int):\n",
        "    \"\"\"Seeds and fixes every possible random state.\"\"\"\n",
        "    random.seed(seed)\n",
        "    os.environ['PYTHONHASHSEED'] = str(seed)\n",
        "    np.random.seed(seed)\n",
        "    torch.manual_seed(seed)\n",
        "    torch.cuda.manual_seed(seed)\n",
        "    torch.backends.cudnn.deterministic = True\n",
        "    set_seed(seed)\n",
        "\n",
        "\n",
        "SEED = 3407\n",
        "seed_everything(SEED)"
      ],
      "execution_count": null,
      "outputs": []
    },
    {
      "cell_type": "code",
      "metadata": {
        "colab": {
          "base_uri": "https://localhost:8080/"
        },
        "id": "DXul2nyXFW0P",
        "outputId": "f192e103-bdd3-454f-b4c0-965617926545"
      },
      "source": [
        "!nvidia-smi"
      ],
      "execution_count": null,
      "outputs": [
        {
          "output_type": "stream",
          "name": "stdout",
          "text": [
            "Fri Nov  5 18:07:53 2021       \n",
            "+-----------------------------------------------------------------------------+\n",
            "| NVIDIA-SMI 495.44       Driver Version: 460.32.03    CUDA Version: 11.2     |\n",
            "|-------------------------------+----------------------+----------------------+\n",
            "| GPU  Name        Persistence-M| Bus-Id        Disp.A | Volatile Uncorr. ECC |\n",
            "| Fan  Temp  Perf  Pwr:Usage/Cap|         Memory-Usage | GPU-Util  Compute M. |\n",
            "|                               |                      |               MIG M. |\n",
            "|===============================+======================+======================|\n",
            "|   0  Tesla K80           Off  | 00000000:00:04.0 Off |                    0 |\n",
            "| N/A   72C    P8    33W / 149W |      3MiB / 11441MiB |      0%      Default |\n",
            "|                               |                      |                  N/A |\n",
            "+-------------------------------+----------------------+----------------------+\n",
            "                                                                               \n",
            "+-----------------------------------------------------------------------------+\n",
            "| Processes:                                                                  |\n",
            "|  GPU   GI   CI        PID   Type   Process name                  GPU Memory |\n",
            "|        ID   ID                                                   Usage      |\n",
            "|=============================================================================|\n",
            "|  No running processes found                                                 |\n",
            "+-----------------------------------------------------------------------------+\n"
          ]
        }
      ]
    },
    {
      "cell_type": "markdown",
      "metadata": {
        "id": "2C3QomVw_7jE"
      },
      "source": [
        "# Training & Validating"
      ]
    },
    {
      "cell_type": "code",
      "metadata": {
        "id": "Kw9h9j7uVNA9"
      },
      "source": [
        "!wget -q -O train.csv https://getfile.dokpub.com/yandex/get/https://disk.yandex.ru/d/fmWGQJvwU5ejog"
      ],
      "execution_count": null,
      "outputs": []
    },
    {
      "cell_type": "code",
      "metadata": {
        "colab": {
          "base_uri": "https://localhost:8080/",
          "height": 204
        },
        "id": "mZ7lTlkyaG7u",
        "outputId": "b3c53d2a-7e62-49b4-f958-36588030b706"
      },
      "source": [
        "train_df = pd.read_csv(\"train.csv\")\n",
        "train_df['list'] = train_df[train_df.columns[2:]].values.tolist()\n",
        "\n",
        "new_train_df = train_df[['text', 'list']].copy()\n",
        "new_train_df.head()"
      ],
      "execution_count": null,
      "outputs": [
        {
          "output_type": "execute_result",
          "data": {
            "text/html": [
              "<div>\n",
              "<style scoped>\n",
              "    .dataframe tbody tr th:only-of-type {\n",
              "        vertical-align: middle;\n",
              "    }\n",
              "\n",
              "    .dataframe tbody tr th {\n",
              "        vertical-align: top;\n",
              "    }\n",
              "\n",
              "    .dataframe thead th {\n",
              "        text-align: right;\n",
              "    }\n",
              "</style>\n",
              "<table border=\"1\" class=\"dataframe\">\n",
              "  <thead>\n",
              "    <tr style=\"text-align: right;\">\n",
              "      <th></th>\n",
              "      <th>text</th>\n",
              "      <th>list</th>\n",
              "    </tr>\n",
              "  </thead>\n",
              "  <tbody>\n",
              "    <tr>\n",
              "      <th>0</th>\n",
              "      <td>Корова, видимо вставая, раздавила себе сосок. ...</td>\n",
              "      <td>[0, 0, 0, 0, 1, 0, 0, 0, 0, 0, 0]</td>\n",
              "    </tr>\n",
              "    <tr>\n",
              "      <th>1</th>\n",
              "      <td>Корове 8 лет! Месяц назад промеж четвертей вым...</td>\n",
              "      <td>[0, 0, 0, 0, 0, 0, 0, 0, 1, 1, 1]</td>\n",
              "    </tr>\n",
              "    <tr>\n",
              "      <th>2</th>\n",
              "      <td>Молоко течёт само у коровы. Что делать, если у...</td>\n",
              "      <td>[0, 0, 0, 0, 1, 0, 1, 0, 0, 0, 0]</td>\n",
              "    </tr>\n",
              "    <tr>\n",
              "      <th>3</th>\n",
              "      <td>У нетели болячки на вымени.\\nЗдравствуйте. Нет...</td>\n",
              "      <td>[0, 0, 0, 0, 0, 0, 0, 0, 1, 1, 1]</td>\n",
              "    </tr>\n",
              "    <tr>\n",
              "      <th>4</th>\n",
              "      <td>У меня первотелка, на днях отёл, у неё левый п...</td>\n",
              "      <td>[0, 0, 0, 0, 1, 0, 0, 0, 0, 0, 0]</td>\n",
              "    </tr>\n",
              "  </tbody>\n",
              "</table>\n",
              "</div>"
            ],
            "text/plain": [
              "                                                text                               list\n",
              "0  Корова, видимо вставая, раздавила себе сосок. ...  [0, 0, 0, 0, 1, 0, 0, 0, 0, 0, 0]\n",
              "1  Корове 8 лет! Месяц назад промеж четвертей вым...  [0, 0, 0, 0, 0, 0, 0, 0, 1, 1, 1]\n",
              "2  Молоко течёт само у коровы. Что делать, если у...  [0, 0, 0, 0, 1, 0, 1, 0, 0, 0, 0]\n",
              "3  У нетели болячки на вымени.\\nЗдравствуйте. Нет...  [0, 0, 0, 0, 0, 0, 0, 0, 1, 1, 1]\n",
              "4  У меня первотелка, на днях отёл, у неё левый п...  [0, 0, 0, 0, 1, 0, 0, 0, 0, 0, 0]"
            ]
          },
          "metadata": {},
          "execution_count": 7
        }
      ]
    },
    {
      "cell_type": "code",
      "metadata": {
        "id": "ikfbFlNHgi8T"
      },
      "source": [
        "model_checkpoint = \"cointegrated/rubert-tiny2\"\n",
        "tokenizer = AutoTokenizer.from_pretrained(model_checkpoint)"
      ],
      "execution_count": null,
      "outputs": []
    },
    {
      "cell_type": "code",
      "metadata": {
        "id": "P5HxQYndIK1_"
      },
      "source": [
        "MAX_LEN = 1024\n",
        "TRAIN_BATCH_SIZE = 8\n",
        "VALID_BATCH_SIZE = 4"
      ],
      "execution_count": null,
      "outputs": []
    },
    {
      "cell_type": "code",
      "metadata": {
        "id": "oFOylAXqiNYK"
      },
      "source": [
        "class CustomDataset(Dataset):\n",
        "\n",
        "    def __init__(self, dataframe, tokenizer, max_len):\n",
        "        self.tokenizer = tokenizer\n",
        "        self.data = dataframe\n",
        "        self.text = dataframe.text\n",
        "        self.targets = self.data.list\n",
        "        self.max_len = max_len\n",
        "\n",
        "    def __len__(self):\n",
        "        return len(self.text)\n",
        "\n",
        "    def __getitem__(self, index):\n",
        "        text = str(self.text[index])\n",
        "        text = \" \".join(text.split())\n",
        "        \n",
        "        \n",
        "        inputs = self.tokenizer.encode_plus(\n",
        "            text,\n",
        "            None,\n",
        "            add_special_tokens=True,\n",
        "            max_length=MAX_LEN,\n",
        "            pad_to_max_length=True,\n",
        "            truncation=True,\n",
        "            return_token_type_ids=True\n",
        "        )\n",
        "        ids = inputs['input_ids']\n",
        "        mask = inputs['attention_mask']\n",
        "        token_type_ids = inputs[\"token_type_ids\"]\n",
        "\n",
        "\n",
        "        return {\n",
        "            'ids': torch.tensor(ids, dtype=torch.long),\n",
        "            'mask': torch.tensor(mask, dtype=torch.long),\n",
        "            'token_type_ids': torch.tensor(token_type_ids, dtype=torch.long),\n",
        "            'targets': torch.tensor(self.targets[index], dtype=torch.float)\n",
        "        }"
      ],
      "execution_count": null,
      "outputs": []
    },
    {
      "cell_type": "code",
      "metadata": {
        "colab": {
          "base_uri": "https://localhost:8080/"
        },
        "id": "PkDGqarcPowL",
        "scrolled": true,
        "outputId": "503d87fb-81a5-4b1b-d303-2a02f9cf6a0d"
      },
      "source": [
        "train_size = 1\n",
        "train_dataset = new_train_df.sample(frac=train_size, random_state=200)\n",
        "\n",
        "valid_dataset = new_train_df.drop(train_dataset.index).reset_index(drop=True)\n",
        "\n",
        "train_dataset = train_dataset.reset_index(drop=True)\n",
        "\n",
        "\n",
        "print(\"FULL Dataset: {}\".format(new_train_df.shape))\n",
        "print(\"TRAIN Dataset: {}\".format(train_dataset.shape))\n",
        "print(\"VALID Dataset: {}\".format(valid_dataset.shape))\n",
        "\n",
        "training_set = CustomDataset(train_dataset, tokenizer, None)\n",
        "validating_set = CustomDataset(valid_dataset, tokenizer, None)"
      ],
      "execution_count": null,
      "outputs": [
        {
          "output_type": "stream",
          "name": "stdout",
          "text": [
            "FULL Dataset: (294, 2)\n",
            "TRAIN Dataset: (294, 2)\n",
            "VALID Dataset: (0, 2)\n"
          ]
        }
      ]
    },
    {
      "cell_type": "code",
      "metadata": {
        "colab": {
          "base_uri": "https://localhost:8080/"
        },
        "id": "ZiJsGdz3agx8",
        "outputId": "09d45094-a979-4e12-e9b2-35786f090397"
      },
      "source": [
        "def seed_worker(worker_id):\n",
        "    worker_seed = torch.initial_seed() % 2**32\n",
        "\n",
        "g = torch.Generator()\n",
        "g.manual_seed(SEED)"
      ],
      "execution_count": null,
      "outputs": [
        {
          "output_type": "execute_result",
          "data": {
            "text/plain": [
              "<torch._C.Generator at 0x7fcd78e4b890>"
            ]
          },
          "metadata": {},
          "execution_count": 12
        }
      ]
    },
    {
      "cell_type": "code",
      "metadata": {
        "id": "MY2Xx5T0BJ2O"
      },
      "source": [
        "train_params = {'batch_size': TRAIN_BATCH_SIZE,\n",
        "                'shuffle': True,\n",
        "                'num_workers': 0,\n",
        "                'worker_init_fn' : seed_worker,\n",
        "                'generator': g\n",
        "                }\n",
        "\n",
        "valid_params = {'batch_size': VALID_BATCH_SIZE,\n",
        "                'shuffle': True,\n",
        "                'num_workers': 0,\n",
        "                'worker_init_fn' : seed_worker,\n",
        "                'generator': g\n",
        "                }\n",
        "\n",
        "training_loader = DataLoader(training_set, **train_params)\n",
        "if train_size != 1:\n",
        "  validating_loader = DataLoader(validating_set, **valid_params)"
      ],
      "execution_count": null,
      "outputs": []
    },
    {
      "cell_type": "code",
      "metadata": {
        "id": "eLMbpQCDBHz3"
      },
      "source": [
        "from lsep_loss import LSEPLoss\n",
        "def lsep_fn(outputs, targets):\n",
        "    return LSEPLoss()(outputs, targets)\n",
        "\n",
        "def loss_fn(outputs, targets):\n",
        "    return torch.nn.MultiLabelSoftMarginLoss()(outputs, targets)"
      ],
      "execution_count": null,
      "outputs": []
    },
    {
      "cell_type": "code",
      "metadata": {
        "id": "gUD8j0c7WsA-",
        "colab": {
          "base_uri": "https://localhost:8080/"
        },
        "outputId": "16d21df5-488c-436e-eb4e-4b9b9643b6b2"
      },
      "source": [
        "LR = 0.0001\n",
        "EPOCH = 16\n",
        "\n",
        "model = AutoModelForSequenceClassification.from_pretrained(model_checkpoint, num_labels=11, output_attentions=True)\n",
        "model.to(device);\n",
        "\n",
        "optimizer = torch.optim.Adam(params=model.parameters(), lr=LR)"
      ],
      "execution_count": null,
      "outputs": [
        {
          "output_type": "stream",
          "name": "stderr",
          "text": [
            "Some weights of the model checkpoint at cointegrated/rubert-tiny2 were not used when initializing BertForSequenceClassification: ['cls.seq_relationship.bias', 'cls.predictions.transform.dense.bias', 'cls.predictions.transform.dense.weight', 'cls.seq_relationship.weight', 'cls.predictions.decoder.bias', 'cls.predictions.decoder.weight', 'cls.predictions.transform.LayerNorm.weight', 'cls.predictions.transform.LayerNorm.bias', 'cls.predictions.bias']\n",
            "- This IS expected if you are initializing BertForSequenceClassification from the checkpoint of a model trained on another task or with another architecture (e.g. initializing a BertForSequenceClassification model from a BertForPreTraining model).\n",
            "- This IS NOT expected if you are initializing BertForSequenceClassification from the checkpoint of a model that you expect to be exactly identical (initializing a BertForSequenceClassification model from a BertForSequenceClassification model).\n",
            "Some weights of BertForSequenceClassification were not initialized from the model checkpoint at cointegrated/rubert-tiny2 and are newly initialized: ['classifier.weight', 'classifier.bias']\n",
            "You should probably TRAIN this model on a down-stream task to be able to use it for predictions and inference.\n"
          ]
        }
      ]
    },
    {
      "cell_type": "code",
      "metadata": {
        "id": "B9_DjWmfWx1q"
      },
      "source": [
        "def train(epoch):\n",
        "\n",
        "    for ep in range(1, epoch+1):\n",
        "        model.train()\n",
        "        for _, data in enumerate(training_loader, 0):\n",
        "            ids = data['ids'].to(device, dtype = torch.long)\n",
        "            mask = data['mask'].to(device, dtype = torch.long)\n",
        "\n",
        "            token_type_ids = data['token_type_ids'].to(device, dtype = torch.long)\n",
        "            targets = data['targets'].to(device, dtype = torch.float)\n",
        "\n",
        "            outputs = model(ids, mask, token_type_ids)['logits']\n",
        "            \n",
        "            loss = lsep_fn(outputs, targets)\n",
        "\n",
        "            optimizer.zero_grad()\n",
        "            loss.backward()\n",
        "            optimizer.step()\n",
        "            \n",
        "            # if _ % 5000 == 0:\n",
        "            #     print(f'Epoch: {ep}, Loss:  {loss.item()}')\n",
        "\n",
        "        # model.eval()\n",
        "        # val_outputs = []\n",
        "        # val_targets = []\n",
        "        # for _, data in enumerate(validating_loader, 0):\n",
        "        #     ids = data['ids'].to(device, dtype = torch.long)\n",
        "        #     mask = data['mask'].to(device, dtype = torch.long)\n",
        "            \n",
        "        #     token_type_ids = data['token_type_ids'].to(device, dtype = torch.long)\n",
        "        #     targets = data['targets'].to(device, dtype = torch.float)\n",
        "\n",
        "        #     outputs = model(ids, mask, token_type_ids)['logits']\n",
        "\n",
        "        #     val_outputs.extend(torch.sigmoid(outputs).cpu().detach().numpy().tolist())\n",
        "        #     val_targets.extend(targets.cpu().detach().numpy().tolist())\n",
        "\n",
        "        \n",
        "        # val_outputs = np.array(val_outputs)\n",
        "        # lg = log_loss_score(val_targets, val_outputs)\n",
        "        # lg = (1 - lg) * 0.8\n",
        "\n",
        "        print(f'Epoch: {ep}, Loss:  {loss.item()}, Vall score: {0}')"
      ],
      "execution_count": null,
      "outputs": []
    },
    {
      "cell_type": "code",
      "metadata": {
        "id": "nIEoUm4aQkyl"
      },
      "source": [
        "def log_loss_score(gt, pr):\n",
        "    \n",
        "    log_loss_ = 0\n",
        "    \n",
        "    gt = np.array(gt)\n",
        "    \n",
        "    for i in range(10):\n",
        "        log_loss_ += log_loss(gt[:, i], pr[:, i])\n",
        "        \n",
        "    return log_loss_ / 10\n",
        "\n",
        "    \n",
        "def validation():\n",
        "    model.eval()\n",
        "\n",
        "    fin_targets=[]\n",
        "    fin_outputs=[]\n",
        "\n",
        "    with torch.no_grad():\n",
        "        for _, data in enumerate(validating_loader, 0):\n",
        "            ids = data['ids'].to(device, dtype = torch.long)\n",
        "            mask = data['mask'].to(device, dtype = torch.long)\n",
        "            \n",
        "            token_type_ids = data['token_type_ids'].to(device, dtype = torch.long)\n",
        "            targets = data['targets'].to(device, dtype = torch.float)\n",
        "\n",
        "            outputs = model(ids, mask, token_type_ids)['logits']\n",
        "\n",
        "            fin_targets.extend(targets.cpu().detach().numpy().tolist())\n",
        "            fin_outputs.extend(torch.sigmoid(outputs).cpu().detach().numpy().tolist())\n",
        "            \n",
        "    return fin_outputs, fin_targets\n",
        "\n",
        "def get_val_metrics():\n",
        "    outputs, targets = validation()\n",
        "    outputs = np.array(outputs)\n",
        "    lg = log_loss_score(targets, outputs)\n",
        "\n",
        "    return (1 - lg) * 0.8"
      ],
      "execution_count": null,
      "outputs": []
    },
    {
      "cell_type": "code",
      "metadata": {
        "colab": {
          "base_uri": "https://localhost:8080/"
        },
        "collapsed": true,
        "id": "D4Yl7gXHYSRU",
        "outputId": "55ba5374-2077-471a-d01a-a05463b4a74a"
      },
      "source": [
        "train(EPOCH)"
      ],
      "execution_count": null,
      "outputs": [
        {
          "output_type": "stream",
          "name": "stdout",
          "text": [
            "Epoch: 1, Loss:  4.472280979156494, Vall score: 0\n",
            "Epoch: 2, Loss:  4.402431964874268, Vall score: 0\n",
            "Epoch: 3, Loss:  3.8514771461486816, Vall score: 0\n",
            "Epoch: 4, Loss:  3.6219141483306885, Vall score: 0\n",
            "Epoch: 5, Loss:  2.6075499057769775, Vall score: 0\n",
            "Epoch: 6, Loss:  2.750067710876465, Vall score: 0\n",
            "Epoch: 7, Loss:  2.223081588745117, Vall score: 0\n",
            "Epoch: 8, Loss:  1.6011663675308228, Vall score: 0\n",
            "Epoch: 9, Loss:  1.8394676446914673, Vall score: 0\n",
            "Epoch: 10, Loss:  0.9213372468948364, Vall score: 0\n",
            "Epoch: 11, Loss:  1.0586583614349365, Vall score: 0\n",
            "Epoch: 12, Loss:  0.6638598442077637, Vall score: 0\n",
            "Epoch: 13, Loss:  0.9451155066490173, Vall score: 0\n",
            "Epoch: 14, Loss:  0.21263328194618225, Vall score: 0\n",
            "Epoch: 15, Loss:  0.3039184510707855, Vall score: 0\n",
            "Epoch: 16, Loss:  0.32209518551826477, Vall score: 0\n"
          ]
        }
      ]
    },
    {
      "cell_type": "code",
      "metadata": {
        "id": "Ov1_3R_pAcMo"
      },
      "source": [
        "if train_size != 1:\n",
        "  outputs, targets = validation()\n",
        "  outputs = np.array(outputs)\n",
        "  lg = log_loss_score(targets, outputs)\n",
        "\n",
        "  print(f\"log_loss = {lg}\")\n",
        "  print(f\"log_score = {1 - lg}\")\n",
        "  print(f\"log_score * 0.8 = {(1 - lg) * 0.8}\")\n"
      ],
      "execution_count": null,
      "outputs": []
    },
    {
      "cell_type": "code",
      "metadata": {
        "id": "CnhIv5GcL8-I"
      },
      "source": [
        "# model.save_pretrained('./my_model_directory/')"
      ],
      "execution_count": null,
      "outputs": []
    },
    {
      "cell_type": "markdown",
      "metadata": {
        "id": "Jz-XRDTAAWRJ"
      },
      "source": [
        "# Submission\n"
      ]
    },
    {
      "cell_type": "code",
      "metadata": {
        "id": "b7spFEp3_8QG"
      },
      "source": [
        "!wget -q -O test.csv https://getfile.dokpub.com/yandex/get/https://disk.yandex.ru/d/Wo70d4_PAwujqA"
      ],
      "execution_count": null,
      "outputs": []
    },
    {
      "cell_type": "code",
      "metadata": {
        "id": "fpakMZpH3Y3e"
      },
      "source": [
        "test = pd.read_csv('test.csv')\n",
        "test_spans = pd.read_json('test_df_with_spans14.json')"
      ],
      "execution_count": null,
      "outputs": []
    },
    {
      "cell_type": "code",
      "metadata": {
        "id": "faCnlFLhIHVj",
        "colab": {
          "base_uri": "https://localhost:8080/",
          "height": 204
        },
        "outputId": "3c044dd2-1a94-41e3-aa75-428349b97819"
      },
      "source": [
        "test['list'] = test[test.columns[2:]].values.tolist()\n",
        "\n",
        "new_df_test = test[['text', 'list']].copy()\n",
        "new_df_test.head()"
      ],
      "execution_count": null,
      "outputs": [
        {
          "output_type": "execute_result",
          "data": {
            "text/html": [
              "<div>\n",
              "<style scoped>\n",
              "    .dataframe tbody tr th:only-of-type {\n",
              "        vertical-align: middle;\n",
              "    }\n",
              "\n",
              "    .dataframe tbody tr th {\n",
              "        vertical-align: top;\n",
              "    }\n",
              "\n",
              "    .dataframe thead th {\n",
              "        text-align: right;\n",
              "    }\n",
              "</style>\n",
              "<table border=\"1\" class=\"dataframe\">\n",
              "  <thead>\n",
              "    <tr style=\"text-align: right;\">\n",
              "      <th></th>\n",
              "      <th>text</th>\n",
              "      <th>list</th>\n",
              "    </tr>\n",
              "  </thead>\n",
              "  <tbody>\n",
              "    <tr>\n",
              "      <th>0</th>\n",
              "      <td>Понос у месячных телят. Подскажите методы и сп...</td>\n",
              "      <td>[]</td>\n",
              "    </tr>\n",
              "    <tr>\n",
              "      <th>1</th>\n",
              "      <td>Понос у телят, чем лечить? \\nЧем можно вылечит...</td>\n",
              "      <td>[]</td>\n",
              "    </tr>\n",
              "    <tr>\n",
              "      <th>2</th>\n",
              "      <td>По какой причине у телёнка отнимаются ноги?\\nП...</td>\n",
              "      <td>[]</td>\n",
              "    </tr>\n",
              "    <tr>\n",
              "      <th>3</th>\n",
              "      <td>Срочно! Ребятки, помогите, корову что-то укуси...</td>\n",
              "      <td>[]</td>\n",
              "    </tr>\n",
              "    <tr>\n",
              "      <th>4</th>\n",
              "      <td>Сгустки у коровы.\\nЗдравствуйте, помогите пожа...</td>\n",
              "      <td>[]</td>\n",
              "    </tr>\n",
              "  </tbody>\n",
              "</table>\n",
              "</div>"
            ],
            "text/plain": [
              "                                                text list\n",
              "0  Понос у месячных телят. Подскажите методы и сп...   []\n",
              "1  Понос у телят, чем лечить? \\nЧем можно вылечит...   []\n",
              "2  По какой причине у телёнка отнимаются ноги?\\nП...   []\n",
              "3  Срочно! Ребятки, помогите, корову что-то укуси...   []\n",
              "4  Сгустки у коровы.\\nЗдравствуйте, помогите пожа...   []"
            ]
          },
          "metadata": {},
          "execution_count": 110
        }
      ]
    },
    {
      "cell_type": "code",
      "metadata": {
        "colab": {
          "base_uri": "https://localhost:8080/",
          "height": 419
        },
        "id": "JbzqA_oliYhN",
        "outputId": "d816c6c9-f1ea-46bd-a3d9-d34f8999a96d"
      },
      "source": [
        "test"
      ],
      "execution_count": null,
      "outputs": [
        {
          "output_type": "execute_result",
          "data": {
            "text/html": [
              "<div>\n",
              "<style scoped>\n",
              "    .dataframe tbody tr th:only-of-type {\n",
              "        vertical-align: middle;\n",
              "    }\n",
              "\n",
              "    .dataframe tbody tr th {\n",
              "        vertical-align: top;\n",
              "    }\n",
              "\n",
              "    .dataframe thead th {\n",
              "        text-align: right;\n",
              "    }\n",
              "</style>\n",
              "<table border=\"1\" class=\"dataframe\">\n",
              "  <thead>\n",
              "    <tr style=\"text-align: right;\">\n",
              "      <th></th>\n",
              "      <th>text_id</th>\n",
              "      <th>text</th>\n",
              "      <th>list</th>\n",
              "    </tr>\n",
              "  </thead>\n",
              "  <tbody>\n",
              "    <tr>\n",
              "      <th>0</th>\n",
              "      <td>294</td>\n",
              "      <td>Понос у месячных телят. Подскажите методы и сп...</td>\n",
              "      <td>[]</td>\n",
              "    </tr>\n",
              "    <tr>\n",
              "      <th>1</th>\n",
              "      <td>295</td>\n",
              "      <td>Понос у телят, чем лечить? \\nЧем можно вылечит...</td>\n",
              "      <td>[]</td>\n",
              "    </tr>\n",
              "    <tr>\n",
              "      <th>2</th>\n",
              "      <td>296</td>\n",
              "      <td>По какой причине у телёнка отнимаются ноги?\\nП...</td>\n",
              "      <td>[]</td>\n",
              "    </tr>\n",
              "    <tr>\n",
              "      <th>3</th>\n",
              "      <td>297</td>\n",
              "      <td>Срочно! Ребятки, помогите, корову что-то укуси...</td>\n",
              "      <td>[]</td>\n",
              "    </tr>\n",
              "    <tr>\n",
              "      <th>4</th>\n",
              "      <td>298</td>\n",
              "      <td>Сгустки у коровы.\\nЗдравствуйте, помогите пожа...</td>\n",
              "      <td>[]</td>\n",
              "    </tr>\n",
              "    <tr>\n",
              "      <th>...</th>\n",
              "      <td>...</td>\n",
              "      <td>...</td>\n",
              "      <td>...</td>\n",
              "    </tr>\n",
              "    <tr>\n",
              "      <th>94</th>\n",
              "      <td>388</td>\n",
              "      <td>Большой бык уже неделю поносит, чем помочь?\\nП...</td>\n",
              "      <td>[]</td>\n",
              "    </tr>\n",
              "    <tr>\n",
              "      <th>95</th>\n",
              "      <td>389</td>\n",
              "      <td>Как запустить желудок у коровы?\\nУ меня объела...</td>\n",
              "      <td>[]</td>\n",
              "    </tr>\n",
              "    <tr>\n",
              "      <th>96</th>\n",
              "      <td>390</td>\n",
              "      <td>Здрав твуйте, искал похожий случай в темах фор...</td>\n",
              "      <td>[]</td>\n",
              "    </tr>\n",
              "    <tr>\n",
              "      <th>97</th>\n",
              "      <td>391</td>\n",
              "      <td>После отела у коровы ,не отошел послед и было ...</td>\n",
              "      <td>[]</td>\n",
              "    </tr>\n",
              "    <tr>\n",
              "      <th>98</th>\n",
              "      <td>392</td>\n",
              "      <td>Здравствуйте. Чем лечить понос у телёнка? Телё...</td>\n",
              "      <td>[]</td>\n",
              "    </tr>\n",
              "  </tbody>\n",
              "</table>\n",
              "<p>99 rows × 3 columns</p>\n",
              "</div>"
            ],
            "text/plain": [
              "    text_id                                               text list\n",
              "0       294  Понос у месячных телят. Подскажите методы и сп...   []\n",
              "1       295  Понос у телят, чем лечить? \\nЧем можно вылечит...   []\n",
              "2       296  По какой причине у телёнка отнимаются ноги?\\nП...   []\n",
              "3       297  Срочно! Ребятки, помогите, корову что-то укуси...   []\n",
              "4       298  Сгустки у коровы.\\nЗдравствуйте, помогите пожа...   []\n",
              "..      ...                                                ...  ...\n",
              "94      388  Большой бык уже неделю поносит, чем помочь?\\nП...   []\n",
              "95      389  Как запустить желудок у коровы?\\nУ меня объела...   []\n",
              "96      390  Здрав твуйте, искал похожий случай в темах фор...   []\n",
              "97      391  После отела у коровы ,не отошел послед и было ...   []\n",
              "98      392  Здравствуйте. Чем лечить понос у телёнка? Телё...   []\n",
              "\n",
              "[99 rows x 3 columns]"
            ]
          },
          "metadata": {},
          "execution_count": 118
        }
      ]
    },
    {
      "cell_type": "code",
      "metadata": {
        "colab": {
          "base_uri": "https://localhost:8080/"
        },
        "id": "ks2YyYPycCWS",
        "outputId": "f441e2fd-9940-48ed-bfcd-b23e50dfadfd"
      },
      "source": [
        "test_spans.iloc[39]"
      ],
      "execution_count": null,
      "outputs": [
        {
          "output_type": "execute_result",
          "data": {
            "text/plain": [
              "text_id                                                  333\n",
              "text       Всем здравствуйте, такой вопрос корова отелила...\n",
              "span                                [[128, 133], [134, 144]]\n",
              "Name: 39, dtype: object"
            ]
          },
          "metadata": {},
          "execution_count": 111
        }
      ]
    },
    {
      "cell_type": "code",
      "metadata": {
        "id": "oUIZoS3nH01z",
        "colab": {
          "base_uri": "https://localhost:8080/"
        },
        "outputId": "376a9804-a526-4608-93ea-c3042e774473"
      },
      "source": [
        "test_dataset = new_df_test.reset_index(drop=True)\n",
        "\n",
        "print(\"TEST Dataset: {}\".format(test_dataset.shape))\n",
        "\n",
        "testing_set = CustomDataset(test_dataset, tokenizer, None)"
      ],
      "execution_count": null,
      "outputs": [
        {
          "output_type": "stream",
          "name": "stdout",
          "text": [
            "TEST Dataset: (99, 2)\n"
          ]
        }
      ]
    },
    {
      "cell_type": "code",
      "metadata": {
        "id": "3FjgHvl8IuIJ"
      },
      "source": [
        "test_params = {'batch_size': 4,\n",
        "                'shuffle': False,\n",
        "                'num_workers': 0,\n",
        "                'worker_init_fn' : seed_worker,\n",
        "                'generator': g\n",
        "                }\n",
        "\n",
        "testing_loader = DataLoader(testing_set, **test_params)"
      ],
      "execution_count": null,
      "outputs": []
    },
    {
      "cell_type": "code",
      "metadata": {
        "id": "vnXrvmM3I20r"
      },
      "source": [
        "model.eval()\n",
        "prediction = []\n",
        "\n",
        "with torch.no_grad():\n",
        "    for _, data in enumerate(testing_loader, 0):\n",
        "        ids = data['ids'].to(device, dtype = torch.long)\n",
        "        mask = data['mask'].to(device, dtype = torch.long)\n",
        "\n",
        "        token_type_ids = data['token_type_ids'].to(device, dtype = torch.long)\n",
        "        targets = data['targets'].to(device, dtype = torch.float)\n",
        "\n",
        "        outputs = model(ids, mask, token_type_ids)['logits']\n",
        "\n",
        "        prediction.extend(torch.sigmoid(outputs).cpu().detach().numpy().tolist())"
      ],
      "execution_count": null,
      "outputs": []
    },
    {
      "cell_type": "code",
      "metadata": {
        "id": "6ZVLzS2kHlD0"
      },
      "source": [
        "submission_columns = ['text_id'] + list(train_df.columns[2:-2])\n",
        "submission = pd.concat([test['text_id'], pd.DataFrame(np.array(prediction)[:, :10])], axis=1)\n",
        "submission.columns = submission_columns"
      ],
      "execution_count": null,
      "outputs": []
    },
    {
      "cell_type": "code",
      "metadata": {
        "id": "T6M7mJM4KA1N"
      },
      "source": [
        "# submission_json = {str(k): {\"span\": find_spans(test[test.text_id == k].text.item()), \"label\": list(v.values())} \\\n",
        "#                    for k,v in submission.set_index('text_id').to_dict('index').items()}\n",
        "\n",
        "submission_json = {str(k): {\"span\": test_spans[test_spans.text_id == k].span.item(), \"label\": list(v.values())} \\\n",
        "                   for k,v in submission.set_index('text_id').to_dict('index').items()}"
      ],
      "execution_count": null,
      "outputs": []
    },
    {
      "cell_type": "code",
      "metadata": {
        "id": "tn0vjF03KFk8"
      },
      "source": [
        "import json\n",
        "with open('submisson_test_spans14.json', 'w') as final_submit:\n",
        "    json.dump(submission_json, final_submit, indent=4)"
      ],
      "execution_count": null,
      "outputs": []
    },
    {
      "cell_type": "code",
      "metadata": {
        "colab": {
          "base_uri": "https://localhost:8080/"
        },
        "id": "-yysblhZ4DqI",
        "outputId": "0d4c669f-1363-43b3-ee4d-5c2639d6f0c3"
      },
      "source": [
        "model.save_pretrained('clf_bert14/')\n",
        "tokenizer.save_pretrained('clf_bert14/')"
      ],
      "execution_count": null,
      "outputs": [
        {
          "output_type": "execute_result",
          "data": {
            "text/plain": [
              "('clf_bert14/tokenizer_config.json',\n",
              " 'clf_bert14/special_tokens_map.json',\n",
              " 'clf_bert14/vocab.txt',\n",
              " 'clf_bert14/added_tokens.json',\n",
              " 'clf_bert14/tokenizer.json')"
            ]
          },
          "metadata": {},
          "execution_count": 119
        }
      ]
    },
    {
      "cell_type": "code",
      "metadata": {
        "id": "JfAUJEKR2q2U",
        "colab": {
          "base_uri": "https://localhost:8080/"
        },
        "outputId": "663fc0a8-6e22-4f4d-e693-187d46809fde"
      },
      "source": [
        "!zip -r /content/clf_bert14.zip /content/clf_bert14"
      ],
      "execution_count": null,
      "outputs": [
        {
          "output_type": "stream",
          "name": "stdout",
          "text": [
            "  adding: content/clf_bert14/ (stored 0%)\n",
            "  adding: content/clf_bert14/vocab.txt (deflated 64%)\n",
            "  adding: content/clf_bert14/pytorch_model.bin (deflated 8%)\n",
            "  adding: content/clf_bert14/special_tokens_map.json (deflated 40%)\n",
            "  adding: content/clf_bert14/tokenizer.json (deflated 65%)\n",
            "  adding: content/clf_bert14/tokenizer_config.json (deflated 42%)\n",
            "  adding: content/clf_bert14/config.json (deflated 57%)\n"
          ]
        }
      ]
    },
    {
      "cell_type": "code",
      "metadata": {
        "id": "OHjldbr83K8w",
        "colab": {
          "base_uri": "https://localhost:8080/",
          "height": 17
        },
        "outputId": "5a147b41-9075-4ffd-8d13-0c4a3cde61f4"
      },
      "source": [
        "from google.colab import files\n",
        "files.download(\"/content/clf_bert14.zip\")"
      ],
      "execution_count": null,
      "outputs": [
        {
          "output_type": "display_data",
          "data": {
            "application/javascript": [
              "\n",
              "    async function download(id, filename, size) {\n",
              "      if (!google.colab.kernel.accessAllowed) {\n",
              "        return;\n",
              "      }\n",
              "      const div = document.createElement('div');\n",
              "      const label = document.createElement('label');\n",
              "      label.textContent = `Downloading \"${filename}\": `;\n",
              "      div.appendChild(label);\n",
              "      const progress = document.createElement('progress');\n",
              "      progress.max = size;\n",
              "      div.appendChild(progress);\n",
              "      document.body.appendChild(div);\n",
              "\n",
              "      const buffers = [];\n",
              "      let downloaded = 0;\n",
              "\n",
              "      const channel = await google.colab.kernel.comms.open(id);\n",
              "      // Send a message to notify the kernel that we're ready.\n",
              "      channel.send({})\n",
              "\n",
              "      for await (const message of channel.messages) {\n",
              "        // Send a message to notify the kernel that we're ready.\n",
              "        channel.send({})\n",
              "        if (message.buffers) {\n",
              "          for (const buffer of message.buffers) {\n",
              "            buffers.push(buffer);\n",
              "            downloaded += buffer.byteLength;\n",
              "            progress.value = downloaded;\n",
              "          }\n",
              "        }\n",
              "      }\n",
              "      const blob = new Blob(buffers, {type: 'application/binary'});\n",
              "      const a = document.createElement('a');\n",
              "      a.href = window.URL.createObjectURL(blob);\n",
              "      a.download = filename;\n",
              "      div.appendChild(a);\n",
              "      a.click();\n",
              "      div.remove();\n",
              "    }\n",
              "  "
            ],
            "text/plain": [
              "<IPython.core.display.Javascript object>"
            ]
          },
          "metadata": {}
        },
        {
          "output_type": "display_data",
          "data": {
            "application/javascript": [
              "download(\"download_45e8f34d-0255-4d72-bf26-e1d34209f5bb\", \"clf_bert14.zip\", 108462042)"
            ],
            "text/plain": [
              "<IPython.core.display.Javascript object>"
            ]
          },
          "metadata": {}
        }
      ]
    }
  ]
}