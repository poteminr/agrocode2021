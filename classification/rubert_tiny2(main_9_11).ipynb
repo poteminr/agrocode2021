{
  "nbformat": 4,
  "nbformat_minor": 0,
  "metadata": {
    "accelerator": "GPU",
    "colab": {
      "name": "rubert-tiny2(main 9.11)",
      "provenance": [],
      "collapsed_sections": []
    },
    "kernelspec": {
      "display_name": "Python 3",
      "language": "python",
      "name": "python3"
    },
    "language_info": {
      "codemirror_mode": {
        "name": "ipython",
        "version": 3
      },
      "file_extension": ".py",
      "mimetype": "text/x-python",
      "name": "python",
      "nbconvert_exporter": "python",
      "pygments_lexer": "ipython3",
      "version": "3.8.8"
    }
  },
  "cells": [
    {
      "cell_type": "code",
      "metadata": {
        "id": "hSLaomFHUj4W"
      },
      "source": [
        "!pip install -q transformers"
      ],
      "execution_count": 1,
      "outputs": []
    },
    {
      "cell_type": "code",
      "metadata": {
        "id": "pzM1_ykHaFur"
      },
      "source": [
        "import numpy as np\n",
        "import pandas as pd\n",
        "\n",
        "from sklearn import metrics\n",
        "from sklearn.metrics import log_loss\n",
        "\n",
        "import transformers\n",
        "from transformers import AutoTokenizer, AutoModelForSequenceClassification\n",
        "from transformers import set_seed\n",
        "\n",
        "import torch\n",
        "import torch.nn as nn\n",
        "import torch.nn.functional as F\n",
        "from torch.utils.data import Dataset, DataLoader, RandomSampler, SequentialSampler\n",
        "\n",
        "import os\n",
        "import random\n",
        "import re\n",
        "\n",
        "import warnings\n",
        "warnings.filterwarnings('ignore')"
      ],
      "execution_count": 2,
      "outputs": []
    },
    {
      "cell_type": "code",
      "metadata": {
        "id": "NLxxwd1scQNv"
      },
      "source": [
        "from torch import cuda\n",
        "device = 'cuda' if cuda.is_available() else 'cpu'"
      ],
      "execution_count": 3,
      "outputs": []
    },
    {
      "cell_type": "code",
      "metadata": {
        "id": "33QH8LQW8AGo"
      },
      "source": [
        "%load_ext autoreload\n",
        "%autoreload 2"
      ],
      "execution_count": 4,
      "outputs": []
    },
    {
      "cell_type": "code",
      "metadata": {
        "id": "jEmjlJj3ZGme"
      },
      "source": [
        "def seed_everything(seed: int):\n",
        "    \"\"\"Seeds and fixes every possible random state.\"\"\"\n",
        "    random.seed(seed)\n",
        "    os.environ['PYTHONHASHSEED'] = str(seed)\n",
        "    np.random.seed(seed)\n",
        "    torch.manual_seed(seed)\n",
        "    torch.cuda.manual_seed(seed)\n",
        "    torch.backends.cudnn.deterministic = True\n",
        "    set_seed(seed)\n",
        "\n",
        "\n",
        "SEED = 3407\n",
        "seed_everything(SEED)"
      ],
      "execution_count": 5,
      "outputs": []
    },
    {
      "cell_type": "code",
      "metadata": {
        "colab": {
          "base_uri": "https://localhost:8080/"
        },
        "id": "DXul2nyXFW0P",
        "outputId": "258862c3-9058-4a5d-8310-f47b7b456a67"
      },
      "source": [
        "!nvidia-smi"
      ],
      "execution_count": 6,
      "outputs": [
        {
          "output_type": "stream",
          "name": "stdout",
          "text": [
            "Tue Nov  9 14:59:54 2021       \n",
            "+-----------------------------------------------------------------------------+\n",
            "| NVIDIA-SMI 495.44       Driver Version: 460.32.03    CUDA Version: 11.2     |\n",
            "|-------------------------------+----------------------+----------------------+\n",
            "| GPU  Name        Persistence-M| Bus-Id        Disp.A | Volatile Uncorr. ECC |\n",
            "| Fan  Temp  Perf  Pwr:Usage/Cap|         Memory-Usage | GPU-Util  Compute M. |\n",
            "|                               |                      |               MIG M. |\n",
            "|===============================+======================+======================|\n",
            "|   0  Tesla K80           Off  | 00000000:00:04.0 Off |                    0 |\n",
            "| N/A   71C    P8    32W / 149W |      3MiB / 11441MiB |      0%      Default |\n",
            "|                               |                      |                  N/A |\n",
            "+-------------------------------+----------------------+----------------------+\n",
            "                                                                               \n",
            "+-----------------------------------------------------------------------------+\n",
            "| Processes:                                                                  |\n",
            "|  GPU   GI   CI        PID   Type   Process name                  GPU Memory |\n",
            "|        ID   ID                                                   Usage      |\n",
            "|=============================================================================|\n",
            "|  No running processes found                                                 |\n",
            "+-----------------------------------------------------------------------------+\n"
          ]
        }
      ]
    },
    {
      "cell_type": "markdown",
      "metadata": {
        "id": "2C3QomVw_7jE"
      },
      "source": [
        "# Training & Validating"
      ]
    },
    {
      "cell_type": "code",
      "metadata": {
        "id": "Kw9h9j7uVNA9"
      },
      "source": [
        "!wget -q -O train.csv https://getfile.dokpub.com/yandex/get/https://disk.yandex.ru/d/fmWGQJvwU5ejog"
      ],
      "execution_count": 7,
      "outputs": []
    },
    {
      "cell_type": "code",
      "metadata": {
        "colab": {
          "base_uri": "https://localhost:8080/",
          "height": 204
        },
        "id": "mZ7lTlkyaG7u",
        "outputId": "1b9f65cc-ec19-4380-d4be-d79684ce1edc"
      },
      "source": [
        "train_df = pd.read_csv(\"train.csv\")\n",
        "train_df['list'] = train_df[train_df.columns[2:]].values.tolist()\n",
        "\n",
        "new_train_df = train_df[['text', 'list']].copy()\n",
        "new_train_df.head()"
      ],
      "execution_count": 8,
      "outputs": [
        {
          "output_type": "execute_result",
          "data": {
            "text/html": [
              "<div>\n",
              "<style scoped>\n",
              "    .dataframe tbody tr th:only-of-type {\n",
              "        vertical-align: middle;\n",
              "    }\n",
              "\n",
              "    .dataframe tbody tr th {\n",
              "        vertical-align: top;\n",
              "    }\n",
              "\n",
              "    .dataframe thead th {\n",
              "        text-align: right;\n",
              "    }\n",
              "</style>\n",
              "<table border=\"1\" class=\"dataframe\">\n",
              "  <thead>\n",
              "    <tr style=\"text-align: right;\">\n",
              "      <th></th>\n",
              "      <th>text</th>\n",
              "      <th>list</th>\n",
              "    </tr>\n",
              "  </thead>\n",
              "  <tbody>\n",
              "    <tr>\n",
              "      <th>0</th>\n",
              "      <td>Корова, видимо вставая, раздавила себе сосок. ...</td>\n",
              "      <td>[0, 0, 0, 0, 1, 0, 0, 0, 0, 0, 0]</td>\n",
              "    </tr>\n",
              "    <tr>\n",
              "      <th>1</th>\n",
              "      <td>Корове 8 лет! Месяц назад промеж четвертей вым...</td>\n",
              "      <td>[0, 0, 0, 0, 0, 0, 0, 0, 1, 1, 1]</td>\n",
              "    </tr>\n",
              "    <tr>\n",
              "      <th>2</th>\n",
              "      <td>Молоко течёт само у коровы. Что делать, если у...</td>\n",
              "      <td>[0, 0, 0, 0, 1, 0, 1, 0, 0, 0, 0]</td>\n",
              "    </tr>\n",
              "    <tr>\n",
              "      <th>3</th>\n",
              "      <td>У нетели болячки на вымени.\\nЗдравствуйте. Нет...</td>\n",
              "      <td>[0, 0, 0, 0, 0, 0, 0, 0, 1, 1, 1]</td>\n",
              "    </tr>\n",
              "    <tr>\n",
              "      <th>4</th>\n",
              "      <td>У меня первотелка, на днях отёл, у неё левый п...</td>\n",
              "      <td>[0, 0, 0, 0, 1, 0, 0, 0, 0, 0, 0]</td>\n",
              "    </tr>\n",
              "  </tbody>\n",
              "</table>\n",
              "</div>"
            ],
            "text/plain": [
              "                                                text                               list\n",
              "0  Корова, видимо вставая, раздавила себе сосок. ...  [0, 0, 0, 0, 1, 0, 0, 0, 0, 0, 0]\n",
              "1  Корове 8 лет! Месяц назад промеж четвертей вым...  [0, 0, 0, 0, 0, 0, 0, 0, 1, 1, 1]\n",
              "2  Молоко течёт само у коровы. Что делать, если у...  [0, 0, 0, 0, 1, 0, 1, 0, 0, 0, 0]\n",
              "3  У нетели болячки на вымени.\\nЗдравствуйте. Нет...  [0, 0, 0, 0, 0, 0, 0, 0, 1, 1, 1]\n",
              "4  У меня первотелка, на днях отёл, у неё левый п...  [0, 0, 0, 0, 1, 0, 0, 0, 0, 0, 0]"
            ]
          },
          "metadata": {},
          "execution_count": 8
        }
      ]
    },
    {
      "cell_type": "code",
      "metadata": {
        "id": "MhX74sXMd9cs"
      },
      "source": [
        "!wget -q -O train_labels.json https://getfile.dokpub.com/yandex/get/https://disk.yandex.ru/d/0nJ2QTRb9-U7tA\n",
        "!wget -q -O labeled_train_by_hand.json https://getfile.dokpub.com/yandex/get/https://disk.yandex.ru/d/Oq154PAxDGeIFg"
      ],
      "execution_count": 9,
      "outputs": []
    },
    {
      "cell_type": "code",
      "metadata": {
        "id": "QbOKLVtkd9YL"
      },
      "source": [
        "train_labels = pd.read_json('train_labels.json').T\n",
        "labeled_by_hand_df = pd.read_json('labeled_train_by_hand.json')\n",
        "labeled_by_hand_df['id'] = labeled_by_hand_df['id'] - np.ones(len(labeled_by_hand_df['id']))\n",
        "labeled_by_hand_df['id'] = labeled_by_hand_df['id'].astype(int)"
      ],
      "execution_count": 10,
      "outputs": []
    },
    {
      "cell_type": "code",
      "metadata": {
        "id": "CJwq_w00fBlG"
      },
      "source": [
        "dct = {'text_id':[], 'span_text':[]}\n",
        "\n",
        "for i in range(0, len(labeled_by_hand_df)):\n",
        "    data = labeled_by_hand_df['annotations'][i][0]['result']\n",
        "    id = labeled_by_hand_df.id[i]\n",
        "\n",
        "    spans_text = []\n",
        "    for span in data:\n",
        "        spans_text.append(span['value']['text'])\n",
        "\n",
        "    # spans_text = np.unique(spans_text)\n",
        "    dct['span_text'].append(spans_text)\n",
        "    dct['text_id'].append(id)\n",
        "\n",
        "\n",
        "for i in range(0, 30):\n",
        "    spans = train_labels.span[i]\n",
        "    spans_text = []\n",
        "    for span in spans:\n",
        "        spans_text.append(\n",
        "            train_df.text[i][span[0]:span[1]])\n",
        "    \n",
        "    # spans_text = np.unique(spans_text)\n",
        "    dct['span_text'].append(spans_text)\n",
        "    dct['text_id'].append(i)"
      ],
      "execution_count": 11,
      "outputs": []
    },
    {
      "cell_type": "code",
      "metadata": {
        "id": "1Nn2ZdqgizYh"
      },
      "source": [
        "dct = pd.DataFrame(dct)"
      ],
      "execution_count": 12,
      "outputs": []
    },
    {
      "cell_type": "code",
      "metadata": {
        "id": "W3Q1YJvGd9Ux"
      },
      "source": [
        "for i in range(0, len(new_train_df)):\n",
        "    new_train_df['text'][i] = \" \".join(dct[dct['text_id'] == i]['span_text'].values[0]) +  \" | \" + new_train_df['text'][i]"
      ],
      "execution_count": 13,
      "outputs": []
    },
    {
      "cell_type": "code",
      "metadata": {
        "colab": {
          "base_uri": "https://localhost:8080/",
          "height": 419
        },
        "id": "rbvyRCQaNMLQ",
        "outputId": "08af0d1c-03b4-4103-cdff-7dbe32820a72"
      },
      "source": [
        "new_train_df"
      ],
      "execution_count": 14,
      "outputs": [
        {
          "output_type": "execute_result",
          "data": {
            "text/html": [
              "<div>\n",
              "<style scoped>\n",
              "    .dataframe tbody tr th:only-of-type {\n",
              "        vertical-align: middle;\n",
              "    }\n",
              "\n",
              "    .dataframe tbody tr th {\n",
              "        vertical-align: top;\n",
              "    }\n",
              "\n",
              "    .dataframe thead th {\n",
              "        text-align: right;\n",
              "    }\n",
              "</style>\n",
              "<table border=\"1\" class=\"dataframe\">\n",
              "  <thead>\n",
              "    <tr style=\"text-align: right;\">\n",
              "      <th></th>\n",
              "      <th>text</th>\n",
              "      <th>list</th>\n",
              "    </tr>\n",
              "  </thead>\n",
              "  <tbody>\n",
              "    <tr>\n",
              "      <th>0</th>\n",
              "      <td>раздавила себе сосок постоянно бежит молоко | ...</td>\n",
              "      <td>[0, 0, 0, 0, 1, 0, 0, 0, 0, 0, 0]</td>\n",
              "    </tr>\n",
              "    <tr>\n",
              "      <th>1</th>\n",
              "      <td>промеж четвертей вымени появились бугорки гной...</td>\n",
              "      <td>[0, 0, 0, 0, 0, 0, 0, 0, 1, 1, 1]</td>\n",
              "    </tr>\n",
              "    <tr>\n",
              "      <th>2</th>\n",
              "      <td>Молоко течёт слабые соски молоко бежит Молоко ...</td>\n",
              "      <td>[0, 0, 0, 0, 1, 0, 1, 0, 0, 0, 0]</td>\n",
              "    </tr>\n",
              "    <tr>\n",
              "      <th>3</th>\n",
              "      <td>болячки на вымени вымя покрылось маленькими бо...</td>\n",
              "      <td>[0, 0, 0, 0, 0, 0, 0, 0, 1, 1, 1]</td>\n",
              "    </tr>\n",
              "    <tr>\n",
              "      <th>4</th>\n",
              "      <td>сосок как будто пустой | У меня первотелка, на...</td>\n",
              "      <td>[0, 0, 0, 0, 1, 0, 0, 0, 0, 0, 0]</td>\n",
              "    </tr>\n",
              "    <tr>\n",
              "      <th>...</th>\n",
              "      <td>...</td>\n",
              "      <td>...</td>\n",
              "    </tr>\n",
              "    <tr>\n",
              "      <th>289</th>\n",
              "      <td>идет пена изо рта грызет кормушку не жевала \"ж...</td>\n",
              "      <td>[0, 0, 0, 0, 0, 1, 0, 0, 0, 0, 1]</td>\n",
              "    </tr>\n",
              "    <tr>\n",
              "      <th>290</th>\n",
              "      <td>понос с кровью понос с кровью | Чем лечить пон...</td>\n",
              "      <td>[1, 0, 0, 0, 0, 0, 0, 0, 0, 0, 1]</td>\n",
              "    </tr>\n",
              "    <tr>\n",
              "      <th>291</th>\n",
              "      <td>больного легкого воспаленное | Здравствуйте!\\n...</td>\n",
              "      <td>[0, 0, 0, 0, 0, 1, 0, 0, 0, 0, 1]</td>\n",
              "    </tr>\n",
              "    <tr>\n",
              "      <th>292</th>\n",
              "      <td>отек | всем привет,корова сегодня отелилась от...</td>\n",
              "      <td>[0, 0, 0, 0, 0, 0, 1, 0, 0, 0, 0]</td>\n",
              "    </tr>\n",
              "    <tr>\n",
              "      <th>293</th>\n",
              "      <td>не ест не ест температура понос | Бычок не ест...</td>\n",
              "      <td>[1, 0, 0, 0, 0, 0, 0, 0, 0, 0, 1]</td>\n",
              "    </tr>\n",
              "  </tbody>\n",
              "</table>\n",
              "<p>294 rows × 2 columns</p>\n",
              "</div>"
            ],
            "text/plain": [
              "                                                  text                               list\n",
              "0    раздавила себе сосок постоянно бежит молоко | ...  [0, 0, 0, 0, 1, 0, 0, 0, 0, 0, 0]\n",
              "1    промеж четвертей вымени появились бугорки гной...  [0, 0, 0, 0, 0, 0, 0, 0, 1, 1, 1]\n",
              "2    Молоко течёт слабые соски молоко бежит Молоко ...  [0, 0, 0, 0, 1, 0, 1, 0, 0, 0, 0]\n",
              "3    болячки на вымени вымя покрылось маленькими бо...  [0, 0, 0, 0, 0, 0, 0, 0, 1, 1, 1]\n",
              "4    сосок как будто пустой | У меня первотелка, на...  [0, 0, 0, 0, 1, 0, 0, 0, 0, 0, 0]\n",
              "..                                                 ...                                ...\n",
              "289  идет пена изо рта грызет кормушку не жевала \"ж...  [0, 0, 0, 0, 0, 1, 0, 0, 0, 0, 1]\n",
              "290  понос с кровью понос с кровью | Чем лечить пон...  [1, 0, 0, 0, 0, 0, 0, 0, 0, 0, 1]\n",
              "291  больного легкого воспаленное | Здравствуйте!\\n...  [0, 0, 0, 0, 0, 1, 0, 0, 0, 0, 1]\n",
              "292  отек | всем привет,корова сегодня отелилась от...  [0, 0, 0, 0, 0, 0, 1, 0, 0, 0, 0]\n",
              "293  не ест не ест температура понос | Бычок не ест...  [1, 0, 0, 0, 0, 0, 0, 0, 0, 0, 1]\n",
              "\n",
              "[294 rows x 2 columns]"
            ]
          },
          "metadata": {},
          "execution_count": 14
        }
      ]
    },
    {
      "cell_type": "code",
      "metadata": {
        "id": "ikfbFlNHgi8T"
      },
      "source": [
        "model_checkpoint = \"cointegrated/rubert-tiny2\"\n",
        "tokenizer = AutoTokenizer.from_pretrained(model_checkpoint)"
      ],
      "execution_count": 15,
      "outputs": []
    },
    {
      "cell_type": "code",
      "metadata": {
        "id": "P5HxQYndIK1_"
      },
      "source": [
        "MAX_LEN = 1024\n",
        "TRAIN_BATCH_SIZE = 8\n",
        "VALID_BATCH_SIZE = 4"
      ],
      "execution_count": 16,
      "outputs": []
    },
    {
      "cell_type": "code",
      "metadata": {
        "id": "oFOylAXqiNYK"
      },
      "source": [
        "class CustomDataset(Dataset):\n",
        "\n",
        "    def __init__(self, dataframe, tokenizer, max_len):\n",
        "        self.tokenizer = tokenizer\n",
        "        self.data = dataframe\n",
        "        self.text = dataframe.text\n",
        "        self.targets = self.data.list\n",
        "        self.max_len = max_len\n",
        "\n",
        "    def __len__(self):\n",
        "        return len(self.text)\n",
        "\n",
        "    def __getitem__(self, index):\n",
        "        text = str(self.text[index])\n",
        "        text = \" \".join(text.split())\n",
        "        \n",
        "        \n",
        "        inputs = self.tokenizer.encode_plus(\n",
        "            text,\n",
        "            None,\n",
        "            add_special_tokens=True,\n",
        "            max_length=MAX_LEN,\n",
        "            pad_to_max_length=True,\n",
        "            truncation=True,\n",
        "            return_token_type_ids=True\n",
        "        )\n",
        "        ids = inputs['input_ids']\n",
        "        mask = inputs['attention_mask']\n",
        "        token_type_ids = inputs[\"token_type_ids\"]\n",
        "\n",
        "\n",
        "        return {\n",
        "            'ids': torch.tensor(ids, dtype=torch.long),\n",
        "            'mask': torch.tensor(mask, dtype=torch.long),\n",
        "            'token_type_ids': torch.tensor(token_type_ids, dtype=torch.long),\n",
        "            'targets': torch.tensor(self.targets[index], dtype=torch.float)\n",
        "        }"
      ],
      "execution_count": 17,
      "outputs": []
    },
    {
      "cell_type": "code",
      "metadata": {
        "colab": {
          "base_uri": "https://localhost:8080/"
        },
        "id": "PkDGqarcPowL",
        "scrolled": true,
        "outputId": "81b36252-d7c0-4559-c997-9ad1ae825224"
      },
      "source": [
        "train_size = 0.8\n",
        "train_dataset = new_train_df.sample(frac=train_size, random_state=200)\n",
        "\n",
        "valid_dataset = new_train_df.drop(train_dataset.index).reset_index(drop=True)\n",
        "\n",
        "train_dataset = train_dataset.reset_index(drop=True)\n",
        "\n",
        "\n",
        "print(\"FULL Dataset: {}\".format(new_train_df.shape))\n",
        "print(\"TRAIN Dataset: {}\".format(train_dataset.shape))\n",
        "print(\"VALID Dataset: {}\".format(valid_dataset.shape))\n",
        "\n",
        "training_set = CustomDataset(train_dataset, tokenizer, None)\n",
        "validating_set = CustomDataset(valid_dataset, tokenizer, None)"
      ],
      "execution_count": 18,
      "outputs": [
        {
          "output_type": "stream",
          "name": "stdout",
          "text": [
            "FULL Dataset: (294, 2)\n",
            "TRAIN Dataset: (235, 2)\n",
            "VALID Dataset: (59, 2)\n"
          ]
        }
      ]
    },
    {
      "cell_type": "code",
      "metadata": {
        "colab": {
          "base_uri": "https://localhost:8080/"
        },
        "id": "ZiJsGdz3agx8",
        "outputId": "38fcbca0-2d51-4e6d-bd86-c6911f498333"
      },
      "source": [
        "def seed_worker(worker_id):\n",
        "    worker_seed = torch.initial_seed() % 2**32\n",
        "\n",
        "g = torch.Generator()\n",
        "g.manual_seed(SEED)"
      ],
      "execution_count": 19,
      "outputs": [
        {
          "output_type": "execute_result",
          "data": {
            "text/plain": [
              "<torch._C.Generator at 0x7f79d54d0d90>"
            ]
          },
          "metadata": {},
          "execution_count": 19
        }
      ]
    },
    {
      "cell_type": "code",
      "metadata": {
        "id": "MY2Xx5T0BJ2O"
      },
      "source": [
        "train_params = {'batch_size': TRAIN_BATCH_SIZE,\n",
        "                'shuffle': True,\n",
        "                'num_workers': 0,\n",
        "                'worker_init_fn' : seed_worker,\n",
        "                'generator': g\n",
        "                }\n",
        "\n",
        "valid_params = {'batch_size': VALID_BATCH_SIZE,\n",
        "                'shuffle': True,\n",
        "                'num_workers': 0,\n",
        "                'worker_init_fn' : seed_worker,\n",
        "                'generator': g\n",
        "                }\n",
        "\n",
        "training_loader = DataLoader(training_set, **train_params)\n",
        "if train_size != 1:\n",
        "  validating_loader = DataLoader(validating_set, **valid_params)"
      ],
      "execution_count": 20,
      "outputs": []
    },
    {
      "cell_type": "code",
      "metadata": {
        "id": "eLMbpQCDBHz3"
      },
      "source": [
        "from lsep_loss import LSEPLoss\n",
        "def lsep_fn(outputs, targets):\n",
        "    return LSEPLoss()(outputs, targets)\n",
        "\n",
        "def loss_fn(outputs, targets):\n",
        "    return torch.nn.MultiLabelSoftMarginLoss()(outputs, targets)\n",
        "\n",
        "def bce_fn(outputs, targets):\n",
        "    return torch.nn.BCEWithLogitsLoss()(outputs, targets)"
      ],
      "execution_count": 21,
      "outputs": []
    },
    {
      "cell_type": "code",
      "metadata": {
        "id": "gUD8j0c7WsA-",
        "colab": {
          "base_uri": "https://localhost:8080/"
        },
        "outputId": "b1d19e19-ab96-423f-fe58-0f3d0bf3d35c"
      },
      "source": [
        "LR = 0.0001\n",
        "EPOCH = 16\n",
        "\n",
        "model = AutoModelForSequenceClassification.from_pretrained(model_checkpoint, num_labels=11, output_attentions=True)\n",
        "model.to(device);\n",
        "\n",
        "optimizer = torch.optim.Adam(params=model.parameters(), lr=LR)"
      ],
      "execution_count": 22,
      "outputs": [
        {
          "output_type": "stream",
          "name": "stderr",
          "text": [
            "Some weights of the model checkpoint at cointegrated/rubert-tiny2 were not used when initializing BertForSequenceClassification: ['cls.predictions.transform.LayerNorm.weight', 'cls.predictions.bias', 'cls.predictions.decoder.weight', 'cls.predictions.transform.dense.weight', 'cls.predictions.transform.dense.bias', 'cls.seq_relationship.bias', 'cls.seq_relationship.weight', 'cls.predictions.decoder.bias', 'cls.predictions.transform.LayerNorm.bias']\n",
            "- This IS expected if you are initializing BertForSequenceClassification from the checkpoint of a model trained on another task or with another architecture (e.g. initializing a BertForSequenceClassification model from a BertForPreTraining model).\n",
            "- This IS NOT expected if you are initializing BertForSequenceClassification from the checkpoint of a model that you expect to be exactly identical (initializing a BertForSequenceClassification model from a BertForSequenceClassification model).\n",
            "Some weights of BertForSequenceClassification were not initialized from the model checkpoint at cointegrated/rubert-tiny2 and are newly initialized: ['classifier.bias', 'classifier.weight']\n",
            "You should probably TRAIN this model on a down-stream task to be able to use it for predictions and inference.\n"
          ]
        }
      ]
    },
    {
      "cell_type": "code",
      "metadata": {
        "id": "B9_DjWmfWx1q"
      },
      "source": [
        "def train(epoch):\n",
        "\n",
        "    for ep in range(1, epoch+1):\n",
        "        model.train()\n",
        "        for _, data in enumerate(training_loader, 0):\n",
        "            ids = data['ids'].to(device, dtype = torch.long)\n",
        "            mask = data['mask'].to(device, dtype = torch.long)\n",
        "\n",
        "            token_type_ids = data['token_type_ids'].to(device, dtype = torch.long)\n",
        "            targets = data['targets'].to(device, dtype = torch.float)\n",
        "\n",
        "            outputs = model(ids, mask, token_type_ids)['logits']\n",
        "            \n",
        "            loss = lsep_fn(outputs, targets)\n",
        "\n",
        "            optimizer.zero_grad()\n",
        "            loss.backward()\n",
        "            optimizer.step()\n",
        "            \n",
        "            # if _ % 5000 == 0:\n",
        "            #     print(f'Epoch: {ep}, Loss:  {loss.item()}')\n",
        "\n",
        "        # model.eval()\n",
        "        # val_outputs = []\n",
        "        # val_targets = []\n",
        "        # for _, data in enumerate(validating_loader, 0):\n",
        "        #     ids = data['ids'].to(device, dtype = torch.long)\n",
        "        #     mask = data['mask'].to(device, dtype = torch.long)\n",
        "            \n",
        "        #     token_type_ids = data['token_type_ids'].to(device, dtype = torch.long)\n",
        "        #     targets = data['targets'].to(device, dtype = torch.float)\n",
        "\n",
        "        #     outputs = model(ids, mask, token_type_ids)['logits']\n",
        "\n",
        "        #     val_outputs.extend(torch.sigmoid(outputs).cpu().detach().numpy().tolist())\n",
        "        #     val_targets.extend(targets.cpu().detach().numpy().tolist())\n",
        "\n",
        "        \n",
        "        # val_outputs = np.array(val_outputs)\n",
        "        # lg = log_loss_score(val_targets, val_outputs)\n",
        "        # lg = (1 - lg) * 0.8\n",
        "\n",
        "        print(f'Epoch: {ep}, Loss:  {loss.item()}, Vall score: {0}')"
      ],
      "execution_count": 23,
      "outputs": []
    },
    {
      "cell_type": "code",
      "metadata": {
        "id": "nIEoUm4aQkyl"
      },
      "source": [
        "def log_loss_score(gt, pr):\n",
        "    \n",
        "    log_loss_ = 0\n",
        "    \n",
        "    gt = np.array(gt)\n",
        "    \n",
        "    for i in range(10):\n",
        "        log_loss_ += log_loss(gt[:, i], pr[:, i])\n",
        "        \n",
        "    return log_loss_ / 10\n",
        "\n",
        "    \n",
        "def validation():\n",
        "    model.eval()\n",
        "\n",
        "    fin_targets=[]\n",
        "    fin_outputs=[]\n",
        "\n",
        "    with torch.no_grad():\n",
        "        for _, data in enumerate(validating_loader, 0):\n",
        "            ids = data['ids'].to(device, dtype = torch.long)\n",
        "            mask = data['mask'].to(device, dtype = torch.long)\n",
        "            \n",
        "            token_type_ids = data['token_type_ids'].to(device, dtype = torch.long)\n",
        "            targets = data['targets'].to(device, dtype = torch.float)\n",
        "\n",
        "            outputs = model(ids, mask, token_type_ids)['logits']\n",
        "\n",
        "            fin_targets.extend(targets.cpu().detach().numpy().tolist())\n",
        "            fin_outputs.extend(torch.sigmoid(outputs).cpu().detach().numpy().tolist())\n",
        "            \n",
        "    return fin_outputs, fin_targets\n",
        "\n",
        "def get_val_metrics():\n",
        "    outputs, targets = validation()\n",
        "    outputs = np.array(outputs)\n",
        "    lg = log_loss_score(targets, outputs)\n",
        "\n",
        "    return (1 - lg) * 0.8"
      ],
      "execution_count": 24,
      "outputs": []
    },
    {
      "cell_type": "code",
      "metadata": {
        "colab": {
          "base_uri": "https://localhost:8080/"
        },
        "collapsed": true,
        "id": "D4Yl7gXHYSRU",
        "outputId": "6d9d6fa6-56b6-437a-c372-c59e7ea62800"
      },
      "source": [
        "train(EPOCH)"
      ],
      "execution_count": 25,
      "outputs": [
        {
          "output_type": "stream",
          "name": "stdout",
          "text": [
            "Epoch: 1, Loss:  3.505958318710327, Vall score: 0\n",
            "Epoch: 2, Loss:  3.4137165546417236, Vall score: 0\n",
            "Epoch: 3, Loss:  2.9618632793426514, Vall score: 0\n",
            "Epoch: 4, Loss:  2.337578535079956, Vall score: 0\n",
            "Epoch: 5, Loss:  2.162370204925537, Vall score: 0\n",
            "Epoch: 6, Loss:  1.5971345901489258, Vall score: 0\n",
            "Epoch: 7, Loss:  2.1508734226226807, Vall score: 0\n",
            "Epoch: 8, Loss:  1.2317945957183838, Vall score: 0\n",
            "Epoch: 9, Loss:  0.8949859142303467, Vall score: 0\n",
            "Epoch: 10, Loss:  0.5747622847557068, Vall score: 0\n",
            "Epoch: 11, Loss:  0.32104602456092834, Vall score: 0\n",
            "Epoch: 12, Loss:  0.8705640435218811, Vall score: 0\n",
            "Epoch: 13, Loss:  0.9996170401573181, Vall score: 0\n",
            "Epoch: 14, Loss:  0.10596033930778503, Vall score: 0\n",
            "Epoch: 15, Loss:  0.3247112035751343, Vall score: 0\n",
            "Epoch: 16, Loss:  0.11999481171369553, Vall score: 0\n"
          ]
        }
      ]
    },
    {
      "cell_type": "code",
      "metadata": {
        "id": "Ov1_3R_pAcMo",
        "colab": {
          "base_uri": "https://localhost:8080/"
        },
        "outputId": "b2be6cca-36b2-4860-ecb1-e510e936a436"
      },
      "source": [
        "if train_size != 1:\n",
        "  outputs, targets = validation()\n",
        "  outputs = np.array(outputs)\n",
        "  lg = log_loss_score(targets, outputs)\n",
        "\n",
        "  print(f\"log_loss = {lg}\")\n",
        "  print(f\"log_score = {1 - lg}\")\n",
        "  print(f\"log_score * 0.8 = {(1 - lg) * 0.8}\")\n"
      ],
      "execution_count": 26,
      "outputs": [
        {
          "output_type": "stream",
          "name": "stdout",
          "text": [
            "log_loss = 0.20197671753985352\n",
            "log_score = 0.7980232824601465\n",
            "log_score * 0.8 = 0.6384186259681173\n"
          ]
        }
      ]
    },
    {
      "cell_type": "markdown",
      "metadata": {
        "id": "Jz-XRDTAAWRJ"
      },
      "source": [
        "# Submission\n"
      ]
    },
    {
      "cell_type": "code",
      "metadata": {
        "id": "b7spFEp3_8QG"
      },
      "source": [
        "!wget -q -O test.csv https://getfile.dokpub.com/yandex/get/https://disk.yandex.ru/d/Wo70d4_PAwujqA"
      ],
      "execution_count": 27,
      "outputs": []
    },
    {
      "cell_type": "code",
      "metadata": {
        "id": "fpakMZpH3Y3e"
      },
      "source": [
        "test = pd.read_csv('test.csv')\n",
        "test_spans = pd.read_json('test_df_with_spans20.json')"
      ],
      "execution_count": 29,
      "outputs": []
    },
    {
      "cell_type": "code",
      "metadata": {
        "id": "HQH4bMNuoSaB"
      },
      "source": [
        "test_dct = {'text_id':[], 'span_text':[]}\n",
        "\n",
        "for i in range(0, len(test_spans)):\n",
        "    data = test_spans.span[i]\n",
        "    id = test_spans.text_id[i]\n",
        "\n",
        "    spans_text = []\n",
        "    for span in data:\n",
        "        text = test_spans.text[i][span[0]:span[1]]\n",
        "        if text not in spans_text:\n",
        "            spans_text.append(text)\n",
        "\n",
        "    test_dct['span_text'].append(spans_text)\n",
        "    test_dct['text_id'].append(id)\n",
        "\n",
        "test_dct = pd.DataFrame(test_dct)"
      ],
      "execution_count": 30,
      "outputs": []
    },
    {
      "cell_type": "code",
      "metadata": {
        "id": "faCnlFLhIHVj",
        "colab": {
          "base_uri": "https://localhost:8080/",
          "height": 204
        },
        "outputId": "fd84b8d2-a206-4640-92a4-308cf49ccff1"
      },
      "source": [
        "test['list'] = test[test.columns[2:]].values.tolist()\n",
        "\n",
        "new_df_test = test[['text', 'list']].copy()\n",
        "new_df_test.head()"
      ],
      "execution_count": 31,
      "outputs": [
        {
          "output_type": "execute_result",
          "data": {
            "text/html": [
              "<div>\n",
              "<style scoped>\n",
              "    .dataframe tbody tr th:only-of-type {\n",
              "        vertical-align: middle;\n",
              "    }\n",
              "\n",
              "    .dataframe tbody tr th {\n",
              "        vertical-align: top;\n",
              "    }\n",
              "\n",
              "    .dataframe thead th {\n",
              "        text-align: right;\n",
              "    }\n",
              "</style>\n",
              "<table border=\"1\" class=\"dataframe\">\n",
              "  <thead>\n",
              "    <tr style=\"text-align: right;\">\n",
              "      <th></th>\n",
              "      <th>text</th>\n",
              "      <th>list</th>\n",
              "    </tr>\n",
              "  </thead>\n",
              "  <tbody>\n",
              "    <tr>\n",
              "      <th>0</th>\n",
              "      <td>Понос у месячных телят. Подскажите методы и сп...</td>\n",
              "      <td>[]</td>\n",
              "    </tr>\n",
              "    <tr>\n",
              "      <th>1</th>\n",
              "      <td>Понос у телят, чем лечить? \\nЧем можно вылечит...</td>\n",
              "      <td>[]</td>\n",
              "    </tr>\n",
              "    <tr>\n",
              "      <th>2</th>\n",
              "      <td>По какой причине у телёнка отнимаются ноги?\\nП...</td>\n",
              "      <td>[]</td>\n",
              "    </tr>\n",
              "    <tr>\n",
              "      <th>3</th>\n",
              "      <td>Срочно! Ребятки, помогите, корову что-то укуси...</td>\n",
              "      <td>[]</td>\n",
              "    </tr>\n",
              "    <tr>\n",
              "      <th>4</th>\n",
              "      <td>Сгустки у коровы.\\nЗдравствуйте, помогите пожа...</td>\n",
              "      <td>[]</td>\n",
              "    </tr>\n",
              "  </tbody>\n",
              "</table>\n",
              "</div>"
            ],
            "text/plain": [
              "                                                text list\n",
              "0  Понос у месячных телят. Подскажите методы и сп...   []\n",
              "1  Понос у телят, чем лечить? \\nЧем можно вылечит...   []\n",
              "2  По какой причине у телёнка отнимаются ноги?\\nП...   []\n",
              "3  Срочно! Ребятки, помогите, корову что-то укуси...   []\n",
              "4  Сгустки у коровы.\\nЗдравствуйте, помогите пожа...   []"
            ]
          },
          "metadata": {},
          "execution_count": 31
        }
      ]
    },
    {
      "cell_type": "code",
      "metadata": {
        "id": "0HqmZaRDpnGc"
      },
      "source": [
        "for i in range(0, len(new_df_test)):\n",
        "    new_df_test['text'][i] = \" \".join(test_dct['span_text'][i]) +  \" | \" + new_df_test['text'][i]"
      ],
      "execution_count": 32,
      "outputs": []
    },
    {
      "cell_type": "code",
      "metadata": {
        "colab": {
          "base_uri": "https://localhost:8080/",
          "height": 419
        },
        "id": "X3AaFxy5rBbo",
        "outputId": "9e66a833-e8ea-4eb1-97ac-f17516be5804"
      },
      "source": [
        "new_df_test"
      ],
      "execution_count": 33,
      "outputs": [
        {
          "output_type": "execute_result",
          "data": {
            "text/html": [
              "<div>\n",
              "<style scoped>\n",
              "    .dataframe tbody tr th:only-of-type {\n",
              "        vertical-align: middle;\n",
              "    }\n",
              "\n",
              "    .dataframe tbody tr th {\n",
              "        vertical-align: top;\n",
              "    }\n",
              "\n",
              "    .dataframe thead th {\n",
              "        text-align: right;\n",
              "    }\n",
              "</style>\n",
              "<table border=\"1\" class=\"dataframe\">\n",
              "  <thead>\n",
              "    <tr style=\"text-align: right;\">\n",
              "      <th></th>\n",
              "      <th>text</th>\n",
              "      <th>list</th>\n",
              "    </tr>\n",
              "  </thead>\n",
              "  <tbody>\n",
              "    <tr>\n",
              "      <th>0</th>\n",
              "      <td>Понос | Понос у месячных телят. Подскажите мет...</td>\n",
              "      <td>[]</td>\n",
              "    </tr>\n",
              "    <tr>\n",
              "      <th>1</th>\n",
              "      <td>Понос понос понос с жидкий стул поносить плохо...</td>\n",
              "      <td>[]</td>\n",
              "    </tr>\n",
              "    <tr>\n",
              "      <th>2</th>\n",
              "      <td>отнимаются ноги отнимаются аппетит есть не пон...</td>\n",
              "      <td>[]</td>\n",
              "    </tr>\n",
              "    <tr>\n",
              "      <th>3</th>\n",
              "      <td>укусило недомогание вялость | Срочно! Ребятки,...</td>\n",
              "      <td>[]</td>\n",
              "    </tr>\n",
              "    <tr>\n",
              "      <th>4</th>\n",
              "      <td>Сгустки сгустки крови | Сгустки у коровы.\\nЗдр...</td>\n",
              "      <td>[]</td>\n",
              "    </tr>\n",
              "    <tr>\n",
              "      <th>...</th>\n",
              "      <td>...</td>\n",
              "      <td>...</td>\n",
              "    </tr>\n",
              "    <tr>\n",
              "      <th>94</th>\n",
              "      <td>поносит | Большой бык уже неделю поносит, чем ...</td>\n",
              "      <td>[]</td>\n",
              "    </tr>\n",
              "    <tr>\n",
              "      <th>95</th>\n",
              "      <td>дерти запоносила | Как запустить желудок у кор...</td>\n",
              "      <td>[]</td>\n",
              "    </tr>\n",
              "    <tr>\n",
              "      <th>96</th>\n",
              "      <td>пропоносился какойто прозрачной слизью | Здрав...</td>\n",
              "      <td>[]</td>\n",
              "    </tr>\n",
              "    <tr>\n",
              "      <th>97</th>\n",
              "      <td>отошел вымя уплотнения вымени | После отела у ...</td>\n",
              "      <td>[]</td>\n",
              "    </tr>\n",
              "    <tr>\n",
              "      <th>98</th>\n",
              "      <td>понос | Здравствуйте. Чем лечить понос у телён...</td>\n",
              "      <td>[]</td>\n",
              "    </tr>\n",
              "  </tbody>\n",
              "</table>\n",
              "<p>99 rows × 2 columns</p>\n",
              "</div>"
            ],
            "text/plain": [
              "                                                 text list\n",
              "0   Понос | Понос у месячных телят. Подскажите мет...   []\n",
              "1   Понос понос понос с жидкий стул поносить плохо...   []\n",
              "2   отнимаются ноги отнимаются аппетит есть не пон...   []\n",
              "3   укусило недомогание вялость | Срочно! Ребятки,...   []\n",
              "4   Сгустки сгустки крови | Сгустки у коровы.\\nЗдр...   []\n",
              "..                                                ...  ...\n",
              "94  поносит | Большой бык уже неделю поносит, чем ...   []\n",
              "95  дерти запоносила | Как запустить желудок у кор...   []\n",
              "96  пропоносился какойто прозрачной слизью | Здрав...   []\n",
              "97  отошел вымя уплотнения вымени | После отела у ...   []\n",
              "98  понос | Здравствуйте. Чем лечить понос у телён...   []\n",
              "\n",
              "[99 rows x 2 columns]"
            ]
          },
          "metadata": {},
          "execution_count": 33
        }
      ]
    },
    {
      "cell_type": "code",
      "metadata": {
        "id": "oUIZoS3nH01z",
        "colab": {
          "base_uri": "https://localhost:8080/"
        },
        "outputId": "cda1220a-917f-41d5-f9b7-ed14f26c1878"
      },
      "source": [
        "test_dataset = new_df_test.reset_index(drop=True)\n",
        "\n",
        "print(\"TEST Dataset: {}\".format(test_dataset.shape))\n",
        "\n",
        "testing_set = CustomDataset(test_dataset, tokenizer, None)"
      ],
      "execution_count": 34,
      "outputs": [
        {
          "output_type": "stream",
          "name": "stdout",
          "text": [
            "TEST Dataset: (99, 2)\n"
          ]
        }
      ]
    },
    {
      "cell_type": "code",
      "metadata": {
        "id": "3FjgHvl8IuIJ"
      },
      "source": [
        "test_params = {'batch_size': 4,\n",
        "                'shuffle': False,\n",
        "                'num_workers': 0,\n",
        "                'worker_init_fn' : seed_worker,\n",
        "                'generator': g\n",
        "                }\n",
        "\n",
        "testing_loader = DataLoader(testing_set, **test_params)"
      ],
      "execution_count": 35,
      "outputs": []
    },
    {
      "cell_type": "code",
      "metadata": {
        "id": "vnXrvmM3I20r"
      },
      "source": [
        "model.eval()\n",
        "prediction = []\n",
        "\n",
        "with torch.no_grad():\n",
        "    for _, data in enumerate(testing_loader, 0):\n",
        "        ids = data['ids'].to(device, dtype = torch.long)\n",
        "        mask = data['mask'].to(device, dtype = torch.long)\n",
        "\n",
        "        token_type_ids = data['token_type_ids'].to(device, dtype = torch.long)\n",
        "        targets = data['targets'].to(device, dtype = torch.float)\n",
        "\n",
        "        outputs = model(ids, mask, token_type_ids)['logits']\n",
        "\n",
        "        prediction.extend(torch.sigmoid(outputs).cpu().detach().numpy().tolist())"
      ],
      "execution_count": 36,
      "outputs": []
    },
    {
      "cell_type": "code",
      "metadata": {
        "id": "6ZVLzS2kHlD0"
      },
      "source": [
        "submission_columns = ['text_id'] + list(train_df.columns[2:-2])\n",
        "submission = pd.concat([test['text_id'], pd.DataFrame(np.array(prediction)[:, :10])], axis=1)\n",
        "submission.columns = submission_columns"
      ],
      "execution_count": 37,
      "outputs": []
    },
    {
      "cell_type": "code",
      "metadata": {
        "id": "T6M7mJM4KA1N"
      },
      "source": [
        "# submission_json = {str(k): {\"span\": find_spans(test[test.text_id == k].text.item()), \"label\": list(v.values())} \\\n",
        "#                    for k,v in submission.set_index('text_id').to_dict('index').items()}\n",
        "\n",
        "submission_json = {str(k): {\"span\": test_spans[test_spans.text_id == k].span.item(), \"label\": list(v.values())} \\\n",
        "                   for k,v in submission.set_index('text_id').to_dict('index').items()}"
      ],
      "execution_count": 38,
      "outputs": []
    },
    {
      "cell_type": "code",
      "metadata": {
        "id": "tn0vjF03KFk8"
      },
      "source": [
        "import json\n",
        "with open('submisson_test_spans21.json', 'w') as final_submit:\n",
        "    json.dump(submission_json, final_submit, indent=4)"
      ],
      "execution_count": 39,
      "outputs": []
    },
    {
      "cell_type": "code",
      "metadata": {
        "colab": {
          "base_uri": "https://localhost:8080/"
        },
        "id": "-yysblhZ4DqI",
        "outputId": "7601da27-6a36-4dea-8195-c2ed510ee8a3"
      },
      "source": [
        "model.save_pretrained('clf_bert21/')\n",
        "tokenizer.save_pretrained('clf_bert21/')"
      ],
      "execution_count": 40,
      "outputs": [
        {
          "output_type": "execute_result",
          "data": {
            "text/plain": [
              "('clf_bert21/tokenizer_config.json',\n",
              " 'clf_bert21/special_tokens_map.json',\n",
              " 'clf_bert21/vocab.txt',\n",
              " 'clf_bert21/added_tokens.json',\n",
              " 'clf_bert21/tokenizer.json')"
            ]
          },
          "metadata": {},
          "execution_count": 40
        }
      ]
    },
    {
      "cell_type": "code",
      "metadata": {
        "id": "JfAUJEKR2q2U",
        "colab": {
          "base_uri": "https://localhost:8080/"
        },
        "outputId": "782219b1-a56a-4b26-e974-7e5334a504ef"
      },
      "source": [
        "!zip -r /content/clf_bert21.zip /content/clf_bert21"
      ],
      "execution_count": 41,
      "outputs": [
        {
          "output_type": "stream",
          "name": "stdout",
          "text": [
            "  adding: content/clf_bert21/ (stored 0%)\n",
            "  adding: content/clf_bert21/vocab.txt (deflated 64%)\n",
            "  adding: content/clf_bert21/config.json (deflated 57%)\n",
            "  adding: content/clf_bert21/tokenizer.json (deflated 65%)\n",
            "  adding: content/clf_bert21/pytorch_model.bin (deflated 8%)\n",
            "  adding: content/clf_bert21/special_tokens_map.json (deflated 40%)\n",
            "  adding: content/clf_bert21/tokenizer_config.json (deflated 42%)\n"
          ]
        }
      ]
    },
    {
      "cell_type": "code",
      "metadata": {
        "id": "OHjldbr83K8w"
      },
      "source": [
        "from google.colab import files\n",
        "files.download(\"/content/clf_bert20.zip\")"
      ],
      "execution_count": null,
      "outputs": []
    },
    {
      "cell_type": "code",
      "metadata": {
        "id": "piigh0rgtApx"
      },
      "source": [
        ""
      ],
      "execution_count": null,
      "outputs": []
    }
  ]
}