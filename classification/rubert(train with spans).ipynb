{
  "nbformat": 4,
  "nbformat_minor": 0,
  "metadata": {
    "accelerator": "GPU",
    "colab": {
      "name": "Copy of rubert-tiny2(main 6.11)",
      "provenance": [],
      "collapsed_sections": []
    },
    "kernelspec": {
      "display_name": "Python 3",
      "language": "python",
      "name": "python3"
    },
    "language_info": {
      "codemirror_mode": {
        "name": "ipython",
        "version": 3
      },
      "file_extension": ".py",
      "mimetype": "text/x-python",
      "name": "python",
      "nbconvert_exporter": "python",
      "pygments_lexer": "ipython3",
      "version": "3.8.8"
    }
  },
  "cells": [
    {
      "cell_type": "code",
      "metadata": {
        "id": "hSLaomFHUj4W",
        "colab": {
          "base_uri": "https://localhost:8080/"
        },
        "outputId": "ad923700-ee77-4ba9-8ee4-df30bf72f33b"
      },
      "source": [
        "!pip install -q transformers"
      ],
      "execution_count": 1,
      "outputs": [
        {
          "output_type": "stream",
          "name": "stdout",
          "text": [
            "\u001b[K     |████████████████████████████████| 3.1 MB 12.6 MB/s \n",
            "\u001b[K     |████████████████████████████████| 3.3 MB 16.1 MB/s \n",
            "\u001b[K     |████████████████████████████████| 596 kB 38.1 MB/s \n",
            "\u001b[K     |████████████████████████████████| 59 kB 6.3 MB/s \n",
            "\u001b[K     |████████████████████████████████| 895 kB 39.2 MB/s \n",
            "\u001b[?25h"
          ]
        }
      ]
    },
    {
      "cell_type": "code",
      "metadata": {
        "id": "pzM1_ykHaFur"
      },
      "source": [
        "import numpy as np\n",
        "import pandas as pd\n",
        "\n",
        "from sklearn import metrics\n",
        "from sklearn.metrics import log_loss\n",
        "\n",
        "import transformers\n",
        "from transformers import AutoTokenizer, AutoModelForSequenceClassification\n",
        "from transformers import set_seed\n",
        "\n",
        "import torch\n",
        "import torch.nn as nn\n",
        "import torch.nn.functional as F\n",
        "from torch.utils.data import Dataset, DataLoader, RandomSampler, SequentialSampler\n",
        "\n",
        "import os\n",
        "import random\n",
        "import re\n",
        "\n",
        "import warnings\n",
        "warnings.filterwarnings('ignore')"
      ],
      "execution_count": 2,
      "outputs": []
    },
    {
      "cell_type": "code",
      "metadata": {
        "id": "NLxxwd1scQNv"
      },
      "source": [
        "from torch import cuda\n",
        "device = 'cuda' if cuda.is_available() else 'cpu'"
      ],
      "execution_count": 3,
      "outputs": []
    },
    {
      "cell_type": "code",
      "metadata": {
        "id": "33QH8LQW8AGo"
      },
      "source": [
        "%load_ext autoreload\n",
        "%autoreload 2"
      ],
      "execution_count": 4,
      "outputs": []
    },
    {
      "cell_type": "code",
      "metadata": {
        "id": "jEmjlJj3ZGme"
      },
      "source": [
        "def seed_everything(seed: int):\n",
        "    \"\"\"Seeds and fixes every possible random state.\"\"\"\n",
        "    random.seed(seed)\n",
        "    os.environ['PYTHONHASHSEED'] = str(seed)\n",
        "    np.random.seed(seed)\n",
        "    torch.manual_seed(seed)\n",
        "    torch.cuda.manual_seed(seed)\n",
        "    torch.backends.cudnn.deterministic = True\n",
        "    set_seed(seed)\n",
        "\n",
        "\n",
        "SEED = 3407\n",
        "seed_everything(SEED)"
      ],
      "execution_count": 5,
      "outputs": []
    },
    {
      "cell_type": "code",
      "metadata": {
        "colab": {
          "base_uri": "https://localhost:8080/"
        },
        "id": "DXul2nyXFW0P",
        "outputId": "88eafffa-8a07-427b-f3d0-bc3c72bbcc8f"
      },
      "source": [
        "!nvidia-smi"
      ],
      "execution_count": 6,
      "outputs": [
        {
          "output_type": "stream",
          "name": "stdout",
          "text": [
            "Sat Nov  6 13:36:29 2021       \n",
            "+-----------------------------------------------------------------------------+\n",
            "| NVIDIA-SMI 495.44       Driver Version: 460.32.03    CUDA Version: 11.2     |\n",
            "|-------------------------------+----------------------+----------------------+\n",
            "| GPU  Name        Persistence-M| Bus-Id        Disp.A | Volatile Uncorr. ECC |\n",
            "| Fan  Temp  Perf  Pwr:Usage/Cap|         Memory-Usage | GPU-Util  Compute M. |\n",
            "|                               |                      |               MIG M. |\n",
            "|===============================+======================+======================|\n",
            "|   0  Tesla K80           Off  | 00000000:00:04.0 Off |                    0 |\n",
            "| N/A   47C    P8    32W / 149W |      3MiB / 11441MiB |      0%      Default |\n",
            "|                               |                      |                  N/A |\n",
            "+-------------------------------+----------------------+----------------------+\n",
            "                                                                               \n",
            "+-----------------------------------------------------------------------------+\n",
            "| Processes:                                                                  |\n",
            "|  GPU   GI   CI        PID   Type   Process name                  GPU Memory |\n",
            "|        ID   ID                                                   Usage      |\n",
            "|=============================================================================|\n",
            "|  No running processes found                                                 |\n",
            "+-----------------------------------------------------------------------------+\n"
          ]
        }
      ]
    },
    {
      "cell_type": "markdown",
      "metadata": {
        "id": "2C3QomVw_7jE"
      },
      "source": [
        "# Training & Validating"
      ]
    },
    {
      "cell_type": "code",
      "metadata": {
        "id": "Kw9h9j7uVNA9"
      },
      "source": [
        "!wget -q -O train.csv https://getfile.dokpub.com/yandex/get/https://disk.yandex.ru/d/fmWGQJvwU5ejog"
      ],
      "execution_count": 7,
      "outputs": []
    },
    {
      "cell_type": "code",
      "metadata": {
        "colab": {
          "base_uri": "https://localhost:8080/",
          "height": 204
        },
        "id": "mZ7lTlkyaG7u",
        "outputId": "d4af0c9f-d3fb-4663-8ab1-7c186926b565"
      },
      "source": [
        "train_df = pd.read_csv(\"train.csv\")\n",
        "train_df['list'] = train_df[train_df.columns[2:]].values.tolist()\n",
        "\n",
        "new_train_df = train_df[['text', 'list']].copy()\n",
        "new_train_df.head()"
      ],
      "execution_count": 135,
      "outputs": [
        {
          "output_type": "execute_result",
          "data": {
            "text/html": [
              "<div>\n",
              "<style scoped>\n",
              "    .dataframe tbody tr th:only-of-type {\n",
              "        vertical-align: middle;\n",
              "    }\n",
              "\n",
              "    .dataframe tbody tr th {\n",
              "        vertical-align: top;\n",
              "    }\n",
              "\n",
              "    .dataframe thead th {\n",
              "        text-align: right;\n",
              "    }\n",
              "</style>\n",
              "<table border=\"1\" class=\"dataframe\">\n",
              "  <thead>\n",
              "    <tr style=\"text-align: right;\">\n",
              "      <th></th>\n",
              "      <th>text</th>\n",
              "      <th>list</th>\n",
              "    </tr>\n",
              "  </thead>\n",
              "  <tbody>\n",
              "    <tr>\n",
              "      <th>0</th>\n",
              "      <td>Корова, видимо вставая, раздавила себе сосок. ...</td>\n",
              "      <td>[0, 0, 0, 0, 1, 0, 0, 0, 0, 0, 0]</td>\n",
              "    </tr>\n",
              "    <tr>\n",
              "      <th>1</th>\n",
              "      <td>Корове 8 лет! Месяц назад промеж четвертей вым...</td>\n",
              "      <td>[0, 0, 0, 0, 0, 0, 0, 0, 1, 1, 1]</td>\n",
              "    </tr>\n",
              "    <tr>\n",
              "      <th>2</th>\n",
              "      <td>Молоко течёт само у коровы. Что делать, если у...</td>\n",
              "      <td>[0, 0, 0, 0, 1, 0, 1, 0, 0, 0, 0]</td>\n",
              "    </tr>\n",
              "    <tr>\n",
              "      <th>3</th>\n",
              "      <td>У нетели болячки на вымени.\\nЗдравствуйте. Нет...</td>\n",
              "      <td>[0, 0, 0, 0, 0, 0, 0, 0, 1, 1, 1]</td>\n",
              "    </tr>\n",
              "    <tr>\n",
              "      <th>4</th>\n",
              "      <td>У меня первотелка, на днях отёл, у неё левый п...</td>\n",
              "      <td>[0, 0, 0, 0, 1, 0, 0, 0, 0, 0, 0]</td>\n",
              "    </tr>\n",
              "  </tbody>\n",
              "</table>\n",
              "</div>"
            ],
            "text/plain": [
              "                                                text                               list\n",
              "0  Корова, видимо вставая, раздавила себе сосок. ...  [0, 0, 0, 0, 1, 0, 0, 0, 0, 0, 0]\n",
              "1  Корове 8 лет! Месяц назад промеж четвертей вым...  [0, 0, 0, 0, 0, 0, 0, 0, 1, 1, 1]\n",
              "2  Молоко течёт само у коровы. Что делать, если у...  [0, 0, 0, 0, 1, 0, 1, 0, 0, 0, 0]\n",
              "3  У нетели болячки на вымени.\\nЗдравствуйте. Нет...  [0, 0, 0, 0, 0, 0, 0, 0, 1, 1, 1]\n",
              "4  У меня первотелка, на днях отёл, у неё левый п...  [0, 0, 0, 0, 1, 0, 0, 0, 0, 0, 0]"
            ]
          },
          "metadata": {},
          "execution_count": 135
        }
      ]
    },
    {
      "cell_type": "code",
      "metadata": {
        "id": "MhX74sXMd9cs"
      },
      "source": [
        "!wget -q -O train_labels.json https://getfile.dokpub.com/yandex/get/https://disk.yandex.ru/d/0nJ2QTRb9-U7tA\n",
        "!wget -q -O labeled_train_by_hand.json https://getfile.dokpub.com/yandex/get/https://disk.yandex.ru/d/Oq154PAxDGeIFg"
      ],
      "execution_count": 9,
      "outputs": []
    },
    {
      "cell_type": "code",
      "metadata": {
        "id": "QbOKLVtkd9YL"
      },
      "source": [
        "train_labels = pd.read_json('train_labels.json').T\n",
        "labeled_by_hand_df = pd.read_json('labeled_train_by_hand.json')\n",
        "labeled_by_hand_df['id'] = labeled_by_hand_df['id'] - np.ones(len(labeled_by_hand_df['id']))\n",
        "labeled_by_hand_df['id'] = labeled_by_hand_df['id'].astype(int)"
      ],
      "execution_count": 10,
      "outputs": []
    },
    {
      "cell_type": "code",
      "metadata": {
        "id": "CJwq_w00fBlG"
      },
      "source": [
        "dct = {'text_id':[], 'span_text':[]}\n",
        "\n",
        "for i in range(0, len(labeled_by_hand_df)):\n",
        "    data = labeled_by_hand_df['annotations'][i][0]['result']\n",
        "    id = labeled_by_hand_df.id[i]\n",
        "\n",
        "    spans_text = []\n",
        "    for span in data:\n",
        "        spans_text.append(span['value']['text'])\n",
        "    dct['span_text'].append(spans_text)\n",
        "    dct['text_id'].append(id)\n",
        "\n",
        "\n",
        "for i in range(0, 30):\n",
        "    spans = train_labels.span[i]\n",
        "    spans_text = []\n",
        "    for span in spans:\n",
        "        spans_text.append(\n",
        "            train_df.text[i][span[0]:span[1]])\n",
        "    \n",
        "    dct['span_text'].append(spans_text)\n",
        "    dct['text_id'].append(i)"
      ],
      "execution_count": 52,
      "outputs": []
    },
    {
      "cell_type": "code",
      "metadata": {
        "id": "1Nn2ZdqgizYh"
      },
      "source": [
        "dct = pd.DataFrame(dct)"
      ],
      "execution_count": 64,
      "outputs": []
    },
    {
      "cell_type": "code",
      "metadata": {
        "id": "W3Q1YJvGd9Ux"
      },
      "source": [
        "for i in range(0, len(new_train_df)):\n",
        "    new_train_df['text'][i] = \" \".join(dct[dct['text_id'] == i]['span_text'].values[0]) +  \" | \" + new_train_df['text'][i]"
      ],
      "execution_count": 136,
      "outputs": []
    },
    {
      "cell_type": "code",
      "metadata": {
        "id": "ikfbFlNHgi8T"
      },
      "source": [
        "model_checkpoint = \"cointegrated/rubert-tiny2\"\n",
        "tokenizer = AutoTokenizer.from_pretrained(model_checkpoint)"
      ],
      "execution_count": 138,
      "outputs": []
    },
    {
      "cell_type": "code",
      "metadata": {
        "id": "P5HxQYndIK1_"
      },
      "source": [
        "MAX_LEN = 1024\n",
        "TRAIN_BATCH_SIZE = 8\n",
        "VALID_BATCH_SIZE = 4"
      ],
      "execution_count": 139,
      "outputs": []
    },
    {
      "cell_type": "code",
      "metadata": {
        "id": "oFOylAXqiNYK"
      },
      "source": [
        "class CustomDataset(Dataset):\n",
        "\n",
        "    def __init__(self, dataframe, tokenizer, max_len):\n",
        "        self.tokenizer = tokenizer\n",
        "        self.data = dataframe\n",
        "        self.text = dataframe.text\n",
        "        self.targets = self.data.list\n",
        "        self.max_len = max_len\n",
        "\n",
        "    def __len__(self):\n",
        "        return len(self.text)\n",
        "\n",
        "    def __getitem__(self, index):\n",
        "        text = str(self.text[index])\n",
        "        text = \" \".join(text.split())\n",
        "        \n",
        "        \n",
        "        inputs = self.tokenizer.encode_plus(\n",
        "            text,\n",
        "            None,\n",
        "            add_special_tokens=True,\n",
        "            max_length=MAX_LEN,\n",
        "            pad_to_max_length=True,\n",
        "            truncation=True,\n",
        "            return_token_type_ids=True\n",
        "        )\n",
        "        ids = inputs['input_ids']\n",
        "        mask = inputs['attention_mask']\n",
        "        token_type_ids = inputs[\"token_type_ids\"]\n",
        "\n",
        "\n",
        "        return {\n",
        "            'ids': torch.tensor(ids, dtype=torch.long),\n",
        "            'mask': torch.tensor(mask, dtype=torch.long),\n",
        "            'token_type_ids': torch.tensor(token_type_ids, dtype=torch.long),\n",
        "            'targets': torch.tensor(self.targets[index], dtype=torch.float)\n",
        "        }"
      ],
      "execution_count": 140,
      "outputs": []
    },
    {
      "cell_type": "code",
      "metadata": {
        "colab": {
          "base_uri": "https://localhost:8080/"
        },
        "id": "PkDGqarcPowL",
        "scrolled": true,
        "outputId": "c33c7021-7b68-401b-909d-3398b6f5e486"
      },
      "source": [
        "train_size = 0.8\n",
        "train_dataset = new_train_df.sample(frac=train_size, random_state=200)\n",
        "\n",
        "valid_dataset = new_train_df.drop(train_dataset.index).reset_index(drop=True)\n",
        "\n",
        "train_dataset = train_dataset.reset_index(drop=True)\n",
        "\n",
        "\n",
        "print(\"FULL Dataset: {}\".format(new_train_df.shape))\n",
        "print(\"TRAIN Dataset: {}\".format(train_dataset.shape))\n",
        "print(\"VALID Dataset: {}\".format(valid_dataset.shape))\n",
        "\n",
        "training_set = CustomDataset(train_dataset, tokenizer, None)\n",
        "validating_set = CustomDataset(valid_dataset, tokenizer, None)"
      ],
      "execution_count": 141,
      "outputs": [
        {
          "output_type": "stream",
          "name": "stdout",
          "text": [
            "FULL Dataset: (294, 2)\n",
            "TRAIN Dataset: (235, 2)\n",
            "VALID Dataset: (59, 2)\n"
          ]
        }
      ]
    },
    {
      "cell_type": "code",
      "metadata": {
        "colab": {
          "base_uri": "https://localhost:8080/"
        },
        "id": "ZiJsGdz3agx8",
        "outputId": "32b16101-3c03-41a0-8dc7-30fbfd13a815"
      },
      "source": [
        "def seed_worker(worker_id):\n",
        "    worker_seed = torch.initial_seed() % 2**32\n",
        "\n",
        "g = torch.Generator()\n",
        "g.manual_seed(SEED)"
      ],
      "execution_count": 142,
      "outputs": [
        {
          "output_type": "execute_result",
          "data": {
            "text/plain": [
              "<torch._C.Generator at 0x7f61d56a7bf0>"
            ]
          },
          "metadata": {},
          "execution_count": 142
        }
      ]
    },
    {
      "cell_type": "code",
      "metadata": {
        "id": "MY2Xx5T0BJ2O"
      },
      "source": [
        "train_params = {'batch_size': TRAIN_BATCH_SIZE,\n",
        "                'shuffle': True,\n",
        "                'num_workers': 0,\n",
        "                'worker_init_fn' : seed_worker,\n",
        "                'generator': g\n",
        "                }\n",
        "\n",
        "valid_params = {'batch_size': VALID_BATCH_SIZE,\n",
        "                'shuffle': True,\n",
        "                'num_workers': 0,\n",
        "                'worker_init_fn' : seed_worker,\n",
        "                'generator': g\n",
        "                }\n",
        "\n",
        "training_loader = DataLoader(training_set, **train_params)\n",
        "if train_size != 1:\n",
        "  validating_loader = DataLoader(validating_set, **valid_params)"
      ],
      "execution_count": 143,
      "outputs": []
    },
    {
      "cell_type": "code",
      "metadata": {
        "id": "eLMbpQCDBHz3"
      },
      "source": [
        "from lsep_loss import LSEPLoss\n",
        "def lsep_fn(outputs, targets):\n",
        "    return LSEPLoss()(outputs, targets)\n",
        "\n",
        "def loss_fn(outputs, targets):\n",
        "    return torch.nn.MultiLabelSoftMarginLoss()(outputs, targets)"
      ],
      "execution_count": 144,
      "outputs": []
    },
    {
      "cell_type": "code",
      "metadata": {
        "id": "gUD8j0c7WsA-",
        "colab": {
          "base_uri": "https://localhost:8080/"
        },
        "outputId": "cc84a183-7c2c-4e9d-dc9a-bde068b8fd84"
      },
      "source": [
        "LR = 0.0001\n",
        "EPOCH = 16\n",
        "\n",
        "model = AutoModelForSequenceClassification.from_pretrained(model_checkpoint, num_labels=11, output_attentions=True)\n",
        "model.to(device);\n",
        "\n",
        "optimizer = torch.optim.Adam(params=model.parameters(), lr=LR)"
      ],
      "execution_count": 145,
      "outputs": [
        {
          "output_type": "stream",
          "name": "stderr",
          "text": [
            "Some weights of the model checkpoint at cointegrated/rubert-tiny2 were not used when initializing BertForSequenceClassification: ['cls.predictions.transform.dense.weight', 'cls.predictions.transform.LayerNorm.weight', 'cls.predictions.transform.LayerNorm.bias', 'cls.predictions.transform.dense.bias', 'cls.predictions.decoder.weight', 'cls.seq_relationship.bias', 'cls.predictions.decoder.bias', 'cls.seq_relationship.weight', 'cls.predictions.bias']\n",
            "- This IS expected if you are initializing BertForSequenceClassification from the checkpoint of a model trained on another task or with another architecture (e.g. initializing a BertForSequenceClassification model from a BertForPreTraining model).\n",
            "- This IS NOT expected if you are initializing BertForSequenceClassification from the checkpoint of a model that you expect to be exactly identical (initializing a BertForSequenceClassification model from a BertForSequenceClassification model).\n",
            "Some weights of BertForSequenceClassification were not initialized from the model checkpoint at cointegrated/rubert-tiny2 and are newly initialized: ['classifier.bias', 'classifier.weight']\n",
            "You should probably TRAIN this model on a down-stream task to be able to use it for predictions and inference.\n"
          ]
        }
      ]
    },
    {
      "cell_type": "code",
      "metadata": {
        "id": "B9_DjWmfWx1q"
      },
      "source": [
        "def train(epoch):\n",
        "\n",
        "    for ep in range(1, epoch+1):\n",
        "        model.train()\n",
        "        for _, data in enumerate(training_loader, 0):\n",
        "            ids = data['ids'].to(device, dtype = torch.long)\n",
        "            mask = data['mask'].to(device, dtype = torch.long)\n",
        "\n",
        "            token_type_ids = data['token_type_ids'].to(device, dtype = torch.long)\n",
        "            targets = data['targets'].to(device, dtype = torch.float)\n",
        "\n",
        "            outputs = model(ids, mask, token_type_ids)['logits']\n",
        "            \n",
        "            loss = lsep_fn(outputs, targets)\n",
        "\n",
        "            optimizer.zero_grad()\n",
        "            loss.backward()\n",
        "            optimizer.step()\n",
        "            \n",
        "            # if _ % 5000 == 0:\n",
        "            #     print(f'Epoch: {ep}, Loss:  {loss.item()}')\n",
        "\n",
        "        # model.eval()\n",
        "        # val_outputs = []\n",
        "        # val_targets = []\n",
        "        # for _, data in enumerate(validating_loader, 0):\n",
        "        #     ids = data['ids'].to(device, dtype = torch.long)\n",
        "        #     mask = data['mask'].to(device, dtype = torch.long)\n",
        "            \n",
        "        #     token_type_ids = data['token_type_ids'].to(device, dtype = torch.long)\n",
        "        #     targets = data['targets'].to(device, dtype = torch.float)\n",
        "\n",
        "        #     outputs = model(ids, mask, token_type_ids)['logits']\n",
        "\n",
        "        #     val_outputs.extend(torch.sigmoid(outputs).cpu().detach().numpy().tolist())\n",
        "        #     val_targets.extend(targets.cpu().detach().numpy().tolist())\n",
        "\n",
        "        \n",
        "        # val_outputs = np.array(val_outputs)\n",
        "        # lg = log_loss_score(val_targets, val_outputs)\n",
        "        # lg = (1 - lg) * 0.8\n",
        "\n",
        "        print(f'Epoch: {ep}, Loss:  {loss.item()}, Vall score: {0}')"
      ],
      "execution_count": 146,
      "outputs": []
    },
    {
      "cell_type": "code",
      "metadata": {
        "id": "nIEoUm4aQkyl"
      },
      "source": [
        "def log_loss_score(gt, pr):\n",
        "    \n",
        "    log_loss_ = 0\n",
        "    \n",
        "    gt = np.array(gt)\n",
        "    \n",
        "    for i in range(10):\n",
        "        log_loss_ += log_loss(gt[:, i], pr[:, i])\n",
        "        \n",
        "    return log_loss_ / 10\n",
        "\n",
        "    \n",
        "def validation():\n",
        "    model.eval()\n",
        "\n",
        "    fin_targets=[]\n",
        "    fin_outputs=[]\n",
        "\n",
        "    with torch.no_grad():\n",
        "        for _, data in enumerate(validating_loader, 0):\n",
        "            ids = data['ids'].to(device, dtype = torch.long)\n",
        "            mask = data['mask'].to(device, dtype = torch.long)\n",
        "            \n",
        "            token_type_ids = data['token_type_ids'].to(device, dtype = torch.long)\n",
        "            targets = data['targets'].to(device, dtype = torch.float)\n",
        "\n",
        "            outputs = model(ids, mask, token_type_ids)['logits']\n",
        "\n",
        "            fin_targets.extend(targets.cpu().detach().numpy().tolist())\n",
        "            fin_outputs.extend(torch.sigmoid(outputs).cpu().detach().numpy().tolist())\n",
        "            \n",
        "    return fin_outputs, fin_targets\n",
        "\n",
        "def get_val_metrics():\n",
        "    outputs, targets = validation()\n",
        "    outputs = np.array(outputs)\n",
        "    lg = log_loss_score(targets, outputs)\n",
        "\n",
        "    return (1 - lg) * 0.8"
      ],
      "execution_count": 147,
      "outputs": []
    },
    {
      "cell_type": "code",
      "metadata": {
        "colab": {
          "base_uri": "https://localhost:8080/"
        },
        "collapsed": true,
        "id": "D4Yl7gXHYSRU",
        "outputId": "84c042fe-0dbf-48b7-8d9a-ae5d7d77613e"
      },
      "source": [
        "train(EPOCH)"
      ],
      "execution_count": 148,
      "outputs": [
        {
          "output_type": "stream",
          "name": "stdout",
          "text": [
            "Epoch: 1, Loss:  3.6025917530059814, Vall score: 0\n",
            "Epoch: 2, Loss:  3.565387487411499, Vall score: 0\n",
            "Epoch: 3, Loss:  2.851747751235962, Vall score: 0\n",
            "Epoch: 4, Loss:  2.3248748779296875, Vall score: 0\n",
            "Epoch: 5, Loss:  2.4597034454345703, Vall score: 0\n",
            "Epoch: 6, Loss:  1.48008394241333, Vall score: 0\n",
            "Epoch: 7, Loss:  2.0557000637054443, Vall score: 0\n",
            "Epoch: 8, Loss:  1.1140085458755493, Vall score: 0\n",
            "Epoch: 9, Loss:  0.7736775875091553, Vall score: 0\n",
            "Epoch: 10, Loss:  0.6339202523231506, Vall score: 0\n",
            "Epoch: 11, Loss:  0.5432386994361877, Vall score: 0\n",
            "Epoch: 12, Loss:  1.2711057662963867, Vall score: 0\n",
            "Epoch: 13, Loss:  0.8317217826843262, Vall score: 0\n",
            "Epoch: 14, Loss:  0.12835459411144257, Vall score: 0\n",
            "Epoch: 15, Loss:  0.1850109100341797, Vall score: 0\n",
            "Epoch: 16, Loss:  0.08588054031133652, Vall score: 0\n"
          ]
        }
      ]
    },
    {
      "cell_type": "code",
      "metadata": {
        "id": "Ov1_3R_pAcMo",
        "colab": {
          "base_uri": "https://localhost:8080/"
        },
        "outputId": "1ab722c3-713e-4822-b3d9-c90b475913dc"
      },
      "source": [
        "if train_size != 1:\n",
        "  outputs, targets = validation()\n",
        "  outputs = np.array(outputs)\n",
        "  lg = log_loss_score(targets, outputs)\n",
        "\n",
        "  print(f\"log_loss = {lg}\")\n",
        "  print(f\"log_score = {1 - lg}\")\n",
        "  print(f\"log_score * 0.8 = {(1 - lg) * 0.8}\")\n"
      ],
      "execution_count": 149,
      "outputs": [
        {
          "output_type": "stream",
          "name": "stdout",
          "text": [
            "log_loss = 0.188512780847221\n",
            "log_score = 0.811487219152779\n",
            "log_score * 0.8 = 0.6491897753222232\n"
          ]
        }
      ]
    },
    {
      "cell_type": "markdown",
      "metadata": {
        "id": "Jz-XRDTAAWRJ"
      },
      "source": [
        "# Submission\n"
      ]
    },
    {
      "cell_type": "code",
      "metadata": {
        "id": "b7spFEp3_8QG"
      },
      "source": [
        "!wget -q -O test.csv https://getfile.dokpub.com/yandex/get/https://disk.yandex.ru/d/Wo70d4_PAwujqA"
      ],
      "execution_count": 109,
      "outputs": []
    },
    {
      "cell_type": "code",
      "metadata": {
        "id": "fpakMZpH3Y3e"
      },
      "source": [
        "test = pd.read_csv('test.csv')\n",
        "test_spans = pd.read_json('test_df_with_spans20.json')"
      ],
      "execution_count": 150,
      "outputs": []
    },
    {
      "cell_type": "code",
      "metadata": {
        "id": "HQH4bMNuoSaB"
      },
      "source": [
        "test_dct = {'text_id':[], 'span_text':[]}\n",
        "\n",
        "for i in range(0, len(test_spans)):\n",
        "    data = test_spans.span[i]\n",
        "    id = test_spans.text_id[i]\n",
        "\n",
        "    spans_text = []\n",
        "    for span in data:\n",
        "        text = test_spans.text[i][span[0]:span[1]]\n",
        "        if text not in spans_text:\n",
        "            spans_text.append(text)\n",
        "\n",
        "    test_dct['span_text'].append(spans_text)\n",
        "    test_dct['text_id'].append(id)\n",
        "\n",
        "test_dct = pd.DataFrame(test_dct)"
      ],
      "execution_count": 151,
      "outputs": []
    },
    {
      "cell_type": "code",
      "metadata": {
        "id": "faCnlFLhIHVj",
        "colab": {
          "base_uri": "https://localhost:8080/",
          "height": 204
        },
        "outputId": "78efe225-47a8-4e29-e2ca-3b1a1e704369"
      },
      "source": [
        "test['list'] = test[test.columns[2:]].values.tolist()\n",
        "\n",
        "new_df_test = test[['text', 'list']].copy()\n",
        "new_df_test.head()"
      ],
      "execution_count": 152,
      "outputs": [
        {
          "output_type": "execute_result",
          "data": {
            "text/html": [
              "<div>\n",
              "<style scoped>\n",
              "    .dataframe tbody tr th:only-of-type {\n",
              "        vertical-align: middle;\n",
              "    }\n",
              "\n",
              "    .dataframe tbody tr th {\n",
              "        vertical-align: top;\n",
              "    }\n",
              "\n",
              "    .dataframe thead th {\n",
              "        text-align: right;\n",
              "    }\n",
              "</style>\n",
              "<table border=\"1\" class=\"dataframe\">\n",
              "  <thead>\n",
              "    <tr style=\"text-align: right;\">\n",
              "      <th></th>\n",
              "      <th>text</th>\n",
              "      <th>list</th>\n",
              "    </tr>\n",
              "  </thead>\n",
              "  <tbody>\n",
              "    <tr>\n",
              "      <th>0</th>\n",
              "      <td>Понос у месячных телят. Подскажите методы и сп...</td>\n",
              "      <td>[]</td>\n",
              "    </tr>\n",
              "    <tr>\n",
              "      <th>1</th>\n",
              "      <td>Понос у телят, чем лечить? \\nЧем можно вылечит...</td>\n",
              "      <td>[]</td>\n",
              "    </tr>\n",
              "    <tr>\n",
              "      <th>2</th>\n",
              "      <td>По какой причине у телёнка отнимаются ноги?\\nП...</td>\n",
              "      <td>[]</td>\n",
              "    </tr>\n",
              "    <tr>\n",
              "      <th>3</th>\n",
              "      <td>Срочно! Ребятки, помогите, корову что-то укуси...</td>\n",
              "      <td>[]</td>\n",
              "    </tr>\n",
              "    <tr>\n",
              "      <th>4</th>\n",
              "      <td>Сгустки у коровы.\\nЗдравствуйте, помогите пожа...</td>\n",
              "      <td>[]</td>\n",
              "    </tr>\n",
              "  </tbody>\n",
              "</table>\n",
              "</div>"
            ],
            "text/plain": [
              "                                                text list\n",
              "0  Понос у месячных телят. Подскажите методы и сп...   []\n",
              "1  Понос у телят, чем лечить? \\nЧем можно вылечит...   []\n",
              "2  По какой причине у телёнка отнимаются ноги?\\nП...   []\n",
              "3  Срочно! Ребятки, помогите, корову что-то укуси...   []\n",
              "4  Сгустки у коровы.\\nЗдравствуйте, помогите пожа...   []"
            ]
          },
          "metadata": {},
          "execution_count": 152
        }
      ]
    },
    {
      "cell_type": "code",
      "metadata": {
        "id": "0HqmZaRDpnGc"
      },
      "source": [
        "for i in range(0, len(new_df_test)):\n",
        "    new_df_test['text'][i] = \" \".join(test_dct['span_text'][i]) +  \" | \" + new_df_test['text'][i]"
      ],
      "execution_count": 153,
      "outputs": []
    },
    {
      "cell_type": "code",
      "metadata": {
        "colab": {
          "base_uri": "https://localhost:8080/",
          "height": 419
        },
        "id": "X3AaFxy5rBbo",
        "outputId": "c826e7a0-97ad-4d92-d8bc-eba66018edfa"
      },
      "source": [
        "new_df_test"
      ],
      "execution_count": 154,
      "outputs": [
        {
          "output_type": "execute_result",
          "data": {
            "text/html": [
              "<div>\n",
              "<style scoped>\n",
              "    .dataframe tbody tr th:only-of-type {\n",
              "        vertical-align: middle;\n",
              "    }\n",
              "\n",
              "    .dataframe tbody tr th {\n",
              "        vertical-align: top;\n",
              "    }\n",
              "\n",
              "    .dataframe thead th {\n",
              "        text-align: right;\n",
              "    }\n",
              "</style>\n",
              "<table border=\"1\" class=\"dataframe\">\n",
              "  <thead>\n",
              "    <tr style=\"text-align: right;\">\n",
              "      <th></th>\n",
              "      <th>text</th>\n",
              "      <th>list</th>\n",
              "    </tr>\n",
              "  </thead>\n",
              "  <tbody>\n",
              "    <tr>\n",
              "      <th>0</th>\n",
              "      <td>Понос | Понос у месячных телят. Подскажите мет...</td>\n",
              "      <td>[]</td>\n",
              "    </tr>\n",
              "    <tr>\n",
              "      <th>1</th>\n",
              "      <td>Понос понос понос с жидкий стул поносить плохо...</td>\n",
              "      <td>[]</td>\n",
              "    </tr>\n",
              "    <tr>\n",
              "      <th>2</th>\n",
              "      <td>отнимаются ноги отнимаются аппетит есть не пон...</td>\n",
              "      <td>[]</td>\n",
              "    </tr>\n",
              "    <tr>\n",
              "      <th>3</th>\n",
              "      <td>укусило недомогание вялость | Срочно! Ребятки,...</td>\n",
              "      <td>[]</td>\n",
              "    </tr>\n",
              "    <tr>\n",
              "      <th>4</th>\n",
              "      <td>Сгустки сгустки крови | Сгустки у коровы.\\nЗдр...</td>\n",
              "      <td>[]</td>\n",
              "    </tr>\n",
              "    <tr>\n",
              "      <th>...</th>\n",
              "      <td>...</td>\n",
              "      <td>...</td>\n",
              "    </tr>\n",
              "    <tr>\n",
              "      <th>94</th>\n",
              "      <td>поносит | Большой бык уже неделю поносит, чем ...</td>\n",
              "      <td>[]</td>\n",
              "    </tr>\n",
              "    <tr>\n",
              "      <th>95</th>\n",
              "      <td>дерти запоносила | Как запустить желудок у кор...</td>\n",
              "      <td>[]</td>\n",
              "    </tr>\n",
              "    <tr>\n",
              "      <th>96</th>\n",
              "      <td>пропоносился какойто прозрачной слизью | Здрав...</td>\n",
              "      <td>[]</td>\n",
              "    </tr>\n",
              "    <tr>\n",
              "      <th>97</th>\n",
              "      <td>отошел вымя уплотнения вымени | После отела у ...</td>\n",
              "      <td>[]</td>\n",
              "    </tr>\n",
              "    <tr>\n",
              "      <th>98</th>\n",
              "      <td>понос | Здравствуйте. Чем лечить понос у телён...</td>\n",
              "      <td>[]</td>\n",
              "    </tr>\n",
              "  </tbody>\n",
              "</table>\n",
              "<p>99 rows × 2 columns</p>\n",
              "</div>"
            ],
            "text/plain": [
              "                                                 text list\n",
              "0   Понос | Понос у месячных телят. Подскажите мет...   []\n",
              "1   Понос понос понос с жидкий стул поносить плохо...   []\n",
              "2   отнимаются ноги отнимаются аппетит есть не пон...   []\n",
              "3   укусило недомогание вялость | Срочно! Ребятки,...   []\n",
              "4   Сгустки сгустки крови | Сгустки у коровы.\\nЗдр...   []\n",
              "..                                                ...  ...\n",
              "94  поносит | Большой бык уже неделю поносит, чем ...   []\n",
              "95  дерти запоносила | Как запустить желудок у кор...   []\n",
              "96  пропоносился какойто прозрачной слизью | Здрав...   []\n",
              "97  отошел вымя уплотнения вымени | После отела у ...   []\n",
              "98  понос | Здравствуйте. Чем лечить понос у телён...   []\n",
              "\n",
              "[99 rows x 2 columns]"
            ]
          },
          "metadata": {},
          "execution_count": 154
        }
      ]
    },
    {
      "cell_type": "code",
      "metadata": {
        "id": "oUIZoS3nH01z",
        "colab": {
          "base_uri": "https://localhost:8080/"
        },
        "outputId": "b06f6535-cd54-40c2-d1f8-500ffa0409b7"
      },
      "source": [
        "test_dataset = new_df_test.reset_index(drop=True)\n",
        "\n",
        "print(\"TEST Dataset: {}\".format(test_dataset.shape))\n",
        "\n",
        "testing_set = CustomDataset(test_dataset, tokenizer, None)"
      ],
      "execution_count": 155,
      "outputs": [
        {
          "output_type": "stream",
          "name": "stdout",
          "text": [
            "TEST Dataset: (99, 2)\n"
          ]
        }
      ]
    },
    {
      "cell_type": "code",
      "metadata": {
        "id": "3FjgHvl8IuIJ"
      },
      "source": [
        "test_params = {'batch_size': 4,\n",
        "                'shuffle': False,\n",
        "                'num_workers': 0,\n",
        "                'worker_init_fn' : seed_worker,\n",
        "                'generator': g\n",
        "                }\n",
        "\n",
        "testing_loader = DataLoader(testing_set, **test_params)"
      ],
      "execution_count": 156,
      "outputs": []
    },
    {
      "cell_type": "code",
      "metadata": {
        "id": "vnXrvmM3I20r"
      },
      "source": [
        "model.eval()\n",
        "prediction = []\n",
        "\n",
        "with torch.no_grad():\n",
        "    for _, data in enumerate(testing_loader, 0):\n",
        "        ids = data['ids'].to(device, dtype = torch.long)\n",
        "        mask = data['mask'].to(device, dtype = torch.long)\n",
        "\n",
        "        token_type_ids = data['token_type_ids'].to(device, dtype = torch.long)\n",
        "        targets = data['targets'].to(device, dtype = torch.float)\n",
        "\n",
        "        outputs = model(ids, mask, token_type_ids)['logits']\n",
        "\n",
        "        prediction.extend(torch.sigmoid(outputs).cpu().detach().numpy().tolist())"
      ],
      "execution_count": 157,
      "outputs": []
    },
    {
      "cell_type": "code",
      "metadata": {
        "id": "6ZVLzS2kHlD0"
      },
      "source": [
        "submission_columns = ['text_id'] + list(train_df.columns[2:-2])\n",
        "submission = pd.concat([test['text_id'], pd.DataFrame(np.array(prediction)[:, :10])], axis=1)\n",
        "submission.columns = submission_columns"
      ],
      "execution_count": 158,
      "outputs": []
    },
    {
      "cell_type": "code",
      "metadata": {
        "id": "T6M7mJM4KA1N"
      },
      "source": [
        "# submission_json = {str(k): {\"span\": find_spans(test[test.text_id == k].text.item()), \"label\": list(v.values())} \\\n",
        "#                    for k,v in submission.set_index('text_id').to_dict('index').items()}\n",
        "\n",
        "submission_json = {str(k): {\"span\": test_spans[test_spans.text_id == k].span.item(), \"label\": list(v.values())} \\\n",
        "                   for k,v in submission.set_index('text_id').to_dict('index').items()}"
      ],
      "execution_count": 159,
      "outputs": []
    },
    {
      "cell_type": "code",
      "metadata": {
        "id": "tn0vjF03KFk8"
      },
      "source": [
        "import json\n",
        "with open('submisson_test_spans20.json', 'w') as final_submit:\n",
        "    json.dump(submission_json, final_submit, indent=4)"
      ],
      "execution_count": 160,
      "outputs": []
    },
    {
      "cell_type": "code",
      "metadata": {
        "colab": {
          "base_uri": "https://localhost:8080/"
        },
        "id": "-yysblhZ4DqI",
        "outputId": "902e28ac-5344-4536-a434-d8cf751dcfa3"
      },
      "source": [
        "model.save_pretrained('clf_bert20/')\n",
        "tokenizer.save_pretrained('clf_bert20/')"
      ],
      "execution_count": 161,
      "outputs": [
        {
          "output_type": "execute_result",
          "data": {
            "text/plain": [
              "('clf_bert20/tokenizer_config.json',\n",
              " 'clf_bert20/special_tokens_map.json',\n",
              " 'clf_bert20/vocab.txt',\n",
              " 'clf_bert20/added_tokens.json',\n",
              " 'clf_bert20/tokenizer.json')"
            ]
          },
          "metadata": {},
          "execution_count": 161
        }
      ]
    },
    {
      "cell_type": "code",
      "metadata": {
        "id": "JfAUJEKR2q2U",
        "colab": {
          "base_uri": "https://localhost:8080/"
        },
        "outputId": "cbef52bf-be58-4913-b820-04490d752ff0"
      },
      "source": [
        "!zip -r /content/clf_bert20.zip /content/clf_bert20"
      ],
      "execution_count": 162,
      "outputs": [
        {
          "output_type": "stream",
          "name": "stdout",
          "text": [
            "  adding: content/clf_bert20/ (stored 0%)\n",
            "  adding: content/clf_bert20/vocab.txt (deflated 64%)\n",
            "  adding: content/clf_bert20/pytorch_model.bin (deflated 8%)\n",
            "  adding: content/clf_bert20/special_tokens_map.json (deflated 40%)\n",
            "  adding: content/clf_bert20/tokenizer.json (deflated 65%)\n",
            "  adding: content/clf_bert20/tokenizer_config.json (deflated 42%)\n",
            "  adding: content/clf_bert20/config.json (deflated 57%)\n"
          ]
        }
      ]
    },
    {
      "cell_type": "code",
      "metadata": {
        "id": "OHjldbr83K8w",
        "colab": {
          "base_uri": "https://localhost:8080/",
          "height": 34
        },
        "outputId": "c3fc6d6a-7acd-4970-a857-5ce29373a71c"
      },
      "source": [
        "from google.colab import files\n",
        "files.download(\"/content/clf_bert20.zip\")"
      ],
      "execution_count": 163,
      "outputs": [
        {
          "output_type": "display_data",
          "data": {
            "application/javascript": [
              "\n",
              "    async function download(id, filename, size) {\n",
              "      if (!google.colab.kernel.accessAllowed) {\n",
              "        return;\n",
              "      }\n",
              "      const div = document.createElement('div');\n",
              "      const label = document.createElement('label');\n",
              "      label.textContent = `Downloading \"${filename}\": `;\n",
              "      div.appendChild(label);\n",
              "      const progress = document.createElement('progress');\n",
              "      progress.max = size;\n",
              "      div.appendChild(progress);\n",
              "      document.body.appendChild(div);\n",
              "\n",
              "      const buffers = [];\n",
              "      let downloaded = 0;\n",
              "\n",
              "      const channel = await google.colab.kernel.comms.open(id);\n",
              "      // Send a message to notify the kernel that we're ready.\n",
              "      channel.send({})\n",
              "\n",
              "      for await (const message of channel.messages) {\n",
              "        // Send a message to notify the kernel that we're ready.\n",
              "        channel.send({})\n",
              "        if (message.buffers) {\n",
              "          for (const buffer of message.buffers) {\n",
              "            buffers.push(buffer);\n",
              "            downloaded += buffer.byteLength;\n",
              "            progress.value = downloaded;\n",
              "          }\n",
              "        }\n",
              "      }\n",
              "      const blob = new Blob(buffers, {type: 'application/binary'});\n",
              "      const a = document.createElement('a');\n",
              "      a.href = window.URL.createObjectURL(blob);\n",
              "      a.download = filename;\n",
              "      div.appendChild(a);\n",
              "      a.click();\n",
              "      div.remove();\n",
              "    }\n",
              "  "
            ],
            "text/plain": [
              "<IPython.core.display.Javascript object>"
            ]
          },
          "metadata": {}
        },
        {
          "output_type": "display_data",
          "data": {
            "application/javascript": [
              "download(\"download_0514c99a-58ae-4b01-bf1c-86eb017c1849\", \"clf_bert20.zip\", 108463062)"
            ],
            "text/plain": [
              "<IPython.core.display.Javascript object>"
            ]
          },
          "metadata": {}
        }
      ]
    },
    {
      "cell_type": "code",
      "metadata": {
        "id": "piigh0rgtApx"
      },
      "source": [
        ""
      ],
      "execution_count": null,
      "outputs": []
    }
  ]
}