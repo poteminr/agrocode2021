{
 "cells": [
  {
   "cell_type": "markdown",
   "metadata": {},
   "source": [
    "# Импорт модулей"
   ]
  },
  {
   "cell_type": "code",
   "execution_count": 17,
   "metadata": {},
   "outputs": [],
   "source": [
    "import json\n",
    "import pandas as pd\n",
    "import numpy as np\n",
    "from catboost import CatBoostClassifier\n",
    "from sklearn.model_selection import train_test_split\n",
    "from sklearn.multiclass import OneVsRestClassifier\n",
    "from sklearn.metrics import log_loss"
   ]
  },
  {
   "cell_type": "markdown",
   "metadata": {},
   "source": [
    "# Загрузка данных"
   ]
  },
  {
   "cell_type": "markdown",
   "metadata": {},
   "source": [
    "Тренировочные данные состоят из полей 'text_id', 'text' и 11 полей с таргетами. Не стоит забывать, что может быть больше одной болезни для каждого случая."
   ]
  },
  {
   "cell_type": "markdown",
   "metadata": {},
   "source": [
    "Тестовые же данные содержат поля 'text_id' и 'text'."
   ]
  },
  {
   "cell_type": "code",
   "execution_count": 3,
   "metadata": {},
   "outputs": [],
   "source": [
    "train = pd.read_csv('train.csv')\n",
    "test = pd.read_csv('test.csv')"
   ]
  },
  {
   "cell_type": "code",
   "execution_count": 4,
   "metadata": {},
   "outputs": [
    {
     "data": {
      "text/html": [
       "<div>\n",
       "<style scoped>\n",
       "    .dataframe tbody tr th:only-of-type {\n",
       "        vertical-align: middle;\n",
       "    }\n",
       "\n",
       "    .dataframe tbody tr th {\n",
       "        vertical-align: top;\n",
       "    }\n",
       "\n",
       "    .dataframe thead th {\n",
       "        text-align: right;\n",
       "    }\n",
       "</style>\n",
       "<table border=\"1\" class=\"dataframe\">\n",
       "  <thead>\n",
       "    <tr style=\"text-align: right;\">\n",
       "      <th></th>\n",
       "      <th>text_id</th>\n",
       "      <th>text</th>\n",
       "      <th>эймериоз</th>\n",
       "      <th>абсцесс</th>\n",
       "      <th>диспепсия молодняка</th>\n",
       "      <th>остертагиоз</th>\n",
       "      <th>мастит</th>\n",
       "      <th>инфекционный ринотрахеит</th>\n",
       "      <th>отёк вымени</th>\n",
       "      <th>тенденит</th>\n",
       "      <th>сибирская язва</th>\n",
       "      <th>лишай</th>\n",
       "      <th>другое</th>\n",
       "    </tr>\n",
       "  </thead>\n",
       "  <tbody>\n",
       "    <tr>\n",
       "      <th>0</th>\n",
       "      <td>0</td>\n",
       "      <td>Корова, видимо вставая, раздавила себе сосок. ...</td>\n",
       "      <td>0</td>\n",
       "      <td>0</td>\n",
       "      <td>0</td>\n",
       "      <td>0</td>\n",
       "      <td>1</td>\n",
       "      <td>0</td>\n",
       "      <td>0</td>\n",
       "      <td>0</td>\n",
       "      <td>0</td>\n",
       "      <td>0</td>\n",
       "      <td>0</td>\n",
       "    </tr>\n",
       "    <tr>\n",
       "      <th>1</th>\n",
       "      <td>1</td>\n",
       "      <td>Корове 8 лет! Месяц назад промеж четвертей вым...</td>\n",
       "      <td>0</td>\n",
       "      <td>0</td>\n",
       "      <td>0</td>\n",
       "      <td>0</td>\n",
       "      <td>0</td>\n",
       "      <td>0</td>\n",
       "      <td>0</td>\n",
       "      <td>0</td>\n",
       "      <td>1</td>\n",
       "      <td>1</td>\n",
       "      <td>1</td>\n",
       "    </tr>\n",
       "  </tbody>\n",
       "</table>\n",
       "</div>"
      ],
      "text/plain": [
       "   text_id                                               text  эймериоз  \\\n",
       "0        0  Корова, видимо вставая, раздавила себе сосок. ...         0   \n",
       "1        1  Корове 8 лет! Месяц назад промеж четвертей вым...         0   \n",
       "\n",
       "   абсцесс  диспепсия молодняка  остертагиоз  мастит  \\\n",
       "0        0                    0            0       1   \n",
       "1        0                    0            0       0   \n",
       "\n",
       "   инфекционный ринотрахеит  отёк вымени  тенденит  сибирская язва  лишай  \\\n",
       "0                         0            0         0               0      0   \n",
       "1                         0            0         0               1      1   \n",
       "\n",
       "   другое  \n",
       "0       0  \n",
       "1       1  "
      ]
     },
     "execution_count": 4,
     "metadata": {},
     "output_type": "execute_result"
    }
   ],
   "source": [
    "train.head(2)"
   ]
  },
  {
   "cell_type": "code",
   "execution_count": 5,
   "metadata": {},
   "outputs": [
    {
     "data": {
      "text/html": [
       "<div>\n",
       "<style scoped>\n",
       "    .dataframe tbody tr th:only-of-type {\n",
       "        vertical-align: middle;\n",
       "    }\n",
       "\n",
       "    .dataframe tbody tr th {\n",
       "        vertical-align: top;\n",
       "    }\n",
       "\n",
       "    .dataframe thead th {\n",
       "        text-align: right;\n",
       "    }\n",
       "</style>\n",
       "<table border=\"1\" class=\"dataframe\">\n",
       "  <thead>\n",
       "    <tr style=\"text-align: right;\">\n",
       "      <th></th>\n",
       "      <th>text_id</th>\n",
       "      <th>text</th>\n",
       "    </tr>\n",
       "  </thead>\n",
       "  <tbody>\n",
       "    <tr>\n",
       "      <th>0</th>\n",
       "      <td>294</td>\n",
       "      <td>Понос у месячных телят. Подскажите методы и сп...</td>\n",
       "    </tr>\n",
       "    <tr>\n",
       "      <th>1</th>\n",
       "      <td>295</td>\n",
       "      <td>Понос у телят, чем лечить? \\nЧем можно вылечит...</td>\n",
       "    </tr>\n",
       "  </tbody>\n",
       "</table>\n",
       "</div>"
      ],
      "text/plain": [
       "   text_id                                               text\n",
       "0      294  Понос у месячных телят. Подскажите методы и сп...\n",
       "1      295  Понос у телят, чем лечить? \\nЧем можно вылечит..."
      ]
     },
     "execution_count": 5,
     "metadata": {},
     "output_type": "execute_result"
    }
   ],
   "source": [
    "test.head(2)"
   ]
  },
  {
   "cell_type": "markdown",
   "metadata": {},
   "source": [
    "# Базовая модель"
   ]
  },
  {
   "cell_type": "markdown",
   "metadata": {},
   "source": [
    "В качестве базового решения используется CatBoostClassifier, поддерживающий текстовые фичи. Помимо этого задача является мультилейбл классификацией, поэтому модель обернута в OneVsRestClassifier."
   ]
  },
  {
   "cell_type": "markdown",
   "metadata": {},
   "source": [
    "**Делим данные на тренировочную и валидационную выборку**"
   ]
  },
  {
   "cell_type": "code",
   "execution_count": 6,
   "metadata": {},
   "outputs": [],
   "source": [
    "X_train, X_val, y_train, y_val = train_test_split(pd.DataFrame(train['text']), train[train.columns[2:]], test_size=0.2)"
   ]
  },
  {
   "cell_type": "markdown",
   "metadata": {},
   "source": [
    "**Обучаем модель**"
   ]
  },
  {
   "cell_type": "code",
   "execution_count": 7,
   "metadata": {},
   "outputs": [
    {
     "name": "stdout",
     "output_type": "stream",
     "text": [
      "Learning rate set to 0.045854\n",
      "0:\tlearn: 0.6748344\ttotal: 81.7ms\tremaining: 8.09s\n",
      "50:\tlearn: 0.3577107\ttotal: 1.55s\tremaining: 1.49s\n",
      "99:\tlearn: 0.2894234\ttotal: 3.19s\tremaining: 0us\n",
      "Learning rate set to 0.045854\n",
      "0:\tlearn: 0.6754896\ttotal: 30.2ms\tremaining: 2.99s\n",
      "50:\tlearn: 0.4102976\ttotal: 1.82s\tremaining: 1.75s\n",
      "99:\tlearn: 0.3551146\ttotal: 3.27s\tremaining: 0us\n",
      "Learning rate set to 0.045854\n",
      "0:\tlearn: 0.6751149\ttotal: 23.5ms\tremaining: 2.33s\n",
      "50:\tlearn: 0.3688462\ttotal: 1.58s\tremaining: 1.52s\n",
      "99:\tlearn: 0.3136273\ttotal: 3.08s\tremaining: 0us\n",
      "Learning rate set to 0.045854\n",
      "0:\tlearn: 0.6726563\ttotal: 20.6ms\tremaining: 2.04s\n",
      "50:\tlearn: 0.3554416\ttotal: 1.68s\tremaining: 1.61s\n",
      "99:\tlearn: 0.3034627\ttotal: 3.24s\tremaining: 0us\n",
      "Learning rate set to 0.045854\n",
      "0:\tlearn: 0.6742050\ttotal: 34.8ms\tremaining: 3.44s\n",
      "50:\tlearn: 0.3478183\ttotal: 1.52s\tremaining: 1.46s\n",
      "99:\tlearn: 0.2806680\ttotal: 2.98s\tremaining: 0us\n",
      "Learning rate set to 0.045854\n",
      "0:\tlearn: 0.6706879\ttotal: 28.6ms\tremaining: 2.83s\n",
      "50:\tlearn: 0.3172855\ttotal: 1.52s\tremaining: 1.46s\n",
      "99:\tlearn: 0.2592006\ttotal: 2.94s\tremaining: 0us\n",
      "Learning rate set to 0.045854\n",
      "0:\tlearn: 0.6726021\ttotal: 45ms\tremaining: 4.46s\n",
      "50:\tlearn: 0.3019073\ttotal: 1.45s\tremaining: 1.39s\n",
      "99:\tlearn: 0.2298105\ttotal: 2.94s\tremaining: 0us\n",
      "Learning rate set to 0.045854\n",
      "0:\tlearn: 0.6688019\ttotal: 19.5ms\tremaining: 1.93s\n",
      "50:\tlearn: 0.3005266\ttotal: 1.41s\tremaining: 1.36s\n",
      "99:\tlearn: 0.2363221\ttotal: 2.97s\tremaining: 0us\n",
      "Learning rate set to 0.045854\n",
      "0:\tlearn: 0.6728074\ttotal: 35.3ms\tremaining: 3.49s\n",
      "50:\tlearn: 0.3674892\ttotal: 1.5s\tremaining: 1.44s\n",
      "99:\tlearn: 0.3168110\ttotal: 2.96s\tremaining: 0us\n",
      "Learning rate set to 0.045854\n",
      "0:\tlearn: 0.6698178\ttotal: 29.2ms\tremaining: 2.89s\n",
      "50:\tlearn: 0.3021316\ttotal: 1.53s\tremaining: 1.47s\n",
      "99:\tlearn: 0.2334059\ttotal: 2.96s\tremaining: 0us\n",
      "Learning rate set to 0.045854\n",
      "0:\tlearn: 0.6917718\ttotal: 24.2ms\tremaining: 2.4s\n",
      "50:\tlearn: 0.6172647\ttotal: 1.6s\tremaining: 1.54s\n",
      "99:\tlearn: 0.5663646\ttotal: 3.19s\tremaining: 0us\n"
     ]
    },
    {
     "data": {
      "text/plain": [
       "OneVsRestClassifier(estimator=<catboost.core.CatBoostClassifier object at 0x7fca2034ac10>)"
      ]
     },
     "execution_count": 7,
     "metadata": {},
     "output_type": "execute_result"
    }
   ],
   "source": [
    "model = OneVsRestClassifier(estimator=CatBoostClassifier(iterations = 100, text_features=['text'], \n",
    "                                                         verbose = 50, allow_writing_files=False))\n",
    "model.fit(X_train, y_train)"
   ]
  },
  {
   "cell_type": "markdown",
   "metadata": {},
   "source": [
    "# Считаем метрику"
   ]
  },
  {
   "cell_type": "markdown",
   "metadata": {},
   "source": [
    "В качестве \"gt\" (ground truth) функция принимает на вход датафрейм/массив из 10 столбцов (все классы, кроме \"другое\"). Предсказанные значения – \"pr\", также должны быть либо в виде датафрейма, либо в виде массива."
   ]
  },
  {
   "cell_type": "code",
   "execution_count": 8,
   "metadata": {},
   "outputs": [],
   "source": [
    "def log_loss_score(gt, pr):\n",
    "    \n",
    "    log_loss_ = 0\n",
    "    \n",
    "    gt = np.array(gt)\n",
    "    \n",
    "    for i in range(10):\n",
    "        log_loss_ += log_loss(gt[:, i], pr[:, i])\n",
    "        \n",
    "    return log_loss_ / 10"
   ]
  },
  {
   "cell_type": "code",
   "execution_count": 9,
   "metadata": {},
   "outputs": [
    {
     "data": {
      "text/plain": [
       "0.3409663042406871"
      ]
     },
     "execution_count": 9,
     "metadata": {},
     "output_type": "execute_result"
    }
   ],
   "source": [
    "log_loss_score(y_val, model.predict_proba(X_val))"
   ]
  },
  {
   "cell_type": "markdown",
   "metadata": {},
   "source": [
    "# Создание файла отправки"
   ]
  },
  {
   "cell_type": "markdown",
   "metadata": {},
   "source": [
    "В файле с ответами должны быть вероятности для каждого класса. Сумма вероятностей в каждой строке может быть больше 1."
   ]
  },
  {
   "cell_type": "code",
   "execution_count": 10,
   "metadata": {},
   "outputs": [],
   "source": [
    "submission_columns = ['text_id'] + list(train.columns[2:-1])\n",
    "submission = pd.concat([test['text_id'], pd.DataFrame(model.predict_proba(pd.DataFrame(test['text']))[:, :10])], axis=1)\n",
    "submission.columns = submission_columns"
   ]
  },
  {
   "cell_type": "code",
   "execution_count": 11,
   "metadata": {},
   "outputs": [
    {
     "data": {
      "text/html": [
       "<div>\n",
       "<style scoped>\n",
       "    .dataframe tbody tr th:only-of-type {\n",
       "        vertical-align: middle;\n",
       "    }\n",
       "\n",
       "    .dataframe tbody tr th {\n",
       "        vertical-align: top;\n",
       "    }\n",
       "\n",
       "    .dataframe thead th {\n",
       "        text-align: right;\n",
       "    }\n",
       "</style>\n",
       "<table border=\"1\" class=\"dataframe\">\n",
       "  <thead>\n",
       "    <tr style=\"text-align: right;\">\n",
       "      <th></th>\n",
       "      <th>text_id</th>\n",
       "      <th>эймериоз</th>\n",
       "      <th>абсцесс</th>\n",
       "      <th>диспепсия молодняка</th>\n",
       "      <th>остертагиоз</th>\n",
       "      <th>мастит</th>\n",
       "      <th>инфекционный ринотрахеит</th>\n",
       "      <th>отёк вымени</th>\n",
       "      <th>тенденит</th>\n",
       "      <th>сибирская язва</th>\n",
       "      <th>лишай</th>\n",
       "    </tr>\n",
       "  </thead>\n",
       "  <tbody>\n",
       "    <tr>\n",
       "      <th>0</th>\n",
       "      <td>294</td>\n",
       "      <td>0.062719</td>\n",
       "      <td>0.113136</td>\n",
       "      <td>0.072705</td>\n",
       "      <td>0.074253</td>\n",
       "      <td>0.103621</td>\n",
       "      <td>0.075186</td>\n",
       "      <td>0.066241</td>\n",
       "      <td>0.057393</td>\n",
       "      <td>0.104223</td>\n",
       "      <td>0.061639</td>\n",
       "    </tr>\n",
       "    <tr>\n",
       "      <th>1</th>\n",
       "      <td>295</td>\n",
       "      <td>0.567817</td>\n",
       "      <td>0.143268</td>\n",
       "      <td>0.392205</td>\n",
       "      <td>0.375057</td>\n",
       "      <td>0.211739</td>\n",
       "      <td>0.133588</td>\n",
       "      <td>0.136544</td>\n",
       "      <td>0.406265</td>\n",
       "      <td>0.173632</td>\n",
       "      <td>0.088913</td>\n",
       "    </tr>\n",
       "    <tr>\n",
       "      <th>2</th>\n",
       "      <td>296</td>\n",
       "      <td>0.198515</td>\n",
       "      <td>0.120845</td>\n",
       "      <td>0.369088</td>\n",
       "      <td>0.180145</td>\n",
       "      <td>0.233022</td>\n",
       "      <td>0.078119</td>\n",
       "      <td>0.065792</td>\n",
       "      <td>0.311344</td>\n",
       "      <td>0.104504</td>\n",
       "      <td>0.063568</td>\n",
       "    </tr>\n",
       "    <tr>\n",
       "      <th>3</th>\n",
       "      <td>297</td>\n",
       "      <td>0.065979</td>\n",
       "      <td>0.148187</td>\n",
       "      <td>0.077228</td>\n",
       "      <td>0.087859</td>\n",
       "      <td>0.083386</td>\n",
       "      <td>0.069549</td>\n",
       "      <td>0.060314</td>\n",
       "      <td>0.062278</td>\n",
       "      <td>0.103982</td>\n",
       "      <td>0.068143</td>\n",
       "    </tr>\n",
       "    <tr>\n",
       "      <th>4</th>\n",
       "      <td>298</td>\n",
       "      <td>0.068813</td>\n",
       "      <td>0.138642</td>\n",
       "      <td>0.084449</td>\n",
       "      <td>0.083486</td>\n",
       "      <td>0.188230</td>\n",
       "      <td>0.067497</td>\n",
       "      <td>0.089238</td>\n",
       "      <td>0.067269</td>\n",
       "      <td>0.115569</td>\n",
       "      <td>0.089609</td>\n",
       "    </tr>\n",
       "  </tbody>\n",
       "</table>\n",
       "</div>"
      ],
      "text/plain": [
       "   text_id  эймериоз   абсцесс  диспепсия молодняка  остертагиоз    мастит  \\\n",
       "0      294  0.062719  0.113136             0.072705     0.074253  0.103621   \n",
       "1      295  0.567817  0.143268             0.392205     0.375057  0.211739   \n",
       "2      296  0.198515  0.120845             0.369088     0.180145  0.233022   \n",
       "3      297  0.065979  0.148187             0.077228     0.087859  0.083386   \n",
       "4      298  0.068813  0.138642             0.084449     0.083486  0.188230   \n",
       "\n",
       "   инфекционный ринотрахеит  отёк вымени  тенденит  сибирская язва     лишай  \n",
       "0                  0.075186     0.066241  0.057393        0.104223  0.061639  \n",
       "1                  0.133588     0.136544  0.406265        0.173632  0.088913  \n",
       "2                  0.078119     0.065792  0.311344        0.104504  0.063568  \n",
       "3                  0.069549     0.060314  0.062278        0.103982  0.068143  \n",
       "4                  0.067497     0.089238  0.067269        0.115569  0.089609  "
      ]
     },
     "execution_count": 11,
     "metadata": {},
     "output_type": "execute_result"
    }
   ],
   "source": [
    "submission.head()"
   ]
  },
  {
   "cell_type": "code",
   "execution_count": 16,
   "metadata": {},
   "outputs": [
    {
     "data": {
      "text/plain": [
       "{'span': [],\n",
       " 'label': [0.0627194363685613,\n",
       "  0.11313570529902758,\n",
       "  0.07270482269352871,\n",
       "  0.0742534689467756,\n",
       "  0.10362104310746847,\n",
       "  0.07518588621133018,\n",
       "  0.06624119018743685,\n",
       "  0.05739265274755671,\n",
       "  0.10422273080497868,\n",
       "  0.061638782036372346]}"
      ]
     },
     "execution_count": 16,
     "metadata": {},
     "output_type": "execute_result"
    }
   ],
   "source": [
    "submission_json = {str(k): {\"span\": list(), \"label\": list(v.values())} \\\n",
    "                   for k,v in submission.set_index('text_id').to_dict('index').items()}\n",
    "\n",
    "submission_json['294']"
   ]
  },
  {
   "cell_type": "code",
   "execution_count": 18,
   "metadata": {},
   "outputs": [],
   "source": [
    "with open('sample_submission.json', 'w') as final_submit:\n",
    "    json.dump(submission_json, final_submit, indent=4)"
   ]
  }
 ],
 "metadata": {
  "kernelspec": {
   "display_name": "Python 3",
   "language": "python",
   "name": "python3"
  },
  "language_info": {
   "codemirror_mode": {
    "name": "ipython",
    "version": 3
   },
   "file_extension": ".py",
   "mimetype": "text/x-python",
   "name": "python",
   "nbconvert_exporter": "python",
   "pygments_lexer": "ipython3",
   "version": "3.8.6"
  }
 },
 "nbformat": 4,
 "nbformat_minor": 4
}
