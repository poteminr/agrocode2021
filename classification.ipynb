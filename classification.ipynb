{
  "nbformat": 4,
  "nbformat_minor": 0,
  "metadata": {
    "accelerator": "GPU",
    "colab": {
      "name": "classification.ipynb",
      "provenance": [],
      "collapsed_sections": []
    },
    "kernelspec": {
      "display_name": "Python 3",
      "language": "python",
      "name": "python3"
    },
    "language_info": {
      "codemirror_mode": {
        "name": "ipython",
        "version": 3
      },
      "file_extension": ".py",
      "mimetype": "text/x-python",
      "name": "python",
      "nbconvert_exporter": "python",
      "pygments_lexer": "ipython3",
      "version": "3.8.8"
    }
  },
  "cells": [
    {
      "cell_type": "code",
      "metadata": {
        "id": "hSLaomFHUj4W"
      },
      "source": [
        "!pip install -q transformers"
      ],
      "execution_count": 1,
      "outputs": []
    },
    {
      "cell_type": "code",
      "metadata": {
        "id": "pzM1_ykHaFur"
      },
      "source": [
        "import numpy as np\n",
        "import pandas as pd\n",
        "\n",
        "from sklearn import metrics\n",
        "from sklearn.metrics import log_loss\n",
        "\n",
        "import transformers\n",
        "from transformers import AutoTokenizer, AutoModelForSequenceClassification\n",
        "\n",
        "import torch\n",
        "import torch.nn as nn\n",
        "import torch.nn.functional as F\n",
        "from torch.utils.data import Dataset, DataLoader, RandomSampler, SequentialSampler"
      ],
      "execution_count": 2,
      "outputs": []
    },
    {
      "cell_type": "code",
      "metadata": {
        "id": "NLxxwd1scQNv"
      },
      "source": [
        "from torch import cuda\n",
        "device = 'cuda' if cuda.is_available() else 'cpu'"
      ],
      "execution_count": 3,
      "outputs": []
    },
    {
      "cell_type": "code",
      "metadata": {
        "id": "jEmjlJj3ZGme"
      },
      "source": [
        "import os\n",
        "import random\n",
        "\n",
        "\n",
        "def seed_everything(seed: int):\n",
        "    \"\"\"Seeds and fixes every possible random state.\"\"\"\n",
        "    random.seed(seed)\n",
        "    os.environ['PYTHONHASHSEED'] = str(seed)\n",
        "    np.random.seed(seed)\n",
        "    torch.manual_seed(seed)\n",
        "    torch.cuda.manual_seed(seed)\n",
        "    torch.backends.cudnn.deterministic = True"
      ],
      "execution_count": 4,
      "outputs": []
    },
    {
      "cell_type": "code",
      "metadata": {
        "id": "UvmWQLpsiVDu"
      },
      "source": [
        "SEED = 3407"
      ],
      "execution_count": 5,
      "outputs": []
    },
    {
      "cell_type": "code",
      "metadata": {
        "id": "boDxyIqnaLWk"
      },
      "source": [
        "seed_everything(SEED)"
      ],
      "execution_count": 6,
      "outputs": []
    },
    {
      "cell_type": "code",
      "metadata": {
        "colab": {
          "base_uri": "https://localhost:8080/"
        },
        "id": "DXul2nyXFW0P",
        "outputId": "73267bc9-c471-48ec-f228-80e0cb7f3379"
      },
      "source": [
        "!nvidia-smi"
      ],
      "execution_count": 7,
      "outputs": [
        {
          "output_type": "stream",
          "name": "stdout",
          "text": [
            "Sat Oct 30 16:40:02 2021       \n",
            "+-----------------------------------------------------------------------------+\n",
            "| NVIDIA-SMI 495.29.05    Driver Version: 460.32.03    CUDA Version: 11.2     |\n",
            "|-------------------------------+----------------------+----------------------+\n",
            "| GPU  Name        Persistence-M| Bus-Id        Disp.A | Volatile Uncorr. ECC |\n",
            "| Fan  Temp  Perf  Pwr:Usage/Cap|         Memory-Usage | GPU-Util  Compute M. |\n",
            "|                               |                      |               MIG M. |\n",
            "|===============================+======================+======================|\n",
            "|   0  Tesla K80           Off  | 00000000:00:04.0 Off |                    0 |\n",
            "| N/A   41C    P8    28W / 149W |      3MiB / 11441MiB |      0%      Default |\n",
            "|                               |                      |                  N/A |\n",
            "+-------------------------------+----------------------+----------------------+\n",
            "                                                                               \n",
            "+-----------------------------------------------------------------------------+\n",
            "| Processes:                                                                  |\n",
            "|  GPU   GI   CI        PID   Type   Process name                  GPU Memory |\n",
            "|        ID   ID                                                   Usage      |\n",
            "|=============================================================================|\n",
            "|  No running processes found                                                 |\n",
            "+-----------------------------------------------------------------------------+\n"
          ]
        }
      ]
    },
    {
      "cell_type": "code",
      "metadata": {
        "id": "Kw9h9j7uVNA9"
      },
      "source": [
        "!wget -q -O train.csv https://getfile.dokpub.com/yandex/get/https://disk.yandex.ru/d/fmWGQJvwU5ejog"
      ],
      "execution_count": 8,
      "outputs": []
    },
    {
      "cell_type": "code",
      "metadata": {
        "colab": {
          "base_uri": "https://localhost:8080/",
          "height": 204
        },
        "id": "mZ7lTlkyaG7u",
        "outputId": "3378611c-10d9-4e05-877c-cb72f3602c1e"
      },
      "source": [
        "df = pd.read_csv(\"train.csv\")\n",
        "df['list'] = df[df.columns[2:]].values.tolist()\n",
        "\n",
        "new_df = df[['text', 'list']].copy()\n",
        "new_df.head()"
      ],
      "execution_count": 9,
      "outputs": [
        {
          "output_type": "execute_result",
          "data": {
            "text/html": [
              "<div>\n",
              "<style scoped>\n",
              "    .dataframe tbody tr th:only-of-type {\n",
              "        vertical-align: middle;\n",
              "    }\n",
              "\n",
              "    .dataframe tbody tr th {\n",
              "        vertical-align: top;\n",
              "    }\n",
              "\n",
              "    .dataframe thead th {\n",
              "        text-align: right;\n",
              "    }\n",
              "</style>\n",
              "<table border=\"1\" class=\"dataframe\">\n",
              "  <thead>\n",
              "    <tr style=\"text-align: right;\">\n",
              "      <th></th>\n",
              "      <th>text</th>\n",
              "      <th>list</th>\n",
              "    </tr>\n",
              "  </thead>\n",
              "  <tbody>\n",
              "    <tr>\n",
              "      <th>0</th>\n",
              "      <td>Корова, видимо вставая, раздавила себе сосок. ...</td>\n",
              "      <td>[0, 0, 0, 0, 1, 0, 0, 0, 0, 0, 0]</td>\n",
              "    </tr>\n",
              "    <tr>\n",
              "      <th>1</th>\n",
              "      <td>Корове 8 лет! Месяц назад промеж четвертей вым...</td>\n",
              "      <td>[0, 0, 0, 0, 0, 0, 0, 0, 1, 1, 1]</td>\n",
              "    </tr>\n",
              "    <tr>\n",
              "      <th>2</th>\n",
              "      <td>Молоко течёт само у коровы. Что делать, если у...</td>\n",
              "      <td>[0, 0, 0, 0, 1, 0, 1, 0, 0, 0, 0]</td>\n",
              "    </tr>\n",
              "    <tr>\n",
              "      <th>3</th>\n",
              "      <td>У нетели болячки на вымени.\\nЗдравствуйте. Нет...</td>\n",
              "      <td>[0, 0, 0, 0, 0, 0, 0, 0, 1, 1, 1]</td>\n",
              "    </tr>\n",
              "    <tr>\n",
              "      <th>4</th>\n",
              "      <td>У меня первотелка, на днях отёл, у неё левый п...</td>\n",
              "      <td>[0, 0, 0, 0, 1, 0, 0, 0, 0, 0, 0]</td>\n",
              "    </tr>\n",
              "  </tbody>\n",
              "</table>\n",
              "</div>"
            ],
            "text/plain": [
              "                                                text                               list\n",
              "0  Корова, видимо вставая, раздавила себе сосок. ...  [0, 0, 0, 0, 1, 0, 0, 0, 0, 0, 0]\n",
              "1  Корове 8 лет! Месяц назад промеж четвертей вым...  [0, 0, 0, 0, 0, 0, 0, 0, 1, 1, 1]\n",
              "2  Молоко течёт само у коровы. Что делать, если у...  [0, 0, 0, 0, 1, 0, 1, 0, 0, 0, 0]\n",
              "3  У нетели болячки на вымени.\\nЗдравствуйте. Нет...  [0, 0, 0, 0, 0, 0, 0, 0, 1, 1, 1]\n",
              "4  У меня первотелка, на днях отёл, у неё левый п...  [0, 0, 0, 0, 1, 0, 0, 0, 0, 0, 0]"
            ]
          },
          "metadata": {},
          "execution_count": 9
        }
      ]
    },
    {
      "cell_type": "code",
      "metadata": {
        "id": "ikfbFlNHgi8T"
      },
      "source": [
        "model_checkpoint = \"cointegrated/rubert-tiny2\"\n",
        "# model_checkpoint = \"sberbank-ai/ruRoberta-large\"\n",
        "tokenizer = AutoTokenizer.from_pretrained(model_checkpoint)"
      ],
      "execution_count": 10,
      "outputs": []
    },
    {
      "cell_type": "code",
      "metadata": {
        "id": "P5HxQYndIK1_"
      },
      "source": [
        "MAX_LEN = 1024\n",
        "TRAIN_BATCH_SIZE = 8\n",
        "VALID_BATCH_SIZE = 4"
      ],
      "execution_count": 11,
      "outputs": []
    },
    {
      "cell_type": "code",
      "metadata": {
        "id": "oFOylAXqiNYK"
      },
      "source": [
        "class CustomDataset(Dataset):\n",
        "\n",
        "    def __init__(self, dataframe, tokenizer, max_len):\n",
        "        self.tokenizer = tokenizer\n",
        "        self.data = dataframe\n",
        "        self.text = dataframe.text\n",
        "        self.targets = self.data.list\n",
        "        self.max_len = max_len\n",
        "\n",
        "    def __len__(self):\n",
        "        return len(self.text)\n",
        "\n",
        "    def __getitem__(self, index):\n",
        "        text = str(self.text[index])\n",
        "        text = \" \".join(text.split())\n",
        "        \n",
        "        \n",
        "        inputs = self.tokenizer.encode_plus(\n",
        "            text,\n",
        "            None,\n",
        "            add_special_tokens=True,\n",
        "            max_length=MAX_LEN,\n",
        "            pad_to_max_length=True,\n",
        "            truncation=True,\n",
        "            return_token_type_ids=True\n",
        "        )\n",
        "        ids = inputs['input_ids']\n",
        "        mask = inputs['attention_mask']\n",
        "        token_type_ids = inputs[\"token_type_ids\"]\n",
        "\n",
        "\n",
        "        return {\n",
        "            'ids': torch.tensor(ids, dtype=torch.long),\n",
        "            'mask': torch.tensor(mask, dtype=torch.long),\n",
        "            'token_type_ids': torch.tensor(token_type_ids, dtype=torch.long),\n",
        "            'targets': torch.tensor(self.targets[index], dtype=torch.float)\n",
        "        }"
      ],
      "execution_count": 12,
      "outputs": []
    },
    {
      "cell_type": "code",
      "metadata": {
        "colab": {
          "base_uri": "https://localhost:8080/"
        },
        "id": "PkDGqarcPowL",
        "scrolled": true,
        "outputId": "e591ba66-2948-40ec-b4a8-3369876528de"
      },
      "source": [
        "train_size = 1\n",
        "train_dataset = new_df.sample(frac=train_size, random_state=200)\n",
        "# test_dataset = new_df.drop(train_dataset.index).reset_index(drop=True)\n",
        "train_dataset = train_dataset.reset_index(drop=True)\n",
        "\n",
        "\n",
        "print(\"FULL Dataset: {}\".format(new_df.shape))\n",
        "print(\"TRAIN Dataset: {}\".format(train_dataset.shape))\n",
        "# print(\"TEST Dataset: {}\".format(test_dataset.shape))\n",
        "\n",
        "training_set = CustomDataset(train_dataset, tokenizer, None)\n",
        "# testing_set = CustomDataset(test_dataset, tokenizer, None)"
      ],
      "execution_count": 14,
      "outputs": [
        {
          "output_type": "stream",
          "name": "stdout",
          "text": [
            "FULL Dataset: (294, 2)\n",
            "TRAIN Dataset: (294, 2)\n"
          ]
        }
      ]
    },
    {
      "cell_type": "code",
      "metadata": {
        "colab": {
          "base_uri": "https://localhost:8080/"
        },
        "id": "ZiJsGdz3agx8",
        "outputId": "f745fe2b-da84-4b5d-c58c-c6fda9e6a57f"
      },
      "source": [
        "def seed_worker(worker_id):\n",
        "    worker_seed = torch.initial_seed() % 2**32\n",
        "    # numpy.random.seed(worker_seed)\n",
        "    # random.seed(worker_seed)\n",
        "\n",
        "g = torch.Generator()\n",
        "g.manual_seed(SEED)"
      ],
      "execution_count": 15,
      "outputs": [
        {
          "output_type": "execute_result",
          "data": {
            "text/plain": [
              "<torch._C.Generator at 0x7ff77ddffd50>"
            ]
          },
          "metadata": {},
          "execution_count": 15
        }
      ]
    },
    {
      "cell_type": "code",
      "metadata": {
        "id": "MY2Xx5T0BJ2O"
      },
      "source": [
        "train_params = {'batch_size': TRAIN_BATCH_SIZE,\n",
        "                'shuffle': True,\n",
        "                'num_workers': 0,\n",
        "                'worker_init_fn' : seed_worker,\n",
        "                'generator': g\n",
        "                }\n",
        "\n",
        "# test_params = {'batch_size': VALID_BATCH_SIZE,\n",
        "#                 'shuffle': True,\n",
        "#                 'num_workers': 0,\n",
        "#                 'worker_init_fn' : seed_worker,\n",
        "#                 'generator': g\n",
        "#                 }\n",
        "\n",
        "training_loader = DataLoader(training_set, **train_params)\n",
        "# testing_loader = DataLoader(testing_set, **test_params)"
      ],
      "execution_count": 16,
      "outputs": []
    },
    {
      "cell_type": "code",
      "metadata": {
        "id": "eLMbpQCDBHz3"
      },
      "source": [
        "from lsep_loss import LSEPLoss\n",
        "def lsep_fn(outputs, targets):\n",
        "    return LSEPLoss()(outputs, targets)\n",
        "\n",
        "def loss_fn(outputs, targets):\n",
        "    return torch.nn.MultiLabelSoftMarginLoss()(outputs, targets)"
      ],
      "execution_count": 17,
      "outputs": []
    },
    {
      "cell_type": "code",
      "metadata": {
        "colab": {
          "base_uri": "https://localhost:8080/"
        },
        "id": "DegHNyIEQxB2",
        "scrolled": true,
        "outputId": "1b6f0c3d-9240-4497-ae92-858a5e882c48"
      },
      "source": [
        "# class BERTClass(torch.nn.Module):\n",
        "#     def __init__(self):\n",
        "#         super(BERTClass, self).__init__()\n",
        "#         self.l1 = AutoModelForSequenceClassification.from_pretrained(model_checkpoint, num_labels=11, output_attentions=True)\n",
        "# #         self.l2 = torch.nn.Dropout(0.3)\n",
        "# #         self.l3 = torch.nn.Linear(768, 11)\n",
        "    \n",
        "#     def forward(self, ids, mask, token_type_ids):\n",
        "#         output = self.l1(ids, attention_mask = mask, token_type_ids = token_type_ids)\n",
        "# #         output_2 = self.l2(output_1)\n",
        "# #         output = self.l3(output_2)\n",
        "#         return output\n",
        "\n",
        "model = AutoModelForSequenceClassification.from_pretrained(model_checkpoint, num_labels=11, output_attentions=True)\n",
        "model.to(device);"
      ],
      "execution_count": 18,
      "outputs": [
        {
          "output_type": "stream",
          "name": "stderr",
          "text": [
            "Some weights of the model checkpoint at cointegrated/rubert-tiny2 were not used when initializing BertForSequenceClassification: ['cls.predictions.decoder.bias', 'cls.predictions.transform.LayerNorm.bias', 'cls.seq_relationship.bias', 'cls.predictions.bias', 'cls.predictions.transform.LayerNorm.weight', 'cls.predictions.decoder.weight', 'cls.predictions.transform.dense.weight', 'cls.predictions.transform.dense.bias', 'cls.seq_relationship.weight']\n",
            "- This IS expected if you are initializing BertForSequenceClassification from the checkpoint of a model trained on another task or with another architecture (e.g. initializing a BertForSequenceClassification model from a BertForPreTraining model).\n",
            "- This IS NOT expected if you are initializing BertForSequenceClassification from the checkpoint of a model that you expect to be exactly identical (initializing a BertForSequenceClassification model from a BertForSequenceClassification model).\n",
            "Some weights of BertForSequenceClassification were not initialized from the model checkpoint at cointegrated/rubert-tiny2 and are newly initialized: ['classifier.bias', 'classifier.weight']\n",
            "You should probably TRAIN this model on a down-stream task to be able to use it for predictions and inference.\n"
          ]
        }
      ]
    },
    {
      "cell_type": "code",
      "metadata": {
        "id": "gUD8j0c7WsA-"
      },
      "source": [
        "LR = 0.0001\n",
        "EPOCH = 16\n",
        "\n",
        "optimizer = torch.optim.Adam(params=model.parameters(), lr=LR)\n",
        "# scheduler = torch.optim.lr_scheduler.ExponentialLR(optimizer, 0.95)"
      ],
      "execution_count": 19,
      "outputs": []
    },
    {
      "cell_type": "code",
      "metadata": {
        "id": "B9_DjWmfWx1q"
      },
      "source": [
        "def train(epoch):\n",
        "    model.train()\n",
        "\n",
        "    for ep in range(1, epoch+1):\n",
        "        for _, data in enumerate(training_loader, 0):\n",
        "            ids = data['ids'].to(device, dtype = torch.long)\n",
        "            mask = data['mask'].to(device, dtype = torch.long)\n",
        "            token_type_ids = data['token_type_ids'].to(device, dtype = torch.long)\n",
        "            targets = data['targets'].to(device, dtype = torch.float)\n",
        "\n",
        "            outputs = model(ids, mask, token_type_ids)['logits']\n",
        "            \n",
        "            loss = lsep_fn(outputs, targets)\n",
        "            if _ % 5000 == 0:\n",
        "                print(f'Epoch: {ep}, Loss:  {loss.item()}')\n",
        "            \n",
        "            optimizer.zero_grad()\n",
        "            loss.backward()\n",
        "            optimizer.step()\n",
        "            # scheduler.step()"
      ],
      "execution_count": 20,
      "outputs": []
    },
    {
      "cell_type": "code",
      "metadata": {
        "colab": {
          "base_uri": "https://localhost:8080/"
        },
        "collapsed": true,
        "id": "D4Yl7gXHYSRU",
        "outputId": "f3ff01df-4ce0-45d9-f769-4e370ba32b61"
      },
      "source": [
        "train(EPOCH)"
      ],
      "execution_count": 21,
      "outputs": [
        {
          "output_type": "stream",
          "name": "stderr",
          "text": [
            "/usr/local/lib/python3.7/dist-packages/transformers/tokenization_utils_base.py:2218: FutureWarning: The `pad_to_max_length` argument is deprecated and will be removed in a future version, use `padding=True` or `padding='longest'` to pad to the longest sequence in the batch, or use `padding='max_length'` to pad to a max length. In this case, you can give a specific length with `max_length` (e.g. `max_length=45`) or leave max_length to None to pad to the maximal input size of the model (e.g. 512 for Bert).\n",
            "  FutureWarning,\n"
          ]
        },
        {
          "output_type": "stream",
          "name": "stdout",
          "text": [
            "Epoch: 1, Loss:  4.908163070678711\n",
            "Epoch: 2, Loss:  4.733373641967773\n",
            "Epoch: 3, Loss:  4.61601448059082\n",
            "Epoch: 4, Loss:  3.78558087348938\n",
            "Epoch: 5, Loss:  3.3926949501037598\n",
            "Epoch: 6, Loss:  2.975013256072998\n",
            "Epoch: 7, Loss:  2.3513426780700684\n",
            "Epoch: 8, Loss:  2.345792055130005\n",
            "Epoch: 9, Loss:  1.6584057807922363\n",
            "Epoch: 10, Loss:  1.5757291316986084\n",
            "Epoch: 11, Loss:  1.2364106178283691\n",
            "Epoch: 12, Loss:  0.9897606372833252\n",
            "Epoch: 13, Loss:  0.6624155044555664\n",
            "Epoch: 14, Loss:  1.1023290157318115\n",
            "Epoch: 15, Loss:  0.3205821216106415\n",
            "Epoch: 16, Loss:  0.3095798194408417\n"
          ]
        }
      ]
    },
    {
      "cell_type": "code",
      "metadata": {
        "id": "nIEoUm4aQkyl"
      },
      "source": [
        "def log_loss_score(gt, pr):\n",
        "    \n",
        "    log_loss_ = 0\n",
        "    \n",
        "    gt = np.array(gt)\n",
        "    \n",
        "    for i in range(10):\n",
        "        log_loss_ += log_loss(gt[:, i], pr[:, i])\n",
        "        \n",
        "    return log_loss_ / 10\n",
        "\n",
        "    \n",
        "def validation():\n",
        "    model.eval()\n",
        "    fin_targets=[]\n",
        "    fin_outputs=[]\n",
        "    with torch.no_grad():\n",
        "        for _, data in enumerate(testing_loader, 0):\n",
        "            ids = data['ids'].to(device, dtype = torch.long)\n",
        "            mask = data['mask'].to(device, dtype = torch.long)\n",
        "            token_type_ids = data['token_type_ids'].to(device, dtype = torch.long)\n",
        "            targets = data['targets'].to(device, dtype = torch.float)\n",
        "\n",
        "            outputs = model(ids, mask, token_type_ids)['logits']\n",
        "\n",
        "            fin_targets.extend(targets.cpu().detach().numpy().tolist())\n",
        "            fin_outputs.extend(torch.sigmoid(outputs).cpu().detach().numpy().tolist())\n",
        "            \n",
        "    return fin_outputs, fin_targets"
      ],
      "execution_count": 22,
      "outputs": []
    },
    {
      "cell_type": "code",
      "metadata": {
        "id": "Ov1_3R_pAcMo"
      },
      "source": [
        "outputs, targets = validation()\n",
        "outputs = np.array(outputs)\n",
        "lg = log_loss_score(targets, outputs)\n",
        "\n",
        "print(f\"log_loss = {lg}\")\n",
        "print(f\"log_score = {1 - lg}\")\n",
        "print(f\"log_score * 0.8 = {(1 - lg) * 0.8}\")\n"
      ],
      "execution_count": null,
      "outputs": []
    },
    {
      "cell_type": "code",
      "metadata": {
        "id": "CnhIv5GcL8-I"
      },
      "source": [
        "model.save_pretrained('./my_model_directory/')"
      ],
      "execution_count": null,
      "outputs": []
    },
    {
      "cell_type": "code",
      "metadata": {
        "colab": {
          "base_uri": "https://localhost:8080/"
        },
        "id": "b7spFEp3_8QG",
        "outputId": "c8727796-f888-4db1-fa85-7629414827de"
      },
      "source": [
        "!wget -O test.csv https://getfile.dokpub.com/yandex/get/https://disk.yandex.ru/d/Wo70d4_PAwujqA"
      ],
      "execution_count": 23,
      "outputs": [
        {
          "output_type": "stream",
          "name": "stdout",
          "text": [
            "--2021-10-30 16:52:55--  https://getfile.dokpub.com/yandex/get/https://disk.yandex.ru/d/Wo70d4_PAwujqA\n",
            "Resolving getfile.dokpub.com (getfile.dokpub.com)... 78.46.92.107\n",
            "Connecting to getfile.dokpub.com (getfile.dokpub.com)|78.46.92.107|:443... connected.\n",
            "HTTP request sent, awaiting response... 302 Moved Temporarily\n",
            "Location: https://downloader.disk.yandex.ru/disk/8022b04c52486df8c82d7be76e7902aed39ad28b23d6bf2a7c35a0e2fcd23e73/617db096/Qm4uol8YwDWoNMl-QrexyAzTHoiTcsXriLWHBMrXfPyevn-ErDVwHXuhEdaJZb3YBlvB00IkXfr6I2b0I_fWfw%3D%3D?uid=0&filename=test.csv&disposition=attachment&hash=p%2B0DopV%2BDMXvVr6WS79GMCvyj9ce6f/MKRhEK/8iSFQUuH/GP3sKCJPonx3kgX%2Bbq/J6bpmRyOJonT3VoXnDag%3D%3D%3A&limit=0&content_type=text%2Fplain&owner_uid=331117880&fsize=57137&hid=1b8254245ab772eb965757e08d9a8211&media_type=spreadsheet&tknv=v2 [following]\n",
            "--2021-10-30 16:52:55--  https://downloader.disk.yandex.ru/disk/8022b04c52486df8c82d7be76e7902aed39ad28b23d6bf2a7c35a0e2fcd23e73/617db096/Qm4uol8YwDWoNMl-QrexyAzTHoiTcsXriLWHBMrXfPyevn-ErDVwHXuhEdaJZb3YBlvB00IkXfr6I2b0I_fWfw%3D%3D?uid=0&filename=test.csv&disposition=attachment&hash=p%2B0DopV%2BDMXvVr6WS79GMCvyj9ce6f/MKRhEK/8iSFQUuH/GP3sKCJPonx3kgX%2Bbq/J6bpmRyOJonT3VoXnDag%3D%3D%3A&limit=0&content_type=text%2Fplain&owner_uid=331117880&fsize=57137&hid=1b8254245ab772eb965757e08d9a8211&media_type=spreadsheet&tknv=v2\n",
            "Resolving downloader.disk.yandex.ru (downloader.disk.yandex.ru)... 77.88.21.127, 2a02:6b8::2:127\n",
            "Connecting to downloader.disk.yandex.ru (downloader.disk.yandex.ru)|77.88.21.127|:443... connected.\n",
            "HTTP request sent, awaiting response... 302 Found\n",
            "Location: https://s316vla.storage.yandex.net/rdisk/8022b04c52486df8c82d7be76e7902aed39ad28b23d6bf2a7c35a0e2fcd23e73/617db096/Qm4uol8YwDWoNMl-QrexyAzTHoiTcsXriLWHBMrXfPyevn-ErDVwHXuhEdaJZb3YBlvB00IkXfr6I2b0I_fWfw==?uid=0&filename=test.csv&disposition=attachment&hash=p%2B0DopV%2BDMXvVr6WS79GMCvyj9ce6f/MKRhEK/8iSFQUuH/GP3sKCJPonx3kgX%2Bbq/J6bpmRyOJonT3VoXnDag%3D%3D%3A&limit=0&content_type=text%2Fplain&owner_uid=331117880&fsize=57137&hid=1b8254245ab772eb965757e08d9a8211&media_type=spreadsheet&tknv=v2&rtoken=AXFD7X6cRylC&force_default=no&ycrid=na-f07825781103db3a465bc522b0a4544a-downloader8f&ts=5cf981fbcd180&s=1b1571c9182eb0cf53310609207fdb65a88ab14b910109db557f557879c1cf93&pb=U2FsdGVkX1_xdF_yDPIrWJ7xhs3L4c8wTIujx1FoJstkvUJUKY357yf9b9Kj7KZsH_nbEZ3Z6SGwvgL4-fXHKVczZM3oG3PDuxf7-A7pFlo [following]\n",
            "--2021-10-30 16:52:55--  https://s316vla.storage.yandex.net/rdisk/8022b04c52486df8c82d7be76e7902aed39ad28b23d6bf2a7c35a0e2fcd23e73/617db096/Qm4uol8YwDWoNMl-QrexyAzTHoiTcsXriLWHBMrXfPyevn-ErDVwHXuhEdaJZb3YBlvB00IkXfr6I2b0I_fWfw==?uid=0&filename=test.csv&disposition=attachment&hash=p%2B0DopV%2BDMXvVr6WS79GMCvyj9ce6f/MKRhEK/8iSFQUuH/GP3sKCJPonx3kgX%2Bbq/J6bpmRyOJonT3VoXnDag%3D%3D%3A&limit=0&content_type=text%2Fplain&owner_uid=331117880&fsize=57137&hid=1b8254245ab772eb965757e08d9a8211&media_type=spreadsheet&tknv=v2&rtoken=AXFD7X6cRylC&force_default=no&ycrid=na-f07825781103db3a465bc522b0a4544a-downloader8f&ts=5cf981fbcd180&s=1b1571c9182eb0cf53310609207fdb65a88ab14b910109db557f557879c1cf93&pb=U2FsdGVkX1_xdF_yDPIrWJ7xhs3L4c8wTIujx1FoJstkvUJUKY357yf9b9Kj7KZsH_nbEZ3Z6SGwvgL4-fXHKVczZM3oG3PDuxf7-A7pFlo\n",
            "Resolving s316vla.storage.yandex.net (s316vla.storage.yandex.net)... 77.88.33.244, 2a02:6b8:c0e:a8c:0:41af:9895:9487\n",
            "Connecting to s316vla.storage.yandex.net (s316vla.storage.yandex.net)|77.88.33.244|:443... connected.\n",
            "HTTP request sent, awaiting response... 200 OK\n",
            "Length: 57137 (56K) [text/plain]\n",
            "Saving to: ‘test.csv’\n",
            "\n",
            "test.csv            100%[===================>]  55.80K  --.-KB/s    in 0.09s   \n",
            "\n",
            "2021-10-30 16:52:56 (619 KB/s) - ‘test.csv’ saved [57137/57137]\n",
            "\n"
          ]
        }
      ]
    },
    {
      "cell_type": "code",
      "metadata": {
        "id": "c7VOO06fHru5"
      },
      "source": [
        "test = pd.read_csv('test.csv')"
      ],
      "execution_count": 33,
      "outputs": []
    },
    {
      "cell_type": "code",
      "metadata": {
        "colab": {
          "base_uri": "https://localhost:8080/",
          "height": 204
        },
        "id": "faCnlFLhIHVj",
        "outputId": "f4d9eaa0-768c-4247-8af0-e37a20013dd5"
      },
      "source": [
        "test['list'] = test[test.columns[2:]].values.tolist()\n",
        "\n",
        "new_df_test = test[['text', 'list']].copy()\n",
        "new_df_test.head()"
      ],
      "execution_count": 34,
      "outputs": [
        {
          "output_type": "execute_result",
          "data": {
            "text/html": [
              "<div>\n",
              "<style scoped>\n",
              "    .dataframe tbody tr th:only-of-type {\n",
              "        vertical-align: middle;\n",
              "    }\n",
              "\n",
              "    .dataframe tbody tr th {\n",
              "        vertical-align: top;\n",
              "    }\n",
              "\n",
              "    .dataframe thead th {\n",
              "        text-align: right;\n",
              "    }\n",
              "</style>\n",
              "<table border=\"1\" class=\"dataframe\">\n",
              "  <thead>\n",
              "    <tr style=\"text-align: right;\">\n",
              "      <th></th>\n",
              "      <th>text</th>\n",
              "      <th>list</th>\n",
              "    </tr>\n",
              "  </thead>\n",
              "  <tbody>\n",
              "    <tr>\n",
              "      <th>0</th>\n",
              "      <td>Понос у месячных телят. Подскажите методы и сп...</td>\n",
              "      <td>[]</td>\n",
              "    </tr>\n",
              "    <tr>\n",
              "      <th>1</th>\n",
              "      <td>Понос у телят, чем лечить? \\nЧем можно вылечит...</td>\n",
              "      <td>[]</td>\n",
              "    </tr>\n",
              "    <tr>\n",
              "      <th>2</th>\n",
              "      <td>По какой причине у телёнка отнимаются ноги?\\nП...</td>\n",
              "      <td>[]</td>\n",
              "    </tr>\n",
              "    <tr>\n",
              "      <th>3</th>\n",
              "      <td>Срочно! Ребятки, помогите, корову что-то укуси...</td>\n",
              "      <td>[]</td>\n",
              "    </tr>\n",
              "    <tr>\n",
              "      <th>4</th>\n",
              "      <td>Сгустки у коровы.\\nЗдравствуйте, помогите пожа...</td>\n",
              "      <td>[]</td>\n",
              "    </tr>\n",
              "  </tbody>\n",
              "</table>\n",
              "</div>"
            ],
            "text/plain": [
              "                                                text list\n",
              "0  Понос у месячных телят. Подскажите методы и сп...   []\n",
              "1  Понос у телят, чем лечить? \\nЧем можно вылечит...   []\n",
              "2  По какой причине у телёнка отнимаются ноги?\\nП...   []\n",
              "3  Срочно! Ребятки, помогите, корову что-то укуси...   []\n",
              "4  Сгустки у коровы.\\nЗдравствуйте, помогите пожа...   []"
            ]
          },
          "metadata": {},
          "execution_count": 34
        }
      ]
    },
    {
      "cell_type": "code",
      "metadata": {
        "colab": {
          "base_uri": "https://localhost:8080/"
        },
        "id": "oUIZoS3nH01z",
        "outputId": "458b9699-b4b0-43ce-cd1c-7ad84be40adc"
      },
      "source": [
        "test_dataset = new_df_test.reset_index(drop=True)\n",
        "\n",
        "\n",
        "# print(\"FULL Dataset: {}\".format(new_df.shape))\n",
        "# print(\"TRAIN Dataset: {}\".format(train_dataset.shape))\n",
        "print(\"TEST Dataset: {}\".format(test_dataset.shape))\n",
        "\n",
        "# training_set = CustomDataset(train_dataset, tokenizer, None)\n",
        "testing_set = CustomDataset(test_dataset, tokenizer, None)"
      ],
      "execution_count": 36,
      "outputs": [
        {
          "output_type": "stream",
          "name": "stdout",
          "text": [
            "TEST Dataset: (99, 2)\n"
          ]
        }
      ]
    },
    {
      "cell_type": "code",
      "metadata": {
        "id": "3FjgHvl8IuIJ"
      },
      "source": [
        "test_params = {'batch_size': VALID_BATCH_SIZE,\n",
        "                'shuffle': False,\n",
        "                'num_workers': 0,\n",
        "                'worker_init_fn' : seed_worker,\n",
        "                'generator': g\n",
        "                }\n",
        "\n",
        "testing_loader = DataLoader(testing_set, **test_params)"
      ],
      "execution_count": 37,
      "outputs": []
    },
    {
      "cell_type": "code",
      "metadata": {
        "colab": {
          "base_uri": "https://localhost:8080/"
        },
        "id": "vnXrvmM3I20r",
        "outputId": "6557a608-4f01-49ba-95b5-966d6f7b60af"
      },
      "source": [
        "model.eval()\n",
        "fin_targets = []\n",
        "fin_outputs=[]\n",
        "with torch.no_grad():\n",
        "    for _, data in enumerate(testing_loader, 0):\n",
        "        ids = data['ids'].to(device, dtype = torch.long)\n",
        "        mask = data['mask'].to(device, dtype = torch.long)\n",
        "        token_type_ids = data['token_type_ids'].to(device, dtype = torch.long)\n",
        "        targets = data['targets'].to(device, dtype = torch.float)\n",
        "\n",
        "        outputs = model(ids, mask, token_type_ids)['logits']\n",
        "\n",
        "        # fin_targets.extend(targets.cpu().detach().numpy().tolist())\n",
        "        fin_outputs.extend(torch.sigmoid(outputs).cpu().detach().numpy().tolist())"
      ],
      "execution_count": 39,
      "outputs": [
        {
          "output_type": "stream",
          "name": "stderr",
          "text": [
            "/usr/local/lib/python3.7/dist-packages/transformers/tokenization_utils_base.py:2218: FutureWarning: The `pad_to_max_length` argument is deprecated and will be removed in a future version, use `padding=True` or `padding='longest'` to pad to the longest sequence in the batch, or use `padding='max_length'` to pad to a max length. In this case, you can give a specific length with `max_length` (e.g. `max_length=45`) or leave max_length to None to pad to the maximal input size of the model (e.g. 512 for Bert).\n",
            "  FutureWarning,\n"
          ]
        }
      ]
    },
    {
      "cell_type": "code",
      "metadata": {
        "colab": {
          "base_uri": "https://localhost:8080/",
          "height": 419
        },
        "id": "WS36V5r1JbC5",
        "outputId": "21a29367-17a8-45f9-d751-6f88fce50d1f"
      },
      "source": [
        ""
      ],
      "execution_count": 44,
      "outputs": [
        {
          "output_type": "execute_result",
          "data": {
            "text/html": [
              "<div>\n",
              "<style scoped>\n",
              "    .dataframe tbody tr th:only-of-type {\n",
              "        vertical-align: middle;\n",
              "    }\n",
              "\n",
              "    .dataframe tbody tr th {\n",
              "        vertical-align: top;\n",
              "    }\n",
              "\n",
              "    .dataframe thead th {\n",
              "        text-align: right;\n",
              "    }\n",
              "</style>\n",
              "<table border=\"1\" class=\"dataframe\">\n",
              "  <thead>\n",
              "    <tr style=\"text-align: right;\">\n",
              "      <th></th>\n",
              "      <th>0</th>\n",
              "      <th>1</th>\n",
              "      <th>2</th>\n",
              "      <th>3</th>\n",
              "      <th>4</th>\n",
              "      <th>5</th>\n",
              "      <th>6</th>\n",
              "      <th>7</th>\n",
              "      <th>8</th>\n",
              "      <th>9</th>\n",
              "    </tr>\n",
              "  </thead>\n",
              "  <tbody>\n",
              "    <tr>\n",
              "      <th>0</th>\n",
              "      <td>0.984777</td>\n",
              "      <td>0.028533</td>\n",
              "      <td>0.989156</td>\n",
              "      <td>0.972996</td>\n",
              "      <td>0.016312</td>\n",
              "      <td>0.017636</td>\n",
              "      <td>0.010771</td>\n",
              "      <td>0.017411</td>\n",
              "      <td>0.019658</td>\n",
              "      <td>0.024005</td>\n",
              "    </tr>\n",
              "    <tr>\n",
              "      <th>1</th>\n",
              "      <td>0.968251</td>\n",
              "      <td>0.018059</td>\n",
              "      <td>0.968448</td>\n",
              "      <td>0.904556</td>\n",
              "      <td>0.007197</td>\n",
              "      <td>0.034855</td>\n",
              "      <td>0.005033</td>\n",
              "      <td>0.011681</td>\n",
              "      <td>0.020398</td>\n",
              "      <td>0.017916</td>\n",
              "    </tr>\n",
              "    <tr>\n",
              "      <th>2</th>\n",
              "      <td>0.161530</td>\n",
              "      <td>0.029631</td>\n",
              "      <td>0.030454</td>\n",
              "      <td>0.043099</td>\n",
              "      <td>0.007818</td>\n",
              "      <td>0.034194</td>\n",
              "      <td>0.005407</td>\n",
              "      <td>0.929650</td>\n",
              "      <td>0.032584</td>\n",
              "      <td>0.013099</td>\n",
              "    </tr>\n",
              "    <tr>\n",
              "      <th>3</th>\n",
              "      <td>0.183778</td>\n",
              "      <td>0.004575</td>\n",
              "      <td>0.012023</td>\n",
              "      <td>0.014413</td>\n",
              "      <td>0.017741</td>\n",
              "      <td>0.097294</td>\n",
              "      <td>0.010190</td>\n",
              "      <td>0.036662</td>\n",
              "      <td>0.646961</td>\n",
              "      <td>0.054183</td>\n",
              "    </tr>\n",
              "    <tr>\n",
              "      <th>4</th>\n",
              "      <td>0.015656</td>\n",
              "      <td>0.076258</td>\n",
              "      <td>0.008621</td>\n",
              "      <td>0.006102</td>\n",
              "      <td>0.433398</td>\n",
              "      <td>0.012469</td>\n",
              "      <td>0.248799</td>\n",
              "      <td>0.005941</td>\n",
              "      <td>0.063254</td>\n",
              "      <td>0.023349</td>\n",
              "    </tr>\n",
              "    <tr>\n",
              "      <th>...</th>\n",
              "      <td>...</td>\n",
              "      <td>...</td>\n",
              "      <td>...</td>\n",
              "      <td>...</td>\n",
              "      <td>...</td>\n",
              "      <td>...</td>\n",
              "      <td>...</td>\n",
              "      <td>...</td>\n",
              "      <td>...</td>\n",
              "      <td>...</td>\n",
              "    </tr>\n",
              "    <tr>\n",
              "      <th>94</th>\n",
              "      <td>0.982812</td>\n",
              "      <td>0.020811</td>\n",
              "      <td>0.978432</td>\n",
              "      <td>0.950763</td>\n",
              "      <td>0.011397</td>\n",
              "      <td>0.014183</td>\n",
              "      <td>0.009994</td>\n",
              "      <td>0.016664</td>\n",
              "      <td>0.015911</td>\n",
              "      <td>0.022440</td>\n",
              "    </tr>\n",
              "    <tr>\n",
              "      <th>95</th>\n",
              "      <td>0.823035</td>\n",
              "      <td>0.005850</td>\n",
              "      <td>0.499800</td>\n",
              "      <td>0.302551</td>\n",
              "      <td>0.177266</td>\n",
              "      <td>0.005724</td>\n",
              "      <td>0.013169</td>\n",
              "      <td>0.009183</td>\n",
              "      <td>0.019087</td>\n",
              "      <td>0.013825</td>\n",
              "    </tr>\n",
              "    <tr>\n",
              "      <th>96</th>\n",
              "      <td>0.026396</td>\n",
              "      <td>0.138370</td>\n",
              "      <td>0.017271</td>\n",
              "      <td>0.012831</td>\n",
              "      <td>0.029274</td>\n",
              "      <td>0.009364</td>\n",
              "      <td>0.010733</td>\n",
              "      <td>0.025791</td>\n",
              "      <td>0.080594</td>\n",
              "      <td>0.012028</td>\n",
              "    </tr>\n",
              "    <tr>\n",
              "      <th>97</th>\n",
              "      <td>0.012397</td>\n",
              "      <td>0.209737</td>\n",
              "      <td>0.013350</td>\n",
              "      <td>0.014576</td>\n",
              "      <td>0.104449</td>\n",
              "      <td>0.009924</td>\n",
              "      <td>0.838528</td>\n",
              "      <td>0.058541</td>\n",
              "      <td>0.039586</td>\n",
              "      <td>0.063909</td>\n",
              "    </tr>\n",
              "    <tr>\n",
              "      <th>98</th>\n",
              "      <td>0.936280</td>\n",
              "      <td>0.012175</td>\n",
              "      <td>0.732909</td>\n",
              "      <td>0.572840</td>\n",
              "      <td>0.009748</td>\n",
              "      <td>0.007889</td>\n",
              "      <td>0.001745</td>\n",
              "      <td>0.014753</td>\n",
              "      <td>0.035296</td>\n",
              "      <td>0.020498</td>\n",
              "    </tr>\n",
              "  </tbody>\n",
              "</table>\n",
              "<p>99 rows × 10 columns</p>\n",
              "</div>"
            ],
            "text/plain": [
              "           0         1         2  ...         7         8         9\n",
              "0   0.984777  0.028533  0.989156  ...  0.017411  0.019658  0.024005\n",
              "1   0.968251  0.018059  0.968448  ...  0.011681  0.020398  0.017916\n",
              "2   0.161530  0.029631  0.030454  ...  0.929650  0.032584  0.013099\n",
              "3   0.183778  0.004575  0.012023  ...  0.036662  0.646961  0.054183\n",
              "4   0.015656  0.076258  0.008621  ...  0.005941  0.063254  0.023349\n",
              "..       ...       ...       ...  ...       ...       ...       ...\n",
              "94  0.982812  0.020811  0.978432  ...  0.016664  0.015911  0.022440\n",
              "95  0.823035  0.005850  0.499800  ...  0.009183  0.019087  0.013825\n",
              "96  0.026396  0.138370  0.017271  ...  0.025791  0.080594  0.012028\n",
              "97  0.012397  0.209737  0.013350  ...  0.058541  0.039586  0.063909\n",
              "98  0.936280  0.012175  0.732909  ...  0.014753  0.035296  0.020498\n",
              "\n",
              "[99 rows x 10 columns]"
            ]
          },
          "metadata": {},
          "execution_count": 44
        }
      ]
    },
    {
      "cell_type": "code",
      "metadata": {
        "colab": {
          "base_uri": "https://localhost:8080/"
        },
        "id": "jm6V4QRzJuVS",
        "outputId": "00e7cdc1-19cd-4a41-bf30-3fcc2538d79e"
      },
      "source": [
        "submission_columns"
      ],
      "execution_count": 48,
      "outputs": [
        {
          "output_type": "execute_result",
          "data": {
            "text/plain": [
              "['text_id']"
            ]
          },
          "metadata": {},
          "execution_count": 48
        }
      ]
    },
    {
      "cell_type": "code",
      "metadata": {
        "id": "6ZVLzS2kHlD0"
      },
      "source": [
        "submission_columns = ['text_id'] + list(df.columns[2:-2])\n",
        "submission = pd.concat([test['text_id'], pd.DataFrame(np.array(fin_outputs)[:, :10])], axis=1)\n",
        "submission.columns = submission_columns"
      ],
      "execution_count": 50,
      "outputs": []
    },
    {
      "cell_type": "code",
      "metadata": {
        "id": "T6M7mJM4KA1N"
      },
      "source": [
        "submission_json = {str(k): {\"span\": find_spans(test[test.text_id == k].text.item()), \"label\": list(v.values())} \\\n",
        "                   for k,v in submission.set_index('text_id').to_dict('index').items()}\n",
        "\n"
      ],
      "execution_count": 105,
      "outputs": []
    },
    {
      "cell_type": "code",
      "metadata": {
        "id": "tn0vjF03KFk8"
      },
      "source": [
        "import json\n",
        "with open('sample_submission1.json', 'w') as final_submit:\n",
        "    json.dump(submission_json, final_submit, indent=4)"
      ],
      "execution_count": 106,
      "outputs": []
    },
    {
      "cell_type": "code",
      "metadata": {
        "id": "2IEav-jLK2Z8"
      },
      "source": [
        "span_words = {'Лысые',\n",
        " 'Молоко',\n",
        " 'Отек',\n",
        " 'Отёк',\n",
        " 'Серку',\n",
        " 'бежит',\n",
        " 'бока',\n",
        " 'болячками',\n",
        " 'болячки',\n",
        " 'брюху',\n",
        " 'бугорки',\n",
        " 'будто',\n",
        " 'было',\n",
        " 'в',\n",
        " 'впалые',\n",
        " 'вымени',\n",
        " 'вымя',\n",
        " 'вяло',\n",
        " 'вялое',\n",
        " 'вялой',\n",
        " 'газы',\n",
        " 'гной',\n",
        " 'гнойные',\n",
        " 'горечи',\n",
        " 'горчить',\n",
        " 'горькие',\n",
        " 'горячий',\n",
        " 'густой',\n",
        " 'дойках',\n",
        " 'дугой',\n",
        " 'еды',\n",
        " 'ела',\n",
        " 'ест,',\n",
        " 'есть',\n",
        " 'жвачки',\n",
        " 'жиденький',\n",
        " 'жидкий',\n",
        " 'жидковат',\n",
        " 'жует',\n",
        " 'заднюю',\n",
        " 'зеленый',\n",
        " 'и',\n",
        " 'как',\n",
        " 'кал',\n",
        " 'кашлять',\n",
        " 'кожи',\n",
        " 'коричневые',\n",
        " 'корка',\n",
        " 'крем',\n",
        " 'кровью',\n",
        " 'лейкозной',\n",
        " 'лейкозными',\n",
        " 'лохо',\n",
        " 'маленькими',\n",
        " 'меньше',\n",
        " 'может',\n",
        " 'молоко',\n",
        " 'на',\n",
        " 'наступает',\n",
        " 'наступить',\n",
        " 'не',\n",
        " 'небыло',\n",
        " 'немного',\n",
        " 'нечего',\n",
        " 'нога',\n",
        " 'ногах',\n",
        " 'ногу',\n",
        " 'нос',\n",
        " 'объеме',\n",
        " 'опухла',\n",
        " 'опухоли',\n",
        " 'опухоль',\n",
        " 'от',\n",
        " 'отказался',\n",
        " 'отказываются',\n",
        " 'отравилась',\n",
        " 'отрыжки',\n",
        " 'отрыжкой',\n",
        " 'отёк',\n",
        " 'отёка',\n",
        " 'отёком',\n",
        " 'паратифа',\n",
        " 'парез',\n",
        " 'пить',\n",
        " 'плохо',\n",
        " 'по',\n",
        " 'подкожные',\n",
        " 'покашливает',\n",
        " 'покрылось',\n",
        " 'понос',\n",
        " 'поноса',\n",
        " 'поносили',\n",
        " 'поносит',\n",
        " 'поносить',\n",
        " 'послеродовой',\n",
        " 'постоянно',\n",
        " 'похудела',\n",
        " 'почти',\n",
        " 'появились',\n",
        " 'появляется',\n",
        " 'приподнят',\n",
        " 'промеж',\n",
        " 'пустой',\n",
        " 'пьёт',\n",
        " 'раздавила',\n",
        " 'с',\n",
        " 'себе',\n",
        " 'слабые',\n",
        " 'сливках',\n",
        " 'сливки',\n",
        " 'сопельками',\n",
        " 'сосках',\n",
        " 'соски',\n",
        " 'сосок',\n",
        " 'стал',\n",
        " 'стул',\n",
        " 'сухой',\n",
        " 'твёрдый',\n",
        " 'температура',\n",
        " 'течёт',\n",
        " 'точки',\n",
        " 'трястись',\n",
        " 'убавила',\n",
        " 'увеличение',\n",
        " 'удой',\n",
        " 'упала',\n",
        " 'уплотнение',\n",
        " 'участки',\n",
        " 'хвост',\n",
        " 'хромала',\n",
        " 'худеет',\n",
        " 'худеть',\n",
        " 'худоба',\n",
        " 'худой',\n",
        " 'четвертей',\n",
        " 'шишки',\n",
        " 'язвочек',\n",
        " 'язвочки',\n",
        " 'язвы'}"
      ],
      "execution_count": 57,
      "outputs": []
    },
    {
      "cell_type": "code",
      "metadata": {
        "colab": {
          "base_uri": "https://localhost:8080/",
          "height": 419
        },
        "id": "odbRxSLqL1Tr",
        "outputId": "81c56997-a0a4-405e-fd9f-2d0e75cc95c5"
      },
      "source": [
        "test"
      ],
      "execution_count": 58,
      "outputs": [
        {
          "output_type": "execute_result",
          "data": {
            "text/html": [
              "<div>\n",
              "<style scoped>\n",
              "    .dataframe tbody tr th:only-of-type {\n",
              "        vertical-align: middle;\n",
              "    }\n",
              "\n",
              "    .dataframe tbody tr th {\n",
              "        vertical-align: top;\n",
              "    }\n",
              "\n",
              "    .dataframe thead th {\n",
              "        text-align: right;\n",
              "    }\n",
              "</style>\n",
              "<table border=\"1\" class=\"dataframe\">\n",
              "  <thead>\n",
              "    <tr style=\"text-align: right;\">\n",
              "      <th></th>\n",
              "      <th>text_id</th>\n",
              "      <th>text</th>\n",
              "      <th>list</th>\n",
              "    </tr>\n",
              "  </thead>\n",
              "  <tbody>\n",
              "    <tr>\n",
              "      <th>0</th>\n",
              "      <td>294</td>\n",
              "      <td>Понос у месячных телят. Подскажите методы и сп...</td>\n",
              "      <td>[]</td>\n",
              "    </tr>\n",
              "    <tr>\n",
              "      <th>1</th>\n",
              "      <td>295</td>\n",
              "      <td>Понос у телят, чем лечить? \\nЧем можно вылечит...</td>\n",
              "      <td>[]</td>\n",
              "    </tr>\n",
              "    <tr>\n",
              "      <th>2</th>\n",
              "      <td>296</td>\n",
              "      <td>По какой причине у телёнка отнимаются ноги?\\nП...</td>\n",
              "      <td>[]</td>\n",
              "    </tr>\n",
              "    <tr>\n",
              "      <th>3</th>\n",
              "      <td>297</td>\n",
              "      <td>Срочно! Ребятки, помогите, корову что-то укуси...</td>\n",
              "      <td>[]</td>\n",
              "    </tr>\n",
              "    <tr>\n",
              "      <th>4</th>\n",
              "      <td>298</td>\n",
              "      <td>Сгустки у коровы.\\nЗдравствуйте, помогите пожа...</td>\n",
              "      <td>[]</td>\n",
              "    </tr>\n",
              "    <tr>\n",
              "      <th>...</th>\n",
              "      <td>...</td>\n",
              "      <td>...</td>\n",
              "      <td>...</td>\n",
              "    </tr>\n",
              "    <tr>\n",
              "      <th>94</th>\n",
              "      <td>388</td>\n",
              "      <td>Большой бык уже неделю поносит, чем помочь?\\nП...</td>\n",
              "      <td>[]</td>\n",
              "    </tr>\n",
              "    <tr>\n",
              "      <th>95</th>\n",
              "      <td>389</td>\n",
              "      <td>Как запустить желудок у коровы?\\nУ меня объела...</td>\n",
              "      <td>[]</td>\n",
              "    </tr>\n",
              "    <tr>\n",
              "      <th>96</th>\n",
              "      <td>390</td>\n",
              "      <td>Здрав твуйте, искал похожий случай в темах фор...</td>\n",
              "      <td>[]</td>\n",
              "    </tr>\n",
              "    <tr>\n",
              "      <th>97</th>\n",
              "      <td>391</td>\n",
              "      <td>После отела у коровы ,не отошел послед и было ...</td>\n",
              "      <td>[]</td>\n",
              "    </tr>\n",
              "    <tr>\n",
              "      <th>98</th>\n",
              "      <td>392</td>\n",
              "      <td>Здравствуйте. Чем лечить понос у телёнка? Телё...</td>\n",
              "      <td>[]</td>\n",
              "    </tr>\n",
              "  </tbody>\n",
              "</table>\n",
              "<p>99 rows × 3 columns</p>\n",
              "</div>"
            ],
            "text/plain": [
              "    text_id                                               text list\n",
              "0       294  Понос у месячных телят. Подскажите методы и сп...   []\n",
              "1       295  Понос у телят, чем лечить? \\nЧем можно вылечит...   []\n",
              "2       296  По какой причине у телёнка отнимаются ноги?\\nП...   []\n",
              "3       297  Срочно! Ребятки, помогите, корову что-то укуси...   []\n",
              "4       298  Сгустки у коровы.\\nЗдравствуйте, помогите пожа...   []\n",
              "..      ...                                                ...  ...\n",
              "94      388  Большой бык уже неделю поносит, чем помочь?\\nП...   []\n",
              "95      389  Как запустить желудок у коровы?\\nУ меня объела...   []\n",
              "96      390  Здрав твуйте, искал похожий случай в темах фор...   []\n",
              "97      391  После отела у коровы ,не отошел послед и было ...   []\n",
              "98      392  Здравствуйте. Чем лечить понос у телёнка? Телё...   []\n",
              "\n",
              "[99 rows x 3 columns]"
            ]
          },
          "metadata": {},
          "execution_count": 58
        }
      ]
    },
    {
      "cell_type": "code",
      "metadata": {
        "colab": {
          "base_uri": "https://localhost:8080/",
          "height": 103
        },
        "id": "kEUWxeIgMwRO",
        "outputId": "0d6dd5d2-07f9-4d8d-9e98-db8dddcdb595"
      },
      "source": [
        "test.text[1]"
      ],
      "execution_count": 69,
      "outputs": [
        {
          "output_type": "execute_result",
          "data": {
            "application/vnd.google.colaboratory.intrinsic+json": {
              "type": "string"
            },
            "text/plain": [
              "'Понос у телят, чем лечить? \\nЧем можно вылечить понос 1,5 месячного телёнка в домашних условиях?\\nВетврача у нас нет! Есть лекарство Детрим. Но может быть ещё что-то необходимо? Телёнок месяц сосал корову, потом пил молоко (2 литра за раз).\\nВ чём причина? И сколько нужно давать пойла? Только молоко или ещё с чем то смешивать?\\nЕщё темы про понос у телят:\\nУ телёнка понос с кровью, чем лечить?\\nПомогите остановить понос у 10 дневного телёнка\\nПонос у месячных телят\\nПри поносе у тёлочки может дать геркулесовую кашу?\\nУ телёнка жидкий стул с кровью\\nТелёнок стал поносить, что это и как остановить понос?\\nРотавирусная инфекция телят\\nСовет тем, кто выпаивает телят\\nДиспепсия новорожденных у сельскохозяйственных животных\\nКоронавирусный энтерит телят\\nТелёнок плохо встаёт и ест после лечения поноса'"
            ]
          },
          "metadata": {},
          "execution_count": 69
        }
      ]
    },
    {
      "cell_type": "code",
      "metadata": {
        "id": "jEzXBhIzK3Js"
      },
      "source": [
        "import re\n",
        "def find_spans(string):\n",
        "    spans = []\n",
        "    for word in span_words:\n",
        "        if len(word) > 3:\n",
        "            for match in re.finditer(word, string):\n",
        "                spans.append([match.span()[0], match.span()[1]])\n",
        "                # print(match.span())\n",
        "                # print(word, string[match.span()[0]:match.span()[1]])\n",
        "\n",
        "    return spans"
      ],
      "execution_count": 79,
      "outputs": []
    },
    {
      "cell_type": "code",
      "metadata": {
        "colab": {
          "base_uri": "https://localhost:8080/"
        },
        "id": "h7afla5LNgPV",
        "outputId": "86cc6d56-e2af-44ec-ccb7-8a99d9aed617"
      },
      "source": [
        "find_spans(test.text[1])"
      ],
      "execution_count": 80,
      "outputs": [
        {
          "output_type": "execute_result",
          "data": {
            "text/plain": [
              "[[47, 52],\n",
              " [339, 344],\n",
              " [364, 369],\n",
              " [412, 417],\n",
              " [467, 472],\n",
              " [558, 563],\n",
              " [593, 598],\n",
              " [785, 790],\n",
              " [142, 147],\n",
              " [484, 489],\n",
              " [558, 565],\n",
              " [558, 566],\n",
              " [531, 535],\n",
              " [752, 757],\n",
              " [553, 557],\n",
              " [214, 220],\n",
              " [291, 297],\n",
              " [372, 378],\n",
              " [538, 544],\n",
              " [524, 530],\n",
              " [785, 791],\n",
              " [753, 757]]"
            ]
          },
          "metadata": {},
          "execution_count": 80
        }
      ]
    },
    {
      "cell_type": "code",
      "metadata": {
        "id": "wsQ7MFjdNhFU"
      },
      "source": [
        ""
      ],
      "execution_count": null,
      "outputs": []
    }
  ]
}